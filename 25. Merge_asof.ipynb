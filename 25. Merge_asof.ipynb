{
 "cells": [
  {
   "cell_type": "markdown",
   "id": "12c15973",
   "metadata": {},
   "source": [
    "   # Merge_asof\n",
    "   1. 숫자나 날짜형 데이터만 가능하다.\n",
    "   2. 1의 데이터가 오름차순으로 정렬이 되어있어야한다."
   ]
  },
  {
   "cell_type": "code",
   "execution_count": 45,
   "id": "f627380c",
   "metadata": {},
   "outputs": [],
   "source": [
    "import pandas as pd\n",
    "df1 = pd.DataFrame([[\"송중기\", 92], [\"권보아\", 89], [\"김나현\", 71], [\"박효신\", 90]],\n",
    "                    columns=[\"이름\", \"점수\"])\n",
    "df2 = pd.DataFrame([[\"A\", 90], [\"B\", 80], [\"C\", 0]], columns=[\"학점\", \"점수\"])\n",
    "df3 = pd.DataFrame([[\"A\", 100], [\"B\", 90], [\"C\", 80]], columns=[\"학점\", \"점수\"])\n",
    "df4 = pd.DataFrame([[\"A\", 95], [\"B\", 85], [\"C\", 75]], columns=[\"학점\", \"점수\"])\n",
    "df5 = pd.DataFrame([[90, \"lucky\"], [80, \"lucky\"]], columns=[\"점수\", \"구분\"])\n",
    "t1 = [\"2021-02-11\", \"2021-02-12\", \"2021-09-21\", \"2021-09-22\", \"2021-09-23\"]\n",
    "df6 = pd.DataFrame([t1], index=[\"날짜\"]).T\n",
    "df7 = pd.DataFrame([[\"2021-02-12\", \"설날\"], [\"2021-09-21\", \"추석\"]], \n",
    "                   columns=[\"날짜\", \"내용\"])\n",
    "df6[\"날짜\"] = pd.to_datetime(df6[\"날짜\"])\n",
    "df7[\"날짜\"] = pd.to_datetime(df7[\"날짜\"])\n",
    "df8 = pd.DataFrame([[\"송중기\", \"국어\", 99], [\"송중기\", \"영어\", 72], \n",
    "                    [\"권보아\", \"국어\", 92], [\"권보아\", \"영어\", 92]], \n",
    "                   columns=[\"이름\", \"과목\", \"점수\"])\n",
    "df9 = pd.DataFrame([[90, \"A\", \"국어\"], [0, \"B\", \"국어\"], [95, \"A\", \"영어\"], \n",
    "                    [0, \"B\", \"영어\"]], columns=[\"점수\", \"학점\", \"과목\"])"
   ]
  },
  {
   "cell_type": "markdown",
   "id": "7976c09d",
   "metadata": {},
   "source": [
    "# 2. 경계값의 처리"
   ]
  },
  {
   "cell_type": "code",
   "execution_count": 28,
   "id": "105386ec",
   "metadata": {},
   "outputs": [
    {
     "data": {
      "text/html": [
       "<div>\n",
       "<style scoped>\n",
       "    .dataframe tbody tr th:only-of-type {\n",
       "        vertical-align: middle;\n",
       "    }\n",
       "\n",
       "    .dataframe tbody tr th {\n",
       "        vertical-align: top;\n",
       "    }\n",
       "\n",
       "    .dataframe thead th {\n",
       "        text-align: right;\n",
       "    }\n",
       "</style>\n",
       "<table border=\"1\" class=\"dataframe\">\n",
       "  <thead>\n",
       "    <tr style=\"text-align: right;\">\n",
       "      <th></th>\n",
       "      <th>이름</th>\n",
       "      <th>점수</th>\n",
       "      <th>학점</th>\n",
       "    </tr>\n",
       "  </thead>\n",
       "  <tbody>\n",
       "    <tr>\n",
       "      <th>0</th>\n",
       "      <td>김나현</td>\n",
       "      <td>71</td>\n",
       "      <td>C</td>\n",
       "    </tr>\n",
       "    <tr>\n",
       "      <th>1</th>\n",
       "      <td>권보아</td>\n",
       "      <td>89</td>\n",
       "      <td>B</td>\n",
       "    </tr>\n",
       "    <tr>\n",
       "      <th>2</th>\n",
       "      <td>박효신</td>\n",
       "      <td>90</td>\n",
       "      <td>B</td>\n",
       "    </tr>\n",
       "    <tr>\n",
       "      <th>3</th>\n",
       "      <td>송중기</td>\n",
       "      <td>92</td>\n",
       "      <td>A</td>\n",
       "    </tr>\n",
       "  </tbody>\n",
       "</table>\n",
       "</div>"
      ],
      "text/plain": [
       "    이름  점수 학점\n",
       "0  김나현  71  C\n",
       "1  권보아  89  B\n",
       "2  박효신  90  B\n",
       "3  송중기  92  A"
      ]
     },
     "execution_count": 28,
     "metadata": {},
     "output_type": "execute_result"
    }
   ],
   "source": [
    "df1= df1.sort_values(\"점수\")\n",
    "df2= df2.sort_values(\"점수\")\n",
    "pd.merge_asof(df1, df2, allow_exact_matches = False)\n",
    "\n",
    "# allow_exact_matches는 경계값의 처리이다. 이상과 초과..90이 B가 되었다."
   ]
  },
  {
   "cell_type": "markdown",
   "id": "4d4854df",
   "metadata": {},
   "source": [
    "# 3. 하한선과 상한선"
   ]
  },
  {
   "cell_type": "code",
   "execution_count": 29,
   "id": "0731087c",
   "metadata": {},
   "outputs": [
    {
     "data": {
      "text/html": [
       "<div>\n",
       "<style scoped>\n",
       "    .dataframe tbody tr th:only-of-type {\n",
       "        vertical-align: middle;\n",
       "    }\n",
       "\n",
       "    .dataframe tbody tr th {\n",
       "        vertical-align: top;\n",
       "    }\n",
       "\n",
       "    .dataframe thead th {\n",
       "        text-align: right;\n",
       "    }\n",
       "</style>\n",
       "<table border=\"1\" class=\"dataframe\">\n",
       "  <thead>\n",
       "    <tr style=\"text-align: right;\">\n",
       "      <th></th>\n",
       "      <th>이름</th>\n",
       "      <th>점수</th>\n",
       "      <th>학점</th>\n",
       "    </tr>\n",
       "  </thead>\n",
       "  <tbody>\n",
       "    <tr>\n",
       "      <th>0</th>\n",
       "      <td>김나현</td>\n",
       "      <td>71</td>\n",
       "      <td>C</td>\n",
       "    </tr>\n",
       "    <tr>\n",
       "      <th>1</th>\n",
       "      <td>권보아</td>\n",
       "      <td>89</td>\n",
       "      <td>B</td>\n",
       "    </tr>\n",
       "    <tr>\n",
       "      <th>2</th>\n",
       "      <td>박효신</td>\n",
       "      <td>90</td>\n",
       "      <td>A</td>\n",
       "    </tr>\n",
       "    <tr>\n",
       "      <th>3</th>\n",
       "      <td>송중기</td>\n",
       "      <td>92</td>\n",
       "      <td>A</td>\n",
       "    </tr>\n",
       "  </tbody>\n",
       "</table>\n",
       "</div>"
      ],
      "text/plain": [
       "    이름  점수 학점\n",
       "0  김나현  71  C\n",
       "1  권보아  89  B\n",
       "2  박효신  90  A\n",
       "3  송중기  92  A"
      ]
     },
     "execution_count": 29,
     "metadata": {},
     "output_type": "execute_result"
    }
   ],
   "source": [
    "df1= df1.sort_values(\"점수\")\n",
    "df3= df3.sort_values(\"점수\")\n",
    "pd.merge_asof(df1, df3, direction = \"forward\", allow_exact_matches = False)\n",
    "\n",
    "# 100점이 A의 하한선으로 놓고 붙여준다.\n",
    "# backward는 하한선\n",
    "# forward는 상한선\n",
    "# nearest는 중간"
   ]
  },
  {
   "cell_type": "markdown",
   "id": "670b412e",
   "metadata": {},
   "source": [
    "# 4. 근사값의 처리 범위"
   ]
  },
  {
   "cell_type": "code",
   "execution_count": 33,
   "id": "133143c1",
   "metadata": {},
   "outputs": [
    {
     "data": {
      "text/html": [
       "<div>\n",
       "<style scoped>\n",
       "    .dataframe tbody tr th:only-of-type {\n",
       "        vertical-align: middle;\n",
       "    }\n",
       "\n",
       "    .dataframe tbody tr th {\n",
       "        vertical-align: top;\n",
       "    }\n",
       "\n",
       "    .dataframe thead th {\n",
       "        text-align: right;\n",
       "    }\n",
       "</style>\n",
       "<table border=\"1\" class=\"dataframe\">\n",
       "  <thead>\n",
       "    <tr style=\"text-align: right;\">\n",
       "      <th></th>\n",
       "      <th>이름</th>\n",
       "      <th>점수</th>\n",
       "      <th>학점</th>\n",
       "      <th>구분</th>\n",
       "    </tr>\n",
       "  </thead>\n",
       "  <tbody>\n",
       "    <tr>\n",
       "      <th>0</th>\n",
       "      <td>김나현</td>\n",
       "      <td>71</td>\n",
       "      <td>C</td>\n",
       "      <td>NaN</td>\n",
       "    </tr>\n",
       "    <tr>\n",
       "      <th>1</th>\n",
       "      <td>권보아</td>\n",
       "      <td>89</td>\n",
       "      <td>B</td>\n",
       "      <td>NaN</td>\n",
       "    </tr>\n",
       "    <tr>\n",
       "      <th>2</th>\n",
       "      <td>박효신</td>\n",
       "      <td>90</td>\n",
       "      <td>A</td>\n",
       "      <td>lucky</td>\n",
       "    </tr>\n",
       "    <tr>\n",
       "      <th>3</th>\n",
       "      <td>송중기</td>\n",
       "      <td>92</td>\n",
       "      <td>A</td>\n",
       "      <td>NaN</td>\n",
       "    </tr>\n",
       "  </tbody>\n",
       "</table>\n",
       "</div>"
      ],
      "text/plain": [
       "    이름  점수 학점     구분\n",
       "0  김나현  71  C    NaN\n",
       "1  권보아  89  B    NaN\n",
       "2  박효신  90  A  lucky\n",
       "3  송중기  92  A    NaN"
      ]
     },
     "execution_count": 33,
     "metadata": {},
     "output_type": "execute_result"
    }
   ],
   "source": [
    "df1= df1.sort_values(\"점수\")\n",
    "df5= df5.sort_values(\"점수\")\n",
    "pd.merge_asof(pd.merge_asof(df1, df2), df5, tolerance = 1)"
   ]
  },
  {
   "cell_type": "code",
   "execution_count": 39,
   "id": "8a2f8076",
   "metadata": {},
   "outputs": [
    {
     "data": {
      "text/html": [
       "<div>\n",
       "<style scoped>\n",
       "    .dataframe tbody tr th:only-of-type {\n",
       "        vertical-align: middle;\n",
       "    }\n",
       "\n",
       "    .dataframe tbody tr th {\n",
       "        vertical-align: top;\n",
       "    }\n",
       "\n",
       "    .dataframe thead th {\n",
       "        text-align: right;\n",
       "    }\n",
       "</style>\n",
       "<table border=\"1\" class=\"dataframe\">\n",
       "  <thead>\n",
       "    <tr style=\"text-align: right;\">\n",
       "      <th></th>\n",
       "      <th>날짜</th>\n",
       "      <th>내용</th>\n",
       "    </tr>\n",
       "  </thead>\n",
       "  <tbody>\n",
       "    <tr>\n",
       "      <th>0</th>\n",
       "      <td>2021-02-11</td>\n",
       "      <td>설날</td>\n",
       "    </tr>\n",
       "    <tr>\n",
       "      <th>1</th>\n",
       "      <td>2021-02-12</td>\n",
       "      <td>설날</td>\n",
       "    </tr>\n",
       "    <tr>\n",
       "      <th>2</th>\n",
       "      <td>2021-09-21</td>\n",
       "      <td>추석</td>\n",
       "    </tr>\n",
       "    <tr>\n",
       "      <th>3</th>\n",
       "      <td>2021-09-22</td>\n",
       "      <td>추석</td>\n",
       "    </tr>\n",
       "    <tr>\n",
       "      <th>4</th>\n",
       "      <td>2021-09-23</td>\n",
       "      <td>추석</td>\n",
       "    </tr>\n",
       "  </tbody>\n",
       "</table>\n",
       "</div>"
      ],
      "text/plain": [
       "          날짜  내용\n",
       "0 2021-02-11  설날\n",
       "1 2021-02-12  설날\n",
       "2 2021-09-21  추석\n",
       "3 2021-09-22  추석\n",
       "4 2021-09-23  추석"
      ]
     },
     "execution_count": 39,
     "metadata": {},
     "output_type": "execute_result"
    }
   ],
   "source": [
    "df6= df6.sort_values(\"날짜\")\n",
    "df7= df7.sort_values(\"날짜\")\n",
    "pd.merge_asof(df6, df7, direction = \"nearest\", tolerance = pd.Timedelta('2d'))\n",
    "\n",
    "# df6처럼 시계열이터가 쭉있는 raw데이터에서 df7처럼 마킹하고 싶은 날짜를 정하고 그 근처의 날짜만 마킹할 수 있다."
   ]
  },
  {
   "cell_type": "markdown",
   "id": "02c5a154",
   "metadata": {},
   "source": [
    "# 5. 다중요건 상황의 근사값 merge"
   ]
  },
  {
   "cell_type": "code",
   "execution_count": 41,
   "id": "879c4b97",
   "metadata": {},
   "outputs": [
    {
     "data": {
      "text/html": [
       "<div>\n",
       "<style scoped>\n",
       "    .dataframe tbody tr th:only-of-type {\n",
       "        vertical-align: middle;\n",
       "    }\n",
       "\n",
       "    .dataframe tbody tr th {\n",
       "        vertical-align: top;\n",
       "    }\n",
       "\n",
       "    .dataframe thead th {\n",
       "        text-align: right;\n",
       "    }\n",
       "</style>\n",
       "<table border=\"1\" class=\"dataframe\">\n",
       "  <thead>\n",
       "    <tr style=\"text-align: right;\">\n",
       "      <th></th>\n",
       "      <th>점수</th>\n",
       "      <th>학점</th>\n",
       "      <th>과목</th>\n",
       "    </tr>\n",
       "  </thead>\n",
       "  <tbody>\n",
       "    <tr>\n",
       "      <th>0</th>\n",
       "      <td>90</td>\n",
       "      <td>A</td>\n",
       "      <td>국어</td>\n",
       "    </tr>\n",
       "    <tr>\n",
       "      <th>1</th>\n",
       "      <td>0</td>\n",
       "      <td>B</td>\n",
       "      <td>국어</td>\n",
       "    </tr>\n",
       "    <tr>\n",
       "      <th>2</th>\n",
       "      <td>95</td>\n",
       "      <td>A</td>\n",
       "      <td>영어</td>\n",
       "    </tr>\n",
       "    <tr>\n",
       "      <th>3</th>\n",
       "      <td>0</td>\n",
       "      <td>B</td>\n",
       "      <td>영어</td>\n",
       "    </tr>\n",
       "  </tbody>\n",
       "</table>\n",
       "</div>"
      ],
      "text/plain": [
       "   점수 학점  과목\n",
       "0  90  A  국어\n",
       "1   0  B  국어\n",
       "2  95  A  영어\n",
       "3   0  B  영어"
      ]
     },
     "execution_count": 41,
     "metadata": {},
     "output_type": "execute_result"
    }
   ],
   "source": [
    "df9\n",
    "# 과목마다 학점이 다르다. 다중요건 "
   ]
  },
  {
   "cell_type": "code",
   "execution_count": 48,
   "id": "904fe1ed",
   "metadata": {},
   "outputs": [
    {
     "data": {
      "text/html": [
       "<div>\n",
       "<style scoped>\n",
       "    .dataframe tbody tr th:only-of-type {\n",
       "        vertical-align: middle;\n",
       "    }\n",
       "\n",
       "    .dataframe tbody tr th {\n",
       "        vertical-align: top;\n",
       "    }\n",
       "\n",
       "    .dataframe thead th {\n",
       "        text-align: right;\n",
       "    }\n",
       "</style>\n",
       "<table border=\"1\" class=\"dataframe\">\n",
       "  <thead>\n",
       "    <tr style=\"text-align: right;\">\n",
       "      <th></th>\n",
       "      <th>이름</th>\n",
       "      <th>과목</th>\n",
       "      <th>점수</th>\n",
       "      <th>학점</th>\n",
       "    </tr>\n",
       "  </thead>\n",
       "  <tbody>\n",
       "    <tr>\n",
       "      <th>0</th>\n",
       "      <td>송중기</td>\n",
       "      <td>영어</td>\n",
       "      <td>72</td>\n",
       "      <td>B</td>\n",
       "    </tr>\n",
       "    <tr>\n",
       "      <th>1</th>\n",
       "      <td>권보아</td>\n",
       "      <td>국어</td>\n",
       "      <td>92</td>\n",
       "      <td>A</td>\n",
       "    </tr>\n",
       "    <tr>\n",
       "      <th>2</th>\n",
       "      <td>권보아</td>\n",
       "      <td>영어</td>\n",
       "      <td>92</td>\n",
       "      <td>B</td>\n",
       "    </tr>\n",
       "    <tr>\n",
       "      <th>3</th>\n",
       "      <td>송중기</td>\n",
       "      <td>국어</td>\n",
       "      <td>99</td>\n",
       "      <td>A</td>\n",
       "    </tr>\n",
       "  </tbody>\n",
       "</table>\n",
       "</div>"
      ],
      "text/plain": [
       "    이름  과목  점수 학점\n",
       "0  송중기  영어  72  B\n",
       "1  권보아  국어  92  A\n",
       "2  권보아  영어  92  B\n",
       "3  송중기  국어  99  A"
      ]
     },
     "execution_count": 48,
     "metadata": {},
     "output_type": "execute_result"
    }
   ],
   "source": [
    "df8= df8.sort_values(\"점수\")\n",
    "df9= df9.sort_values(\"점수\")\n",
    "pd.merge_asof(df8, df9, on = \"점수\", by=\"과목\")\n",
    "\n",
    "# on은 근사시킬 열... 엄청 강력하다."
   ]
  },
  {
   "cell_type": "code",
   "execution_count": null,
   "id": "d9414fca",
   "metadata": {},
   "outputs": [],
   "source": []
  },
  {
   "cell_type": "code",
   "execution_count": null,
   "id": "6c33e905",
   "metadata": {},
   "outputs": [],
   "source": []
  }
 ],
 "metadata": {
  "kernelspec": {
   "display_name": "Python 3 (ipykernel)",
   "language": "python",
   "name": "python3"
  },
  "language_info": {
   "codemirror_mode": {
    "name": "ipython",
    "version": 3
   },
   "file_extension": ".py",
   "mimetype": "text/x-python",
   "name": "python",
   "nbconvert_exporter": "python",
   "pygments_lexer": "ipython3",
   "version": "3.10.9"
  }
 },
 "nbformat": 4,
 "nbformat_minor": 5
}
