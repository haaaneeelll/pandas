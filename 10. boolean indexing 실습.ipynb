{
 "cells": [
  {
   "cell_type": "code",
   "execution_count": 3,
   "id": "e9a1f7c3",
   "metadata": {},
   "outputs": [],
   "source": [
    "import pandas as pd"
   ]
  },
  {
   "cell_type": "code",
   "execution_count": 25,
   "id": "e7b9f9cd",
   "metadata": {},
   "outputs": [
    {
     "data": {
      "text/html": [
       "<div>\n",
       "<style scoped>\n",
       "    .dataframe tbody tr th:only-of-type {\n",
       "        vertical-align: middle;\n",
       "    }\n",
       "\n",
       "    .dataframe tbody tr th {\n",
       "        vertical-align: top;\n",
       "    }\n",
       "\n",
       "    .dataframe thead th {\n",
       "        text-align: right;\n",
       "    }\n",
       "</style>\n",
       "<table border=\"1\" class=\"dataframe\">\n",
       "  <thead>\n",
       "    <tr style=\"text-align: right;\">\n",
       "      <th></th>\n",
       "      <th>이름</th>\n",
       "      <th>강의</th>\n",
       "      <th>전화번호</th>\n",
       "    </tr>\n",
       "  </thead>\n",
       "  <tbody>\n",
       "    <tr>\n",
       "      <th>0</th>\n",
       "      <td>박선준</td>\n",
       "      <td>한국사</td>\n",
       "      <td>010-6138-6625</td>\n",
       "    </tr>\n",
       "    <tr>\n",
       "      <th>1</th>\n",
       "      <td>배성일</td>\n",
       "      <td>일본사</td>\n",
       "      <td>010-2901-3320</td>\n",
       "    </tr>\n",
       "    <tr>\n",
       "      <th>2</th>\n",
       "      <td>김민석</td>\n",
       "      <td>중국사</td>\n",
       "      <td>010-5132-3850</td>\n",
       "    </tr>\n",
       "    <tr>\n",
       "      <th>3</th>\n",
       "      <td>류승국</td>\n",
       "      <td>영국사</td>\n",
       "      <td>010-5328-6048</td>\n",
       "    </tr>\n",
       "    <tr>\n",
       "      <th>4</th>\n",
       "      <td>서재경</td>\n",
       "      <td>한국사</td>\n",
       "      <td>010-4269-7439</td>\n",
       "    </tr>\n",
       "    <tr>\n",
       "      <th>...</th>\n",
       "      <td>...</td>\n",
       "      <td>...</td>\n",
       "      <td>...</td>\n",
       "    </tr>\n",
       "    <tr>\n",
       "      <th>195</th>\n",
       "      <td>김기천</td>\n",
       "      <td>영국사</td>\n",
       "      <td>010-4857-8353</td>\n",
       "    </tr>\n",
       "    <tr>\n",
       "      <th>196</th>\n",
       "      <td>류수영</td>\n",
       "      <td>한국사</td>\n",
       "      <td>010-2637-9031</td>\n",
       "    </tr>\n",
       "    <tr>\n",
       "      <th>197</th>\n",
       "      <td>김민교</td>\n",
       "      <td>한국사</td>\n",
       "      <td>010-5221-2880</td>\n",
       "    </tr>\n",
       "    <tr>\n",
       "      <th>198</th>\n",
       "      <td>배성종</td>\n",
       "      <td>중국사</td>\n",
       "      <td>010-5220-6744</td>\n",
       "    </tr>\n",
       "    <tr>\n",
       "      <th>199</th>\n",
       "      <td>김동현</td>\n",
       "      <td>유럽사</td>\n",
       "      <td>010-7826-3027</td>\n",
       "    </tr>\n",
       "  </tbody>\n",
       "</table>\n",
       "<p>200 rows × 3 columns</p>\n",
       "</div>"
      ],
      "text/plain": [
       "      이름   강의           전화번호\n",
       "0    박선준  한국사  010-6138-6625\n",
       "1    배성일  일본사  010-2901-3320\n",
       "2    김민석  중국사  010-5132-3850\n",
       "3    류승국  영국사  010-5328-6048\n",
       "4    서재경  한국사  010-4269-7439\n",
       "..   ...  ...            ...\n",
       "195  김기천  영국사  010-4857-8353\n",
       "196  류수영  한국사  010-2637-9031\n",
       "197  김민교  한국사  010-5221-2880\n",
       "198  배성종  중국사  010-5220-6744\n",
       "199  김동현  유럽사  010-7826-3027\n",
       "\n",
       "[200 rows x 3 columns]"
      ]
     },
     "execution_count": 25,
     "metadata": {},
     "output_type": "execute_result"
    }
   ],
   "source": [
    "df1= pd.read_excel(\"/Users/haneul/Desktop/실습/E12EXAMPLE.xlsx\")\n",
    "df1"
   ]
  },
  {
   "cell_type": "code",
   "execution_count": 28,
   "id": "f7540f51",
   "metadata": {},
   "outputs": [],
   "source": [
    "pdf = df1.pivot_table(\"이름\", index= \"강의\",  aggfunc= \"count\")\n",
    "# values는 aggfunc를 따라가기 때문에 아무거나 해도 된다.\n",
    "# 컬럼이 없으면 안해도된다.                      "
   ]
  },
  {
   "cell_type": "code",
   "execution_count": 35,
   "id": "e73329d3",
   "metadata": {},
   "outputs": [
    {
     "data": {
      "text/plain": [
       "Index(['근대사', '유럽사', '일본사'], dtype='object', name='강의')"
      ]
     },
     "execution_count": 35,
     "metadata": {},
     "output_type": "execute_result"
    }
   ],
   "source": [
    "a1 = pdf.loc[pdf[\"이름\"] < 10].index\n",
    "a1"
   ]
  },
  {
   "cell_type": "code",
   "execution_count": 34,
   "id": "234a0a9b",
   "metadata": {},
   "outputs": [
    {
     "data": {
      "text/html": [
       "<div>\n",
       "<style scoped>\n",
       "    .dataframe tbody tr th:only-of-type {\n",
       "        vertical-align: middle;\n",
       "    }\n",
       "\n",
       "    .dataframe tbody tr th {\n",
       "        vertical-align: top;\n",
       "    }\n",
       "\n",
       "    .dataframe thead th {\n",
       "        text-align: right;\n",
       "    }\n",
       "</style>\n",
       "<table border=\"1\" class=\"dataframe\">\n",
       "  <thead>\n",
       "    <tr style=\"text-align: right;\">\n",
       "      <th></th>\n",
       "      <th>이름</th>\n",
       "      <th>강의</th>\n",
       "      <th>전화번호</th>\n",
       "    </tr>\n",
       "  </thead>\n",
       "  <tbody>\n",
       "    <tr>\n",
       "      <th>1</th>\n",
       "      <td>배성일</td>\n",
       "      <td>일본사</td>\n",
       "      <td>010-2901-3320</td>\n",
       "    </tr>\n",
       "    <tr>\n",
       "      <th>7</th>\n",
       "      <td>문웅기</td>\n",
       "      <td>유럽사</td>\n",
       "      <td>010-7250-9991</td>\n",
       "    </tr>\n",
       "    <tr>\n",
       "      <th>192</th>\n",
       "      <td>박병철</td>\n",
       "      <td>근대사</td>\n",
       "      <td>010-8751-4652</td>\n",
       "    </tr>\n",
       "    <tr>\n",
       "      <th>199</th>\n",
       "      <td>김동현</td>\n",
       "      <td>유럽사</td>\n",
       "      <td>010-7826-3027</td>\n",
       "    </tr>\n",
       "  </tbody>\n",
       "</table>\n",
       "</div>"
      ],
      "text/plain": [
       "      이름   강의           전화번호\n",
       "1    배성일  일본사  010-2901-3320\n",
       "7    문웅기  유럽사  010-7250-9991\n",
       "192  박병철  근대사  010-8751-4652\n",
       "199  김동현  유럽사  010-7826-3027"
      ]
     },
     "execution_count": 34,
     "metadata": {},
     "output_type": "execute_result"
    }
   ],
   "source": [
    "df1.loc[df1[\"강의\"].isin(a1)]\n",
    "# 위의 인덱싱한 값인 '근대사','유럽사', '일본사'에 해당하는 값을 출력한다. \n",
    "# 그방식은 해당하는 값만 true로 나와서 불리언인덱싱을 쓸 수 있다."
   ]
  }
 ],
 "metadata": {
  "kernelspec": {
   "display_name": "Python 3 (ipykernel)",
   "language": "python",
   "name": "python3"
  },
  "language_info": {
   "codemirror_mode": {
    "name": "ipython",
    "version": 3
   },
   "file_extension": ".py",
   "mimetype": "text/x-python",
   "name": "python",
   "nbconvert_exporter": "python",
   "pygments_lexer": "ipython3",
   "version": "3.10.9"
  }
 },
 "nbformat": 4,
 "nbformat_minor": 5
}
