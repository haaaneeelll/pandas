<?xml version="1.0" encoding="UTF-8"?>
<!DOCTYPE plist PUBLIC "-//Apple//DTD PLIST 1.0//EN" "http://www.apple.com/DTDs/PropertyList-1.0.dtd">
<plist version="1.0">
<dict>
	<key>URL</key>
	<string>http://localhost:8890/notebooks/Untitled%20Folder/index%EC%82%AC%EC%9A%A9%ED%95%B4%EC%84%9C%20%08%EC%97%91%EC%85%80%20%EC%B2%AD%EC%86%8C%ED%95%98%EA%B8%B0.ipynb</string>
</dict>
</plist>
