{
 "cells": [
  {
   "cell_type": "code",
   "execution_count": 151,
   "id": "4a8c4fe7",
   "metadata": {},
   "outputs": [],
   "source": [
    "# 판다스를 사용하여 텍스트 데이터셋에 존재하는 모든 종류의 불완전성을 개선하는 방법을 살펴본다\n",
    "import pandas as pd"
   ]
  },
  {
   "cell_type": "code",
   "execution_count": 152,
   "id": "1f613743",
   "metadata": {},
   "outputs": [
    {
     "data": {
      "text/html": [
       "<div>\n",
       "<style scoped>\n",
       "    .dataframe tbody tr th:only-of-type {\n",
       "        vertical-align: middle;\n",
       "    }\n",
       "\n",
       "    .dataframe tbody tr th {\n",
       "        vertical-align: top;\n",
       "    }\n",
       "\n",
       "    .dataframe thead th {\n",
       "        text-align: right;\n",
       "    }\n",
       "</style>\n",
       "<table border=\"1\" class=\"dataframe\">\n",
       "  <thead>\n",
       "    <tr style=\"text-align: right;\">\n",
       "      <th></th>\n",
       "      <th>Name</th>\n",
       "      <th>Risk</th>\n",
       "    </tr>\n",
       "  </thead>\n",
       "  <tbody>\n",
       "    <tr>\n",
       "      <th>0</th>\n",
       "      <td>MARRIOT MARQUIS CHICAGO</td>\n",
       "      <td>Risk 1 (High)</td>\n",
       "    </tr>\n",
       "    <tr>\n",
       "      <th>1</th>\n",
       "      <td>JETS PIZZA</td>\n",
       "      <td>Risk 2 (Medium)</td>\n",
       "    </tr>\n",
       "    <tr>\n",
       "      <th>2</th>\n",
       "      <td>ROOM 1520</td>\n",
       "      <td>Risk 3 (Low)</td>\n",
       "    </tr>\n",
       "    <tr>\n",
       "      <th>3</th>\n",
       "      <td>MARRIOT MARQUIS CHICAGO</td>\n",
       "      <td>Risk 1 (High)</td>\n",
       "    </tr>\n",
       "    <tr>\n",
       "      <th>4</th>\n",
       "      <td>CHARTWELLS</td>\n",
       "      <td>Risk 1 (High)</td>\n",
       "    </tr>\n",
       "    <tr>\n",
       "      <th>...</th>\n",
       "      <td>...</td>\n",
       "      <td>...</td>\n",
       "    </tr>\n",
       "    <tr>\n",
       "      <th>153805</th>\n",
       "      <td>WOLCOTT'S</td>\n",
       "      <td>Risk 1 (High)</td>\n",
       "    </tr>\n",
       "    <tr>\n",
       "      <th>153806</th>\n",
       "      <td>DUNKIN DONUTS/BASKIN-ROBBINS</td>\n",
       "      <td>Risk 2 (Medium)</td>\n",
       "    </tr>\n",
       "    <tr>\n",
       "      <th>153807</th>\n",
       "      <td>Cafe 608</td>\n",
       "      <td>Risk 1 (High)</td>\n",
       "    </tr>\n",
       "    <tr>\n",
       "      <th>153808</th>\n",
       "      <td>mr.daniel's</td>\n",
       "      <td>Risk 1 (High)</td>\n",
       "    </tr>\n",
       "    <tr>\n",
       "      <th>153809</th>\n",
       "      <td>TEMPO CAFE</td>\n",
       "      <td>Risk 1 (High)</td>\n",
       "    </tr>\n",
       "  </tbody>\n",
       "</table>\n",
       "<p>153810 rows × 2 columns</p>\n",
       "</div>"
      ],
      "text/plain": [
       "                                      Name             Risk\n",
       "0               MARRIOT MARQUIS CHICAGO       Risk 1 (High)\n",
       "1                              JETS PIZZA   Risk 2 (Medium)\n",
       "2                               ROOM 1520      Risk 3 (Low)\n",
       "3                MARRIOT MARQUIS CHICAGO      Risk 1 (High)\n",
       "4                            CHARTWELLS       Risk 1 (High)\n",
       "...                                    ...              ...\n",
       "153805                         WOLCOTT'S      Risk 1 (High)\n",
       "153806     DUNKIN DONUTS/BASKIN-ROBBINS     Risk 2 (Medium)\n",
       "153807                           Cafe 608     Risk 1 (High)\n",
       "153808                        mr.daniel's     Risk 1 (High)\n",
       "153809                         TEMPO CAFE     Risk 1 (High)\n",
       "\n",
       "[153810 rows x 2 columns]"
      ]
     },
     "execution_count": 152,
     "metadata": {},
     "output_type": "execute_result"
    }
   ],
   "source": [
    "inspections = pd.read_csv(\"chicago_food_inspections.csv\")\n",
    "inspections"
   ]
  },
  {
   "cell_type": "code",
   "execution_count": 153,
   "id": "a62d539d",
   "metadata": {},
   "outputs": [
    {
     "data": {
      "text/plain": [
       "0     MARRIOT MARQUIS CHICAGO   \n",
       "1                    JETS PIZZA \n",
       "2                     ROOM 1520 \n",
       "3      MARRIOT MARQUIS CHICAGO  \n",
       "4                  CHARTWELLS   \n",
       "Name: Name, dtype: object"
      ]
     },
     "execution_count": 153,
     "metadata": {},
     "output_type": "execute_result"
    }
   ],
   "source": [
    "inspections[\"Name\"].head()"
   ]
  },
  {
   "cell_type": "code",
   "execution_count": 154,
   "id": "b5acf8f2",
   "metadata": {},
   "outputs": [
    {
     "data": {
      "text/plain": [
       "array([' MARRIOT MARQUIS CHICAGO   ', ' JETS PIZZA ', '   ROOM 1520 ',\n",
       "       '  MARRIOT MARQUIS CHICAGO  ', ' CHARTWELLS   '], dtype=object)"
      ]
     },
     "execution_count": 154,
     "metadata": {},
     "output_type": "execute_result"
    }
   ],
   "source": [
    "# values 속성을 사용하면 저장된 넘파이 ndarray를 얻을 수 있다.\n",
    "inspections[\"Name\"].head().values"
   ]
  },
  {
   "cell_type": "code",
   "execution_count": 155,
   "id": "605bbf17",
   "metadata": {},
   "outputs": [
    {
     "data": {
      "text/plain": [
       "<pandas.core.strings.accessor.StringMethods at 0x168ad89a0>"
      ]
     },
     "execution_count": 155,
     "metadata": {},
     "output_type": "execute_result"
    }
   ],
   "source": [
    "inspections[\"Name\"].str"
   ]
  },
  {
   "cell_type": "code",
   "execution_count": 156,
   "id": "9ae7df14",
   "metadata": {},
   "outputs": [
    {
     "data": {
      "text/plain": [
       "'cheesecake '"
      ]
     },
     "execution_count": 156,
     "metadata": {},
     "output_type": "execute_result"
    }
   ],
   "source": [
    "dessert = \"  cheesecake \"\n",
    "dessert.lstrip()\n",
    "\n"
   ]
  },
  {
   "cell_type": "code",
   "execution_count": 157,
   "id": "4129417b",
   "metadata": {},
   "outputs": [
    {
     "data": {
      "text/plain": [
       "'  cheesecake'"
      ]
     },
     "execution_count": 157,
     "metadata": {},
     "output_type": "execute_result"
    }
   ],
   "source": [
    "dessert.rstrip()"
   ]
  },
  {
   "cell_type": "code",
   "execution_count": 158,
   "id": "96f30236",
   "metadata": {},
   "outputs": [
    {
     "data": {
      "text/plain": [
       "'cheesecake'"
      ]
     },
     "execution_count": 158,
     "metadata": {},
     "output_type": "execute_result"
    }
   ],
   "source": [
    "# 양쪽 끝에서 공백 제거\n",
    "dessert.strip()"
   ]
  },
  {
   "cell_type": "code",
   "execution_count": 159,
   "id": "aa89b8f2",
   "metadata": {},
   "outputs": [
    {
     "data": {
      "text/plain": [
       "0    MARRIOT MARQUIS CHICAGO   \n",
       "1                   JETS PIZZA \n",
       "2                    ROOM 1520 \n",
       "3     MARRIOT MARQUIS CHICAGO  \n",
       "4                 CHARTWELLS   \n",
       "Name: Name, dtype: object"
      ]
     },
     "execution_count": 159,
     "metadata": {},
     "output_type": "execute_result"
    }
   ],
   "source": [
    "inspections[\"Name\"].str.lstrip().head()"
   ]
  },
  {
   "cell_type": "code",
   "execution_count": 160,
   "id": "3ddfe5e0",
   "metadata": {},
   "outputs": [
    {
     "data": {
      "text/plain": [
       "0      MARRIOT MARQUIS CHICAGO\n",
       "1                   JETS PIZZA\n",
       "2                    ROOM 1520\n",
       "3      MARRIOT MARQUIS CHICAGO\n",
       "4                   CHARTWELLS\n",
       "Name: Name, dtype: object"
      ]
     },
     "execution_count": 160,
     "metadata": {},
     "output_type": "execute_result"
    }
   ],
   "source": [
    "inspections[\"Name\"].str.rstrip().head()"
   ]
  },
  {
   "cell_type": "code",
   "execution_count": 161,
   "id": "cc770fb6",
   "metadata": {},
   "outputs": [],
   "source": [
    "inspections[\"Name\"] = inspections[\"Name\"].str.strip()"
   ]
  },
  {
   "cell_type": "code",
   "execution_count": 162,
   "id": "c022d863",
   "metadata": {},
   "outputs": [
    {
     "data": {
      "text/plain": [
       "Index(['Name', 'Risk'], dtype='object')"
      ]
     },
     "execution_count": 162,
     "metadata": {},
     "output_type": "execute_result"
    }
   ],
   "source": [
    "inspections.columns"
   ]
  },
  {
   "cell_type": "code",
   "execution_count": 163,
   "id": "1935c5ed",
   "metadata": {},
   "outputs": [],
   "source": [
    "for column in inspections.columns:\n",
    "    inspections[column] = inspections[column].str.strip()"
   ]
  },
  {
   "cell_type": "code",
   "execution_count": 164,
   "id": "401ab0b2",
   "metadata": {},
   "outputs": [
    {
     "data": {
      "text/plain": [
       "0    marriot marquis chicago\n",
       "1                 jets pizza\n",
       "2                  room 1520\n",
       "3    marriot marquis chicago\n",
       "4                 chartwells\n",
       "Name: Name, dtype: object"
      ]
     },
     "execution_count": 164,
     "metadata": {},
     "output_type": "execute_result"
    }
   ],
   "source": [
    "inspections[\"Name\"].str.lower().head()"
   ]
  },
  {
   "cell_type": "code",
   "execution_count": 165,
   "id": "d7b0fa19",
   "metadata": {},
   "outputs": [
    {
     "data": {
      "text/plain": [
       "0     porterhouse\n",
       "1    filet mignon\n",
       "2          ribeye\n",
       "dtype: object"
      ]
     },
     "execution_count": 165,
     "metadata": {},
     "output_type": "execute_result"
    }
   ],
   "source": [
    "steaks = pd.Series([\"porterhouse\", \"filet mignon\", \"ribeye\"])\n",
    "steaks"
   ]
  },
  {
   "cell_type": "code",
   "execution_count": 166,
   "id": "a554c2e1",
   "metadata": {},
   "outputs": [
    {
     "data": {
      "text/plain": [
       "0     PORTERHOUSE\n",
       "1    FILET MIGNON\n",
       "2          RIBEYE\n",
       "dtype: object"
      ]
     },
     "execution_count": 166,
     "metadata": {},
     "output_type": "execute_result"
    }
   ],
   "source": [
    "steaks.str.upper()"
   ]
  },
  {
   "cell_type": "code",
   "execution_count": 167,
   "id": "e40d675c",
   "metadata": {},
   "outputs": [
    {
     "data": {
      "text/plain": [
       "0              Marriot marquis chicago\n",
       "1                           Jets pizza\n",
       "2                            Room 1520\n",
       "3              Marriot marquis chicago\n",
       "4                           Chartwells\n",
       "                      ...             \n",
       "153805                       Wolcott's\n",
       "153806    Dunkin donuts/baskin-robbins\n",
       "153807                        Cafe 608\n",
       "153808                     Mr.daniel's\n",
       "153809                      Tempo cafe\n",
       "Name: Name, Length: 153810, dtype: object"
      ]
     },
     "execution_count": 167,
     "metadata": {},
     "output_type": "execute_result"
    }
   ],
   "source": [
    "inspections[\"Name\"].str.capitalize()"
   ]
  },
  {
   "cell_type": "code",
   "execution_count": 168,
   "id": "2cace199",
   "metadata": {},
   "outputs": [
    {
     "data": {
      "text/plain": [
       "0              Marriot Marquis Chicago\n",
       "1                           Jets Pizza\n",
       "2                            Room 1520\n",
       "3              Marriot Marquis Chicago\n",
       "4                           Chartwells\n",
       "                      ...             \n",
       "153805                       Wolcott'S\n",
       "153806    Dunkin Donuts/Baskin-Robbins\n",
       "153807                        Cafe 608\n",
       "153808                     Mr.Daniel'S\n",
       "153809                      Tempo Cafe\n",
       "Name: Name, Length: 153810, dtype: object"
      ]
     },
     "execution_count": 168,
     "metadata": {},
     "output_type": "execute_result"
    }
   ],
   "source": [
    "# 각 단어의 첫 번째 문자를 대문자로 표기 \n",
    "inspections[\"Name\"].str.title()"
   ]
  },
  {
   "cell_type": "code",
   "execution_count": 169,
   "id": "fe0a395c",
   "metadata": {},
   "outputs": [
    {
     "data": {
      "text/plain": [
       "0      Risk 1 (High)\n",
       "1    Risk 2 (Medium)\n",
       "2       Risk 3 (Low)\n",
       "3      Risk 1 (High)\n",
       "4      Risk 1 (High)\n",
       "Name: Risk, dtype: object"
      ]
     },
     "execution_count": 169,
     "metadata": {},
     "output_type": "execute_result"
    }
   ],
   "source": [
    "inspections[\"Risk\"].head()"
   ]
  },
  {
   "cell_type": "code",
   "execution_count": 170,
   "id": "f8b23c1f",
   "metadata": {},
   "outputs": [
    {
     "data": {
      "text/plain": [
       "153810"
      ]
     },
     "execution_count": 170,
     "metadata": {},
     "output_type": "execute_result"
    }
   ],
   "source": [
    "# 과연 모든 행이 동일한 형식을 가질까?\n",
    "len(inspections)"
   ]
  },
  {
   "cell_type": "code",
   "execution_count": 171,
   "id": "d75b1eb9",
   "metadata": {},
   "outputs": [
    {
     "data": {
      "text/plain": [
       "array(['Risk 1 (High)', 'Risk 2 (Medium)', 'Risk 3 (Low)', 'All', nan],\n",
       "      dtype=object)"
      ]
     },
     "execution_count": 171,
     "metadata": {},
     "output_type": "execute_result"
    }
   ],
   "source": [
    "# 형식이 다른 두가지 값... Nan과 All 문자열이 있다.\n",
    "# 중요한 값인지 무시해도 되는 값인지 결정해야 한다.\n",
    "# 이 예제에서는 절충안으로 결측값 Nan은 제거하고, 'All'은 Risk4(Extreme)으로 다루겠다.\n",
    "inspections[\"Risk\"].unique()"
   ]
  },
  {
   "cell_type": "code",
   "execution_count": 172,
   "id": "7e1a49a1",
   "metadata": {},
   "outputs": [],
   "source": [
    "inspections = inspections.dropna(subset = [\"Risk\"])"
   ]
  },
  {
   "cell_type": "code",
   "execution_count": 173,
   "id": "12804afe",
   "metadata": {},
   "outputs": [
    {
     "data": {
      "text/plain": [
       "array(['Risk 1 (High)', 'Risk 2 (Medium)', 'Risk 3 (Low)', 'All'],\n",
       "      dtype=object)"
      ]
     },
     "execution_count": 173,
     "metadata": {},
     "output_type": "execute_result"
    }
   ],
   "source": [
    "inspections[\"Risk\"].unique()"
   ]
  },
  {
   "cell_type": "code",
   "execution_count": 174,
   "id": "579fe6e8",
   "metadata": {},
   "outputs": [],
   "source": [
    "# 첫 번째 매개변수인 to_replace로 검색할 값을 지정하고 두 번째 매개변수인 value로 각 항목을 대체할 항목을 지정한다.\n",
    "inspections = inspections.replace(\n",
    "            to_replace= \"All\", value = \"Risk 4 (Extreme)\"\n",
    "            )"
   ]
  },
  {
   "cell_type": "code",
   "execution_count": 175,
   "id": "c4cb7223",
   "metadata": {},
   "outputs": [
    {
     "data": {
      "text/plain": [
       "array(['Risk 1 (High)', 'Risk 2 (Medium)', 'Risk 3 (Low)',\n",
       "       'Risk 4 (Extreme)'], dtype=object)"
      ]
     },
     "execution_count": 175,
     "metadata": {},
     "output_type": "execute_result"
    }
   ],
   "source": [
    "inspections[\"Risk\"].unique()"
   ]
  },
  {
   "cell_type": "code",
   "execution_count": 176,
   "id": "24664c6d",
   "metadata": {},
   "outputs": [
    {
     "data": {
      "text/plain": [
       "0         1\n",
       "1         2\n",
       "2         3\n",
       "3         1\n",
       "4         1\n",
       "         ..\n",
       "153805    1\n",
       "153806    2\n",
       "153807    1\n",
       "153808    1\n",
       "153809    1\n",
       "Name: Risk, Length: 153744, dtype: object"
      ]
     },
     "execution_count": 176,
     "metadata": {},
     "output_type": "execute_result"
    }
   ],
   "source": [
    "inspections[\"Risk\"].str.slice(5,6)"
   ]
  },
  {
   "cell_type": "code",
   "execution_count": 177,
   "id": "4c44768a",
   "metadata": {},
   "outputs": [
    {
     "data": {
      "text/plain": [
       "0    1\n",
       "1    2\n",
       "2    3\n",
       "3    1\n",
       "4    1\n",
       "Name: Risk, dtype: object"
      ]
     },
     "execution_count": 177,
     "metadata": {},
     "output_type": "execute_result"
    }
   ],
   "source": [
    "inspections[\"Risk\"].str[5:6].head()"
   ]
  },
  {
   "cell_type": "code",
   "execution_count": 178,
   "id": "2872c732",
   "metadata": {},
   "outputs": [
    {
     "data": {
      "text/plain": [
       "0           High\n",
       "1         Medium\n",
       "2            Low\n",
       "3           High\n",
       "4           High\n",
       "           ...  \n",
       "153805      High\n",
       "153806    Medium\n",
       "153807      High\n",
       "153808      High\n",
       "153809      High\n",
       "Name: Risk, Length: 153744, dtype: object"
      ]
     },
     "execution_count": 178,
     "metadata": {},
     "output_type": "execute_result"
    }
   ],
   "source": [
    "inspections[\"Risk\"].str[8:-1]"
   ]
  },
  {
   "cell_type": "code",
   "execution_count": 179,
   "id": "17ee1ccd",
   "metadata": {},
   "outputs": [
    {
     "data": {
      "text/plain": [
       "True"
      ]
     },
     "execution_count": 179,
     "metadata": {},
     "output_type": "execute_result"
    }
   ],
   "source": [
    "\"Pizza\" in \"Jets Pizza\""
   ]
  },
  {
   "cell_type": "code",
   "execution_count": 180,
   "id": "6e5309d1",
   "metadata": {},
   "outputs": [
    {
     "data": {
      "text/plain": [
       "False"
      ]
     },
     "execution_count": 180,
     "metadata": {},
     "output_type": "execute_result"
    }
   ],
   "source": [
    "# 문자열 검색에서 가장 큰 문제는 대소문자를 구분하는 것. \n",
    "# 하위 문자열이 있는지 확인하기 전에 먼저 모든 열 값의 대소문자를 통일해야 한다.\n",
    "\"pizza\" in \"Jets Pizza\""
   ]
  },
  {
   "cell_type": "code",
   "execution_count": 181,
   "id": "75c2919a",
   "metadata": {},
   "outputs": [
    {
     "data": {
      "text/html": [
       "<div>\n",
       "<style scoped>\n",
       "    .dataframe tbody tr th:only-of-type {\n",
       "        vertical-align: middle;\n",
       "    }\n",
       "\n",
       "    .dataframe tbody tr th {\n",
       "        vertical-align: top;\n",
       "    }\n",
       "\n",
       "    .dataframe thead th {\n",
       "        text-align: right;\n",
       "    }\n",
       "</style>\n",
       "<table border=\"1\" class=\"dataframe\">\n",
       "  <thead>\n",
       "    <tr style=\"text-align: right;\">\n",
       "      <th></th>\n",
       "      <th>Name</th>\n",
       "      <th>Risk</th>\n",
       "    </tr>\n",
       "  </thead>\n",
       "  <tbody>\n",
       "    <tr>\n",
       "      <th>1</th>\n",
       "      <td>JETS PIZZA</td>\n",
       "      <td>Risk 2 (Medium)</td>\n",
       "    </tr>\n",
       "    <tr>\n",
       "      <th>19</th>\n",
       "      <td>NANCY'S HOME OF STUFFED PIZZA</td>\n",
       "      <td>Risk 1 (High)</td>\n",
       "    </tr>\n",
       "    <tr>\n",
       "      <th>27</th>\n",
       "      <td>NARY'S GRILL &amp; PIZZA ,INC.</td>\n",
       "      <td>Risk 1 (High)</td>\n",
       "    </tr>\n",
       "    <tr>\n",
       "      <th>29</th>\n",
       "      <td>NARYS GRILL &amp; PIZZA</td>\n",
       "      <td>Risk 1 (High)</td>\n",
       "    </tr>\n",
       "    <tr>\n",
       "      <th>68</th>\n",
       "      <td>COLUTAS PIZZA</td>\n",
       "      <td>Risk 1 (High)</td>\n",
       "    </tr>\n",
       "    <tr>\n",
       "      <th>...</th>\n",
       "      <td>...</td>\n",
       "      <td>...</td>\n",
       "    </tr>\n",
       "    <tr>\n",
       "      <th>153756</th>\n",
       "      <td>ANGELO'S STUFFED PIZZA CORP</td>\n",
       "      <td>Risk 1 (High)</td>\n",
       "    </tr>\n",
       "    <tr>\n",
       "      <th>153764</th>\n",
       "      <td>COCHIAROS PIZZA #2</td>\n",
       "      <td>Risk 1 (High)</td>\n",
       "    </tr>\n",
       "    <tr>\n",
       "      <th>153772</th>\n",
       "      <td>FERNANDO'S MEXICAN GRILL &amp; PIZZA</td>\n",
       "      <td>Risk 1 (High)</td>\n",
       "    </tr>\n",
       "    <tr>\n",
       "      <th>153788</th>\n",
       "      <td>REGGIO'S PIZZA EXPRESS</td>\n",
       "      <td>Risk 1 (High)</td>\n",
       "    </tr>\n",
       "    <tr>\n",
       "      <th>153801</th>\n",
       "      <td>State Street Pizza Company</td>\n",
       "      <td>Risk 1 (High)</td>\n",
       "    </tr>\n",
       "  </tbody>\n",
       "</table>\n",
       "<p>3992 rows × 2 columns</p>\n",
       "</div>"
      ],
      "text/plain": [
       "                                    Name             Risk\n",
       "1                             JETS PIZZA  Risk 2 (Medium)\n",
       "19         NANCY'S HOME OF STUFFED PIZZA    Risk 1 (High)\n",
       "27            NARY'S GRILL & PIZZA ,INC.    Risk 1 (High)\n",
       "29                   NARYS GRILL & PIZZA    Risk 1 (High)\n",
       "68                         COLUTAS PIZZA    Risk 1 (High)\n",
       "...                                  ...              ...\n",
       "153756       ANGELO'S STUFFED PIZZA CORP    Risk 1 (High)\n",
       "153764                COCHIAROS PIZZA #2    Risk 1 (High)\n",
       "153772  FERNANDO'S MEXICAN GRILL & PIZZA    Risk 1 (High)\n",
       "153788            REGGIO'S PIZZA EXPRESS    Risk 1 (High)\n",
       "153801        State Street Pizza Company    Risk 1 (High)\n",
       "\n",
       "[3992 rows x 2 columns]"
      ]
     },
     "execution_count": 181,
     "metadata": {},
     "output_type": "execute_result"
    }
   ],
   "source": [
    "# 판다스는 name 열 값의 원본 대소문자를 유지한다.\n",
    "# 데이터프레임은 절대로 변경되지 않는다. \n",
    "has_pizza = inspections[\"Name\"].str.lower().str.contains(\"pizza\")\n",
    "inspections[has_pizza]"
   ]
  },
  {
   "cell_type": "code",
   "execution_count": 182,
   "id": "b30e8835",
   "metadata": {},
   "outputs": [
    {
     "data": {
      "text/html": [
       "<div>\n",
       "<style scoped>\n",
       "    .dataframe tbody tr th:only-of-type {\n",
       "        vertical-align: middle;\n",
       "    }\n",
       "\n",
       "    .dataframe tbody tr th {\n",
       "        vertical-align: top;\n",
       "    }\n",
       "\n",
       "    .dataframe thead th {\n",
       "        text-align: right;\n",
       "    }\n",
       "</style>\n",
       "<table border=\"1\" class=\"dataframe\">\n",
       "  <thead>\n",
       "    <tr style=\"text-align: right;\">\n",
       "      <th></th>\n",
       "      <th>Name</th>\n",
       "      <th>Risk</th>\n",
       "    </tr>\n",
       "  </thead>\n",
       "  <tbody>\n",
       "    <tr>\n",
       "      <th>69</th>\n",
       "      <td>TACOS NIETOS</td>\n",
       "      <td>Risk 1 (High)</td>\n",
       "    </tr>\n",
       "    <tr>\n",
       "      <th>556</th>\n",
       "      <td>TACOS EL TIO 2 INC.</td>\n",
       "      <td>Risk 1 (High)</td>\n",
       "    </tr>\n",
       "    <tr>\n",
       "      <th>675</th>\n",
       "      <td>TACOS DON GABINO</td>\n",
       "      <td>Risk 1 (High)</td>\n",
       "    </tr>\n",
       "    <tr>\n",
       "      <th>958</th>\n",
       "      <td>TACOS EL TIO 2 INC.</td>\n",
       "      <td>Risk 1 (High)</td>\n",
       "    </tr>\n",
       "    <tr>\n",
       "      <th>1036</th>\n",
       "      <td>TACOS EL TIO 2 INC.</td>\n",
       "      <td>Risk 1 (High)</td>\n",
       "    </tr>\n",
       "    <tr>\n",
       "      <th>...</th>\n",
       "      <td>...</td>\n",
       "      <td>...</td>\n",
       "    </tr>\n",
       "    <tr>\n",
       "      <th>143587</th>\n",
       "      <td>TACOS DE LUNA</td>\n",
       "      <td>Risk 1 (High)</td>\n",
       "    </tr>\n",
       "    <tr>\n",
       "      <th>144026</th>\n",
       "      <td>TACOS GARCIA</td>\n",
       "      <td>Risk 1 (High)</td>\n",
       "    </tr>\n",
       "    <tr>\n",
       "      <th>146174</th>\n",
       "      <td>Tacos Place's 1</td>\n",
       "      <td>Risk 1 (High)</td>\n",
       "    </tr>\n",
       "    <tr>\n",
       "      <th>147810</th>\n",
       "      <td>TACOS MARIO'S LIMITED</td>\n",
       "      <td>Risk 1 (High)</td>\n",
       "    </tr>\n",
       "    <tr>\n",
       "      <th>151191</th>\n",
       "      <td>TACOS REYNA</td>\n",
       "      <td>Risk 1 (High)</td>\n",
       "    </tr>\n",
       "  </tbody>\n",
       "</table>\n",
       "<p>105 rows × 2 columns</p>\n",
       "</div>"
      ],
      "text/plain": [
       "                         Name           Risk\n",
       "69               TACOS NIETOS  Risk 1 (High)\n",
       "556       TACOS EL TIO 2 INC.  Risk 1 (High)\n",
       "675          TACOS DON GABINO  Risk 1 (High)\n",
       "958       TACOS EL TIO 2 INC.  Risk 1 (High)\n",
       "1036      TACOS EL TIO 2 INC.  Risk 1 (High)\n",
       "...                       ...            ...\n",
       "143587          TACOS DE LUNA  Risk 1 (High)\n",
       "144026           TACOS GARCIA  Risk 1 (High)\n",
       "146174        Tacos Place's 1  Risk 1 (High)\n",
       "147810  TACOS MARIO'S LIMITED  Risk 1 (High)\n",
       "151191            TACOS REYNA  Risk 1 (High)\n",
       "\n",
       "[105 rows x 2 columns]"
      ]
     },
     "execution_count": 182,
     "metadata": {},
     "output_type": "execute_result"
    }
   ],
   "source": [
    "# tacos 문자열로 시작하는 모든 식당 추출\n",
    "start_with_tacos = inspections[\"Name\"].str.lower().str.startswith(\"tacos\") \n",
    "inspections[start_with_tacos]"
   ]
  },
  {
   "cell_type": "code",
   "execution_count": 183,
   "id": "4270fc8f",
   "metadata": {},
   "outputs": [
    {
     "data": {
      "text/html": [
       "<div>\n",
       "<style scoped>\n",
       "    .dataframe tbody tr th:only-of-type {\n",
       "        vertical-align: middle;\n",
       "    }\n",
       "\n",
       "    .dataframe tbody tr th {\n",
       "        vertical-align: top;\n",
       "    }\n",
       "\n",
       "    .dataframe thead th {\n",
       "        text-align: right;\n",
       "    }\n",
       "</style>\n",
       "<table border=\"1\" class=\"dataframe\">\n",
       "  <thead>\n",
       "    <tr style=\"text-align: right;\">\n",
       "      <th></th>\n",
       "      <th>Name</th>\n",
       "      <th>Risk</th>\n",
       "    </tr>\n",
       "  </thead>\n",
       "  <tbody>\n",
       "    <tr>\n",
       "      <th>382</th>\n",
       "      <td>LAZO'S TACOS</td>\n",
       "      <td>Risk 1 (High)</td>\n",
       "    </tr>\n",
       "    <tr>\n",
       "      <th>569</th>\n",
       "      <td>LAZO'S TACOS</td>\n",
       "      <td>Risk 1 (High)</td>\n",
       "    </tr>\n",
       "    <tr>\n",
       "      <th>2652</th>\n",
       "      <td>FLYING TACOS</td>\n",
       "      <td>Risk 3 (Low)</td>\n",
       "    </tr>\n",
       "    <tr>\n",
       "      <th>3250</th>\n",
       "      <td>JONY'S TACOS</td>\n",
       "      <td>Risk 1 (High)</td>\n",
       "    </tr>\n",
       "    <tr>\n",
       "      <th>3812</th>\n",
       "      <td>PACO'S TACOS</td>\n",
       "      <td>Risk 1 (High)</td>\n",
       "    </tr>\n",
       "    <tr>\n",
       "      <th>...</th>\n",
       "      <td>...</td>\n",
       "      <td>...</td>\n",
       "    </tr>\n",
       "    <tr>\n",
       "      <th>151121</th>\n",
       "      <td>REYES TACOS</td>\n",
       "      <td>Risk 1 (High)</td>\n",
       "    </tr>\n",
       "    <tr>\n",
       "      <th>151318</th>\n",
       "      <td>EL MACHO TACOS</td>\n",
       "      <td>Risk 1 (High)</td>\n",
       "    </tr>\n",
       "    <tr>\n",
       "      <th>151801</th>\n",
       "      <td>EL MACHO TACOS</td>\n",
       "      <td>Risk 1 (High)</td>\n",
       "    </tr>\n",
       "    <tr>\n",
       "      <th>153087</th>\n",
       "      <td>RAYMOND'S TACOS</td>\n",
       "      <td>Risk 1 (High)</td>\n",
       "    </tr>\n",
       "    <tr>\n",
       "      <th>153504</th>\n",
       "      <td>MIS TACOS</td>\n",
       "      <td>Risk 1 (High)</td>\n",
       "    </tr>\n",
       "  </tbody>\n",
       "</table>\n",
       "<p>304 rows × 2 columns</p>\n",
       "</div>"
      ],
      "text/plain": [
       "                   Name           Risk\n",
       "382        LAZO'S TACOS  Risk 1 (High)\n",
       "569        LAZO'S TACOS  Risk 1 (High)\n",
       "2652       FLYING TACOS   Risk 3 (Low)\n",
       "3250       JONY'S TACOS  Risk 1 (High)\n",
       "3812       PACO'S TACOS  Risk 1 (High)\n",
       "...                 ...            ...\n",
       "151121      REYES TACOS  Risk 1 (High)\n",
       "151318   EL MACHO TACOS  Risk 1 (High)\n",
       "151801   EL MACHO TACOS  Risk 1 (High)\n",
       "153087  RAYMOND'S TACOS  Risk 1 (High)\n",
       "153504        MIS TACOS  Risk 1 (High)\n",
       "\n",
       "[304 rows x 2 columns]"
      ]
     },
     "execution_count": 183,
     "metadata": {},
     "output_type": "execute_result"
    }
   ],
   "source": [
    "end_with_tacos = inspections[\"Name\"].str.lower().str.endswith(\"tacos\")\n",
    "inspections[end_with_tacos]"
   ]
  },
  {
   "cell_type": "code",
   "execution_count": 184,
   "id": "d897a2a4",
   "metadata": {},
   "outputs": [
    {
     "data": {
      "text/html": [
       "<div>\n",
       "<style scoped>\n",
       "    .dataframe tbody tr th:only-of-type {\n",
       "        vertical-align: middle;\n",
       "    }\n",
       "\n",
       "    .dataframe tbody tr th {\n",
       "        vertical-align: top;\n",
       "    }\n",
       "\n",
       "    .dataframe thead th {\n",
       "        text-align: right;\n",
       "    }\n",
       "</style>\n",
       "<table border=\"1\" class=\"dataframe\">\n",
       "  <thead>\n",
       "    <tr style=\"text-align: right;\">\n",
       "      <th></th>\n",
       "      <th>Name</th>\n",
       "      <th>Address</th>\n",
       "    </tr>\n",
       "  </thead>\n",
       "  <tbody>\n",
       "    <tr>\n",
       "      <th>0</th>\n",
       "      <td>Frank Manning</td>\n",
       "      <td>6461 Quinn Groves, East Matthew, New Hampshire...</td>\n",
       "    </tr>\n",
       "    <tr>\n",
       "      <th>1</th>\n",
       "      <td>Elizabeth Johnson</td>\n",
       "      <td>1360 Tracey Ports Apt. 419, Kyleport, Vermont,...</td>\n",
       "    </tr>\n",
       "    <tr>\n",
       "      <th>2</th>\n",
       "      <td>Donald Stephens</td>\n",
       "      <td>19120 Fleming Manors, Prestonstad, Montana, 23495</td>\n",
       "    </tr>\n",
       "    <tr>\n",
       "      <th>3</th>\n",
       "      <td>Michael Vincent III</td>\n",
       "      <td>441 Olivia Creek, Jimmymouth, Georgia, 82991</td>\n",
       "    </tr>\n",
       "    <tr>\n",
       "      <th>4</th>\n",
       "      <td>Jasmine Zamora</td>\n",
       "      <td>4246 Chelsey Ford Apt. 310, Karamouth, Utah, 7...</td>\n",
       "    </tr>\n",
       "    <tr>\n",
       "      <th>...</th>\n",
       "      <td>...</td>\n",
       "      <td>...</td>\n",
       "    </tr>\n",
       "    <tr>\n",
       "      <th>9956</th>\n",
       "      <td>Dana Browning</td>\n",
       "      <td>762 Andrew Views Apt. 254, North Paul, New Mex...</td>\n",
       "    </tr>\n",
       "    <tr>\n",
       "      <th>9957</th>\n",
       "      <td>Amanda Anderson</td>\n",
       "      <td>44188 Day Crest Apt. 901, Lake Marcia, Maine, ...</td>\n",
       "    </tr>\n",
       "    <tr>\n",
       "      <th>9958</th>\n",
       "      <td>Eric Davis</td>\n",
       "      <td>73015 Michelle Squares, Watsonville, West Virg...</td>\n",
       "    </tr>\n",
       "    <tr>\n",
       "      <th>9959</th>\n",
       "      <td>Taylor Hernandez</td>\n",
       "      <td>129 Keith Greens, Haleyfurt, Oklahoma, 98916</td>\n",
       "    </tr>\n",
       "    <tr>\n",
       "      <th>9960</th>\n",
       "      <td>Sherry Nicholson</td>\n",
       "      <td>355 Griffin Valley, Davidtown, New Mexico, 17581</td>\n",
       "    </tr>\n",
       "  </tbody>\n",
       "</table>\n",
       "<p>9961 rows × 2 columns</p>\n",
       "</div>"
      ],
      "text/plain": [
       "                     Name                                            Address\n",
       "0           Frank Manning  6461 Quinn Groves, East Matthew, New Hampshire...\n",
       "1       Elizabeth Johnson  1360 Tracey Ports Apt. 419, Kyleport, Vermont,...\n",
       "2         Donald Stephens  19120 Fleming Manors, Prestonstad, Montana, 23495\n",
       "3     Michael Vincent III       441 Olivia Creek, Jimmymouth, Georgia, 82991\n",
       "4          Jasmine Zamora  4246 Chelsey Ford Apt. 310, Karamouth, Utah, 7...\n",
       "...                   ...                                                ...\n",
       "9956        Dana Browning  762 Andrew Views Apt. 254, North Paul, New Mex...\n",
       "9957      Amanda Anderson  44188 Day Crest Apt. 901, Lake Marcia, Maine, ...\n",
       "9958           Eric Davis  73015 Michelle Squares, Watsonville, West Virg...\n",
       "9959     Taylor Hernandez       129 Keith Greens, Haleyfurt, Oklahoma, 98916\n",
       "9960     Sherry Nicholson   355 Griffin Valley, Davidtown, New Mexico, 17581\n",
       "\n",
       "[9961 rows x 2 columns]"
      ]
     },
     "execution_count": 184,
     "metadata": {},
     "output_type": "execute_result"
    }
   ],
   "source": [
    "customers = pd.read_csv(\"customers.csv\")\n",
    "customers"
   ]
  },
  {
   "cell_type": "code",
   "execution_count": 185,
   "id": "d96f7c1a",
   "metadata": {},
   "outputs": [
    {
     "data": {
      "text/plain": [
       "0       13\n",
       "1       17\n",
       "2       15\n",
       "3       19\n",
       "4       14\n",
       "        ..\n",
       "9956    13\n",
       "9957    15\n",
       "9958    10\n",
       "9959    16\n",
       "9960    16\n",
       "Name: Name, Length: 9961, dtype: int64"
      ]
     },
     "execution_count": 185,
     "metadata": {},
     "output_type": "execute_result"
    }
   ],
   "source": [
    "customers[\"Name\"].str.len()"
   ]
  },
  {
   "cell_type": "code",
   "execution_count": 186,
   "id": "e948e5fa",
   "metadata": {},
   "outputs": [
    {
     "data": {
      "text/plain": [
       "['555', '123', '4567']"
      ]
     },
     "execution_count": 186,
     "metadata": {},
     "output_type": "execute_result"
    }
   ],
   "source": [
    "phone_number = \"555-123-4567\"\n",
    "phone_number.split(\"-\")"
   ]
  },
  {
   "cell_type": "code",
   "execution_count": 187,
   "id": "1a8c8fec",
   "metadata": {},
   "outputs": [
    {
     "data": {
      "text/plain": [
       "0           [Frank, Manning]\n",
       "1       [Elizabeth, Johnson]\n",
       "2         [Donald, Stephens]\n",
       "3    [Michael, Vincent, III]\n",
       "4          [Jasmine, Zamora]\n",
       "Name: Name, dtype: object"
      ]
     },
     "execution_count": 187,
     "metadata": {},
     "output_type": "execute_result"
    }
   ],
   "source": [
    "# 다음 두 줄은 결과가  같다.\n",
    "customers[\"Name\"].str.split(pat = \" \").head()\n",
    "customers[\"Name\"].str.split(\" \").head()"
   ]
  },
  {
   "cell_type": "code",
   "execution_count": 188,
   "id": "6f125378",
   "metadata": {},
   "outputs": [
    {
     "data": {
      "text/plain": [
       "0    2\n",
       "1    2\n",
       "2    2\n",
       "3    3\n",
       "4    2\n",
       "Name: Name, dtype: int64"
      ]
     },
     "execution_count": 188,
     "metadata": {},
     "output_type": "execute_result"
    }
   ],
   "source": [
    "# 인덱스 3을보면 3이 나온다. 'MD', 'Jr' 같은 접미사 때문에 일부 이름은 세 단어 이상으로 구성된다.\n",
    "# Michael, Vincent, III같은 이름의 경우..\n",
    "customers[\"Name\"].str.split(\" \").str.len().head()"
   ]
  },
  {
   "cell_type": "code",
   "execution_count": 189,
   "id": "44114f6e",
   "metadata": {},
   "outputs": [
    {
     "data": {
      "text/plain": [
       "0          [Frank, Manning]\n",
       "1      [Elizabeth, Johnson]\n",
       "2        [Donald, Stephens]\n",
       "3    [Michael, Vincent III]\n",
       "4         [Jasmine, Zamora]\n",
       "Name: Name, dtype: object"
      ]
     },
     "execution_count": 189,
     "metadata": {},
     "output_type": "execute_result"
    }
   ],
   "source": [
    "# 분할의 최대 임계값을 1로 설정하면 첫 번째 공백에서 문자열을 분할하고 중지한다. 그러면 2개의 요소를 가진 리스트로 구성된 시리즈 완성 가능\n",
    "customers[\"Name\"].str.split(pat = \" \", n = 1).head()"
   ]
  },
  {
   "cell_type": "code",
   "execution_count": 190,
   "id": "c2e1d8f0",
   "metadata": {},
   "outputs": [
    {
     "data": {
      "text/plain": [
       "0           Frank\n",
       "1       Elizabeth\n",
       "2          Donald\n",
       "3         Michael\n",
       "4         Jasmine\n",
       "          ...    \n",
       "9956         Dana\n",
       "9957       Amanda\n",
       "9958         Eric\n",
       "9959       Taylor\n",
       "9960       Sherry\n",
       "Name: Name, Length: 9961, dtype: object"
      ]
     },
     "execution_count": 190,
     "metadata": {},
     "output_type": "execute_result"
    }
   ],
   "source": [
    "# str.get을 활용하여 firstname을 추출할 수 있다.\n",
    "customers[\"Name\"].str.split(pat = \" \", n = 1 ).str.get(0)"
   ]
  },
  {
   "cell_type": "code",
   "execution_count": 191,
   "id": "4cdeeec3",
   "metadata": {},
   "outputs": [
    {
     "data": {
      "text/plain": [
       "0           Manning\n",
       "1           Johnson\n",
       "2          Stephens\n",
       "3       Vincent III\n",
       "4            Zamora\n",
       "           ...     \n",
       "9956       Browning\n",
       "9957       Anderson\n",
       "9958          Davis\n",
       "9959      Hernandez\n",
       "9960      Nicholson\n",
       "Name: Name, Length: 9961, dtype: object"
      ]
     },
     "execution_count": 191,
     "metadata": {},
     "output_type": "execute_result"
    }
   ],
   "source": [
    "customers[\"Name\"].str.split(pat = \" \", n = 1 ).str.get(-1)"
   ]
  },
  {
   "cell_type": "code",
   "execution_count": 192,
   "id": "f7350937",
   "metadata": {},
   "outputs": [
    {
     "data": {
      "text/html": [
       "<div>\n",
       "<style scoped>\n",
       "    .dataframe tbody tr th:only-of-type {\n",
       "        vertical-align: middle;\n",
       "    }\n",
       "\n",
       "    .dataframe tbody tr th {\n",
       "        vertical-align: top;\n",
       "    }\n",
       "\n",
       "    .dataframe thead th {\n",
       "        text-align: right;\n",
       "    }\n",
       "</style>\n",
       "<table border=\"1\" class=\"dataframe\">\n",
       "  <thead>\n",
       "    <tr style=\"text-align: right;\">\n",
       "      <th></th>\n",
       "      <th>0</th>\n",
       "      <th>1</th>\n",
       "    </tr>\n",
       "  </thead>\n",
       "  <tbody>\n",
       "    <tr>\n",
       "      <th>0</th>\n",
       "      <td>Frank</td>\n",
       "      <td>Manning</td>\n",
       "    </tr>\n",
       "    <tr>\n",
       "      <th>1</th>\n",
       "      <td>Elizabeth</td>\n",
       "      <td>Johnson</td>\n",
       "    </tr>\n",
       "    <tr>\n",
       "      <th>2</th>\n",
       "      <td>Donald</td>\n",
       "      <td>Stephens</td>\n",
       "    </tr>\n",
       "    <tr>\n",
       "      <th>3</th>\n",
       "      <td>Michael</td>\n",
       "      <td>Vincent III</td>\n",
       "    </tr>\n",
       "    <tr>\n",
       "      <th>4</th>\n",
       "      <td>Jasmine</td>\n",
       "      <td>Zamora</td>\n",
       "    </tr>\n",
       "    <tr>\n",
       "      <th>...</th>\n",
       "      <td>...</td>\n",
       "      <td>...</td>\n",
       "    </tr>\n",
       "    <tr>\n",
       "      <th>9956</th>\n",
       "      <td>Dana</td>\n",
       "      <td>Browning</td>\n",
       "    </tr>\n",
       "    <tr>\n",
       "      <th>9957</th>\n",
       "      <td>Amanda</td>\n",
       "      <td>Anderson</td>\n",
       "    </tr>\n",
       "    <tr>\n",
       "      <th>9958</th>\n",
       "      <td>Eric</td>\n",
       "      <td>Davis</td>\n",
       "    </tr>\n",
       "    <tr>\n",
       "      <th>9959</th>\n",
       "      <td>Taylor</td>\n",
       "      <td>Hernandez</td>\n",
       "    </tr>\n",
       "    <tr>\n",
       "      <th>9960</th>\n",
       "      <td>Sherry</td>\n",
       "      <td>Nicholson</td>\n",
       "    </tr>\n",
       "  </tbody>\n",
       "</table>\n",
       "<p>9961 rows × 2 columns</p>\n",
       "</div>"
      ],
      "text/plain": [
       "              0            1\n",
       "0         Frank      Manning\n",
       "1     Elizabeth      Johnson\n",
       "2        Donald     Stephens\n",
       "3       Michael  Vincent III\n",
       "4       Jasmine       Zamora\n",
       "...         ...          ...\n",
       "9956       Dana     Browning\n",
       "9957     Amanda     Anderson\n",
       "9958       Eric        Davis\n",
       "9959     Taylor    Hernandez\n",
       "9960     Sherry    Nicholson\n",
       "\n",
       "[9961 rows x 2 columns]"
      ]
     },
     "execution_count": 192,
     "metadata": {},
     "output_type": "execute_result"
    }
   ],
   "source": [
    "# expand에 true를 인수로 전달하면 이 메서드는 리스트 시리즈 대신 새로운 데이터프레임을 반환한다.\n",
    "customers[\"Name\"].str.split(pat = \" \", n = 1, expand = True)"
   ]
  },
  {
   "cell_type": "code",
   "execution_count": 193,
   "id": "c65ad9c7",
   "metadata": {},
   "outputs": [
    {
     "data": {
      "text/html": [
       "<div>\n",
       "<style scoped>\n",
       "    .dataframe tbody tr th:only-of-type {\n",
       "        vertical-align: middle;\n",
       "    }\n",
       "\n",
       "    .dataframe tbody tr th {\n",
       "        vertical-align: top;\n",
       "    }\n",
       "\n",
       "    .dataframe thead th {\n",
       "        text-align: right;\n",
       "    }\n",
       "</style>\n",
       "<table border=\"1\" class=\"dataframe\">\n",
       "  <thead>\n",
       "    <tr style=\"text-align: right;\">\n",
       "      <th></th>\n",
       "      <th>0</th>\n",
       "      <th>1</th>\n",
       "      <th>2</th>\n",
       "    </tr>\n",
       "  </thead>\n",
       "  <tbody>\n",
       "    <tr>\n",
       "      <th>0</th>\n",
       "      <td>Frank</td>\n",
       "      <td>Manning</td>\n",
       "      <td>None</td>\n",
       "    </tr>\n",
       "    <tr>\n",
       "      <th>1</th>\n",
       "      <td>Elizabeth</td>\n",
       "      <td>Johnson</td>\n",
       "      <td>None</td>\n",
       "    </tr>\n",
       "    <tr>\n",
       "      <th>2</th>\n",
       "      <td>Donald</td>\n",
       "      <td>Stephens</td>\n",
       "      <td>None</td>\n",
       "    </tr>\n",
       "    <tr>\n",
       "      <th>3</th>\n",
       "      <td>Michael</td>\n",
       "      <td>Vincent</td>\n",
       "      <td>III</td>\n",
       "    </tr>\n",
       "    <tr>\n",
       "      <th>4</th>\n",
       "      <td>Jasmine</td>\n",
       "      <td>Zamora</td>\n",
       "      <td>None</td>\n",
       "    </tr>\n",
       "  </tbody>\n",
       "</table>\n",
       "</div>"
      ],
      "text/plain": [
       "           0         1     2\n",
       "0      Frank   Manning  None\n",
       "1  Elizabeth   Johnson  None\n",
       "2     Donald  Stephens  None\n",
       "3    Michael   Vincent   III\n",
       "4    Jasmine    Zamora  None"
      ]
     },
     "execution_count": 193,
     "metadata": {},
     "output_type": "execute_result"
    }
   ],
   "source": [
    "customers[\"Name\"].str.split(pat = \" \", expand = True).head()"
   ]
  },
  {
   "cell_type": "code",
   "execution_count": 194,
   "id": "781e5cbe",
   "metadata": {},
   "outputs": [
    {
     "data": {
      "text/html": [
       "<div>\n",
       "<style scoped>\n",
       "    .dataframe tbody tr th:only-of-type {\n",
       "        vertical-align: middle;\n",
       "    }\n",
       "\n",
       "    .dataframe tbody tr th {\n",
       "        vertical-align: top;\n",
       "    }\n",
       "\n",
       "    .dataframe thead th {\n",
       "        text-align: right;\n",
       "    }\n",
       "</style>\n",
       "<table border=\"1\" class=\"dataframe\">\n",
       "  <thead>\n",
       "    <tr style=\"text-align: right;\">\n",
       "      <th></th>\n",
       "      <th>Name</th>\n",
       "      <th>Address</th>\n",
       "      <th>First Name</th>\n",
       "      <th>Last Name</th>\n",
       "    </tr>\n",
       "  </thead>\n",
       "  <tbody>\n",
       "    <tr>\n",
       "      <th>0</th>\n",
       "      <td>Frank Manning</td>\n",
       "      <td>6461 Quinn Groves, East Matthew, New Hampshire...</td>\n",
       "      <td>Frank</td>\n",
       "      <td>Manning</td>\n",
       "    </tr>\n",
       "    <tr>\n",
       "      <th>1</th>\n",
       "      <td>Elizabeth Johnson</td>\n",
       "      <td>1360 Tracey Ports Apt. 419, Kyleport, Vermont,...</td>\n",
       "      <td>Elizabeth</td>\n",
       "      <td>Johnson</td>\n",
       "    </tr>\n",
       "    <tr>\n",
       "      <th>2</th>\n",
       "      <td>Donald Stephens</td>\n",
       "      <td>19120 Fleming Manors, Prestonstad, Montana, 23495</td>\n",
       "      <td>Donald</td>\n",
       "      <td>Stephens</td>\n",
       "    </tr>\n",
       "    <tr>\n",
       "      <th>3</th>\n",
       "      <td>Michael Vincent III</td>\n",
       "      <td>441 Olivia Creek, Jimmymouth, Georgia, 82991</td>\n",
       "      <td>Michael</td>\n",
       "      <td>Vincent III</td>\n",
       "    </tr>\n",
       "    <tr>\n",
       "      <th>4</th>\n",
       "      <td>Jasmine Zamora</td>\n",
       "      <td>4246 Chelsey Ford Apt. 310, Karamouth, Utah, 7...</td>\n",
       "      <td>Jasmine</td>\n",
       "      <td>Zamora</td>\n",
       "    </tr>\n",
       "    <tr>\n",
       "      <th>...</th>\n",
       "      <td>...</td>\n",
       "      <td>...</td>\n",
       "      <td>...</td>\n",
       "      <td>...</td>\n",
       "    </tr>\n",
       "    <tr>\n",
       "      <th>9956</th>\n",
       "      <td>Dana Browning</td>\n",
       "      <td>762 Andrew Views Apt. 254, North Paul, New Mex...</td>\n",
       "      <td>Dana</td>\n",
       "      <td>Browning</td>\n",
       "    </tr>\n",
       "    <tr>\n",
       "      <th>9957</th>\n",
       "      <td>Amanda Anderson</td>\n",
       "      <td>44188 Day Crest Apt. 901, Lake Marcia, Maine, ...</td>\n",
       "      <td>Amanda</td>\n",
       "      <td>Anderson</td>\n",
       "    </tr>\n",
       "    <tr>\n",
       "      <th>9958</th>\n",
       "      <td>Eric Davis</td>\n",
       "      <td>73015 Michelle Squares, Watsonville, West Virg...</td>\n",
       "      <td>Eric</td>\n",
       "      <td>Davis</td>\n",
       "    </tr>\n",
       "    <tr>\n",
       "      <th>9959</th>\n",
       "      <td>Taylor Hernandez</td>\n",
       "      <td>129 Keith Greens, Haleyfurt, Oklahoma, 98916</td>\n",
       "      <td>Taylor</td>\n",
       "      <td>Hernandez</td>\n",
       "    </tr>\n",
       "    <tr>\n",
       "      <th>9960</th>\n",
       "      <td>Sherry Nicholson</td>\n",
       "      <td>355 Griffin Valley, Davidtown, New Mexico, 17581</td>\n",
       "      <td>Sherry</td>\n",
       "      <td>Nicholson</td>\n",
       "    </tr>\n",
       "  </tbody>\n",
       "</table>\n",
       "<p>9961 rows × 4 columns</p>\n",
       "</div>"
      ],
      "text/plain": [
       "                     Name                                            Address  \\\n",
       "0           Frank Manning  6461 Quinn Groves, East Matthew, New Hampshire...   \n",
       "1       Elizabeth Johnson  1360 Tracey Ports Apt. 419, Kyleport, Vermont,...   \n",
       "2         Donald Stephens  19120 Fleming Manors, Prestonstad, Montana, 23495   \n",
       "3     Michael Vincent III       441 Olivia Creek, Jimmymouth, Georgia, 82991   \n",
       "4          Jasmine Zamora  4246 Chelsey Ford Apt. 310, Karamouth, Utah, 7...   \n",
       "...                   ...                                                ...   \n",
       "9956        Dana Browning  762 Andrew Views Apt. 254, North Paul, New Mex...   \n",
       "9957      Amanda Anderson  44188 Day Crest Apt. 901, Lake Marcia, Maine, ...   \n",
       "9958           Eric Davis  73015 Michelle Squares, Watsonville, West Virg...   \n",
       "9959     Taylor Hernandez       129 Keith Greens, Haleyfurt, Oklahoma, 98916   \n",
       "9960     Sherry Nicholson   355 Griffin Valley, Davidtown, New Mexico, 17581   \n",
       "\n",
       "     First Name    Last Name  \n",
       "0         Frank      Manning  \n",
       "1     Elizabeth      Johnson  \n",
       "2        Donald     Stephens  \n",
       "3       Michael  Vincent III  \n",
       "4       Jasmine       Zamora  \n",
       "...         ...          ...  \n",
       "9956       Dana     Browning  \n",
       "9957     Amanda     Anderson  \n",
       "9958       Eric        Davis  \n",
       "9959     Taylor    Hernandez  \n",
       "9960     Sherry    Nicholson  \n",
       "\n",
       "[9961 rows x 4 columns]"
      ]
     },
     "execution_count": 194,
     "metadata": {},
     "output_type": "execute_result"
    }
   ],
   "source": [
    "customers[[\"First Name\", \"Last Name\"]] = customers[\"Name\"].str.split(pat = \" \", n =1, expand = True)\n",
    "customers\n"
   ]
  },
  {
   "cell_type": "code",
   "execution_count": 195,
   "id": "db2a777b",
   "metadata": {},
   "outputs": [
    {
     "data": {
      "text/html": [
       "<div>\n",
       "<style scoped>\n",
       "    .dataframe tbody tr th:only-of-type {\n",
       "        vertical-align: middle;\n",
       "    }\n",
       "\n",
       "    .dataframe tbody tr th {\n",
       "        vertical-align: top;\n",
       "    }\n",
       "\n",
       "    .dataframe thead th {\n",
       "        text-align: right;\n",
       "    }\n",
       "</style>\n",
       "<table border=\"1\" class=\"dataframe\">\n",
       "  <thead>\n",
       "    <tr style=\"text-align: right;\">\n",
       "      <th></th>\n",
       "      <th>Address</th>\n",
       "      <th>First Name</th>\n",
       "      <th>Last Name</th>\n",
       "    </tr>\n",
       "  </thead>\n",
       "  <tbody>\n",
       "    <tr>\n",
       "      <th>0</th>\n",
       "      <td>6461 Quinn Groves, East Matthew, New Hampshire...</td>\n",
       "      <td>Frank</td>\n",
       "      <td>Manning</td>\n",
       "    </tr>\n",
       "    <tr>\n",
       "      <th>1</th>\n",
       "      <td>1360 Tracey Ports Apt. 419, Kyleport, Vermont,...</td>\n",
       "      <td>Elizabeth</td>\n",
       "      <td>Johnson</td>\n",
       "    </tr>\n",
       "    <tr>\n",
       "      <th>2</th>\n",
       "      <td>19120 Fleming Manors, Prestonstad, Montana, 23495</td>\n",
       "      <td>Donald</td>\n",
       "      <td>Stephens</td>\n",
       "    </tr>\n",
       "    <tr>\n",
       "      <th>3</th>\n",
       "      <td>441 Olivia Creek, Jimmymouth, Georgia, 82991</td>\n",
       "      <td>Michael</td>\n",
       "      <td>Vincent III</td>\n",
       "    </tr>\n",
       "    <tr>\n",
       "      <th>4</th>\n",
       "      <td>4246 Chelsey Ford Apt. 310, Karamouth, Utah, 7...</td>\n",
       "      <td>Jasmine</td>\n",
       "      <td>Zamora</td>\n",
       "    </tr>\n",
       "    <tr>\n",
       "      <th>...</th>\n",
       "      <td>...</td>\n",
       "      <td>...</td>\n",
       "      <td>...</td>\n",
       "    </tr>\n",
       "    <tr>\n",
       "      <th>9956</th>\n",
       "      <td>762 Andrew Views Apt. 254, North Paul, New Mex...</td>\n",
       "      <td>Dana</td>\n",
       "      <td>Browning</td>\n",
       "    </tr>\n",
       "    <tr>\n",
       "      <th>9957</th>\n",
       "      <td>44188 Day Crest Apt. 901, Lake Marcia, Maine, ...</td>\n",
       "      <td>Amanda</td>\n",
       "      <td>Anderson</td>\n",
       "    </tr>\n",
       "    <tr>\n",
       "      <th>9958</th>\n",
       "      <td>73015 Michelle Squares, Watsonville, West Virg...</td>\n",
       "      <td>Eric</td>\n",
       "      <td>Davis</td>\n",
       "    </tr>\n",
       "    <tr>\n",
       "      <th>9959</th>\n",
       "      <td>129 Keith Greens, Haleyfurt, Oklahoma, 98916</td>\n",
       "      <td>Taylor</td>\n",
       "      <td>Hernandez</td>\n",
       "    </tr>\n",
       "    <tr>\n",
       "      <th>9960</th>\n",
       "      <td>355 Griffin Valley, Davidtown, New Mexico, 17581</td>\n",
       "      <td>Sherry</td>\n",
       "      <td>Nicholson</td>\n",
       "    </tr>\n",
       "  </tbody>\n",
       "</table>\n",
       "<p>9961 rows × 3 columns</p>\n",
       "</div>"
      ],
      "text/plain": [
       "                                                Address First Name  \\\n",
       "0     6461 Quinn Groves, East Matthew, New Hampshire...      Frank   \n",
       "1     1360 Tracey Ports Apt. 419, Kyleport, Vermont,...  Elizabeth   \n",
       "2     19120 Fleming Manors, Prestonstad, Montana, 23495     Donald   \n",
       "3          441 Olivia Creek, Jimmymouth, Georgia, 82991    Michael   \n",
       "4     4246 Chelsey Ford Apt. 310, Karamouth, Utah, 7...    Jasmine   \n",
       "...                                                 ...        ...   \n",
       "9956  762 Andrew Views Apt. 254, North Paul, New Mex...       Dana   \n",
       "9957  44188 Day Crest Apt. 901, Lake Marcia, Maine, ...     Amanda   \n",
       "9958  73015 Michelle Squares, Watsonville, West Virg...       Eric   \n",
       "9959       129 Keith Greens, Haleyfurt, Oklahoma, 98916     Taylor   \n",
       "9960   355 Griffin Valley, Davidtown, New Mexico, 17581     Sherry   \n",
       "\n",
       "        Last Name  \n",
       "0         Manning  \n",
       "1         Johnson  \n",
       "2        Stephens  \n",
       "3     Vincent III  \n",
       "4          Zamora  \n",
       "...           ...  \n",
       "9956     Browning  \n",
       "9957     Anderson  \n",
       "9958        Davis  \n",
       "9959    Hernandez  \n",
       "9960    Nicholson  \n",
       "\n",
       "[9961 rows x 3 columns]"
      ]
     },
     "execution_count": 195,
     "metadata": {},
     "output_type": "execute_result"
    }
   ],
   "source": [
    "customers = customers.drop(labels = \"Name\", axis = 1)\n",
    "customers"
   ]
  },
  {
   "cell_type": "code",
   "execution_count": 196,
   "id": "a58d1780",
   "metadata": {},
   "outputs": [
    {
     "data": {
      "text/html": [
       "<div>\n",
       "<style scoped>\n",
       "    .dataframe tbody tr th:only-of-type {\n",
       "        vertical-align: middle;\n",
       "    }\n",
       "\n",
       "    .dataframe tbody tr th {\n",
       "        vertical-align: top;\n",
       "    }\n",
       "\n",
       "    .dataframe thead th {\n",
       "        text-align: right;\n",
       "    }\n",
       "</style>\n",
       "<table border=\"1\" class=\"dataframe\">\n",
       "  <thead>\n",
       "    <tr style=\"text-align: right;\">\n",
       "      <th></th>\n",
       "      <th>Address</th>\n",
       "      <th>First Name</th>\n",
       "      <th>Last Name</th>\n",
       "    </tr>\n",
       "  </thead>\n",
       "  <tbody>\n",
       "    <tr>\n",
       "      <th>0</th>\n",
       "      <td>6461 Quinn Groves, East Matthew, New Hampshire...</td>\n",
       "      <td>Frank</td>\n",
       "      <td>Manning</td>\n",
       "    </tr>\n",
       "    <tr>\n",
       "      <th>1</th>\n",
       "      <td>1360 Tracey Ports Apt. 419, Kyleport, Vermont,...</td>\n",
       "      <td>Elizabeth</td>\n",
       "      <td>Johnson</td>\n",
       "    </tr>\n",
       "    <tr>\n",
       "      <th>2</th>\n",
       "      <td>19120 Fleming Manors, Prestonstad, Montana, 23495</td>\n",
       "      <td>Donald</td>\n",
       "      <td>Stephens</td>\n",
       "    </tr>\n",
       "    <tr>\n",
       "      <th>3</th>\n",
       "      <td>441 Olivia Creek, Jimmymouth, Georgia, 82991</td>\n",
       "      <td>Michael</td>\n",
       "      <td>Vincent III</td>\n",
       "    </tr>\n",
       "    <tr>\n",
       "      <th>4</th>\n",
       "      <td>4246 Chelsey Ford Apt. 310, Karamouth, Utah, 7...</td>\n",
       "      <td>Jasmine</td>\n",
       "      <td>Zamora</td>\n",
       "    </tr>\n",
       "    <tr>\n",
       "      <th>...</th>\n",
       "      <td>...</td>\n",
       "      <td>...</td>\n",
       "      <td>...</td>\n",
       "    </tr>\n",
       "    <tr>\n",
       "      <th>9956</th>\n",
       "      <td>762 Andrew Views Apt. 254, North Paul, New Mex...</td>\n",
       "      <td>Dana</td>\n",
       "      <td>Browning</td>\n",
       "    </tr>\n",
       "    <tr>\n",
       "      <th>9957</th>\n",
       "      <td>44188 Day Crest Apt. 901, Lake Marcia, Maine, ...</td>\n",
       "      <td>Amanda</td>\n",
       "      <td>Anderson</td>\n",
       "    </tr>\n",
       "    <tr>\n",
       "      <th>9958</th>\n",
       "      <td>73015 Michelle Squares, Watsonville, West Virg...</td>\n",
       "      <td>Eric</td>\n",
       "      <td>Davis</td>\n",
       "    </tr>\n",
       "    <tr>\n",
       "      <th>9959</th>\n",
       "      <td>129 Keith Greens, Haleyfurt, Oklahoma, 98916</td>\n",
       "      <td>Taylor</td>\n",
       "      <td>Hernandez</td>\n",
       "    </tr>\n",
       "    <tr>\n",
       "      <th>9960</th>\n",
       "      <td>355 Griffin Valley, Davidtown, New Mexico, 17581</td>\n",
       "      <td>Sherry</td>\n",
       "      <td>Nicholson</td>\n",
       "    </tr>\n",
       "  </tbody>\n",
       "</table>\n",
       "<p>9961 rows × 3 columns</p>\n",
       "</div>"
      ],
      "text/plain": [
       "                                                Address First Name  \\\n",
       "0     6461 Quinn Groves, East Matthew, New Hampshire...      Frank   \n",
       "1     1360 Tracey Ports Apt. 419, Kyleport, Vermont,...  Elizabeth   \n",
       "2     19120 Fleming Manors, Prestonstad, Montana, 23495     Donald   \n",
       "3          441 Olivia Creek, Jimmymouth, Georgia, 82991    Michael   \n",
       "4     4246 Chelsey Ford Apt. 310, Karamouth, Utah, 7...    Jasmine   \n",
       "...                                                 ...        ...   \n",
       "9956  762 Andrew Views Apt. 254, North Paul, New Mex...       Dana   \n",
       "9957  44188 Day Crest Apt. 901, Lake Marcia, Maine, ...     Amanda   \n",
       "9958  73015 Michelle Squares, Watsonville, West Virg...       Eric   \n",
       "9959       129 Keith Greens, Haleyfurt, Oklahoma, 98916     Taylor   \n",
       "9960   355 Griffin Valley, Davidtown, New Mexico, 17581     Sherry   \n",
       "\n",
       "        Last Name  \n",
       "0         Manning  \n",
       "1         Johnson  \n",
       "2        Stephens  \n",
       "3     Vincent III  \n",
       "4          Zamora  \n",
       "...           ...  \n",
       "9956     Browning  \n",
       "9957     Anderson  \n",
       "9958        Davis  \n",
       "9959    Hernandez  \n",
       "9960    Nicholson  \n",
       "\n",
       "[9961 rows x 3 columns]"
      ]
     },
     "execution_count": 196,
     "metadata": {},
     "output_type": "execute_result"
    }
   ],
   "source": [
    "customers"
   ]
  },
  {
   "cell_type": "code",
   "execution_count": 207,
   "id": "7a090651",
   "metadata": {},
   "outputs": [
    {
     "data": {
      "text/html": [
       "<div>\n",
       "<style scoped>\n",
       "    .dataframe tbody tr th:only-of-type {\n",
       "        vertical-align: middle;\n",
       "    }\n",
       "\n",
       "    .dataframe tbody tr th {\n",
       "        vertical-align: top;\n",
       "    }\n",
       "\n",
       "    .dataframe thead th {\n",
       "        text-align: right;\n",
       "    }\n",
       "</style>\n",
       "<table border=\"1\" class=\"dataframe\">\n",
       "  <thead>\n",
       "    <tr style=\"text-align: right;\">\n",
       "      <th></th>\n",
       "      <th>First Name</th>\n",
       "      <th>Last Name</th>\n",
       "      <th>도로</th>\n",
       "      <th>시</th>\n",
       "      <th>주</th>\n",
       "      <th>우편번호</th>\n",
       "    </tr>\n",
       "  </thead>\n",
       "  <tbody>\n",
       "    <tr>\n",
       "      <th>0</th>\n",
       "      <td>Frank</td>\n",
       "      <td>Manning</td>\n",
       "      <td>6461 quinn groves</td>\n",
       "      <td>east matthew</td>\n",
       "      <td>new hampshire</td>\n",
       "      <td>16656</td>\n",
       "    </tr>\n",
       "    <tr>\n",
       "      <th>1</th>\n",
       "      <td>Elizabeth</td>\n",
       "      <td>Johnson</td>\n",
       "      <td>1360 tracey ports apt. 419</td>\n",
       "      <td>kyleport</td>\n",
       "      <td>vermont</td>\n",
       "      <td>31924</td>\n",
       "    </tr>\n",
       "    <tr>\n",
       "      <th>2</th>\n",
       "      <td>Donald</td>\n",
       "      <td>Stephens</td>\n",
       "      <td>19120 fleming manors</td>\n",
       "      <td>prestonstad</td>\n",
       "      <td>montana</td>\n",
       "      <td>23495</td>\n",
       "    </tr>\n",
       "    <tr>\n",
       "      <th>3</th>\n",
       "      <td>Michael</td>\n",
       "      <td>Vincent III</td>\n",
       "      <td>441 olivia creek</td>\n",
       "      <td>jimmymouth</td>\n",
       "      <td>georgia</td>\n",
       "      <td>82991</td>\n",
       "    </tr>\n",
       "    <tr>\n",
       "      <th>4</th>\n",
       "      <td>Jasmine</td>\n",
       "      <td>Zamora</td>\n",
       "      <td>4246 chelsey ford apt. 310</td>\n",
       "      <td>karamouth</td>\n",
       "      <td>utah</td>\n",
       "      <td>76252</td>\n",
       "    </tr>\n",
       "    <tr>\n",
       "      <th>...</th>\n",
       "      <td>...</td>\n",
       "      <td>...</td>\n",
       "      <td>...</td>\n",
       "      <td>...</td>\n",
       "      <td>...</td>\n",
       "      <td>...</td>\n",
       "    </tr>\n",
       "    <tr>\n",
       "      <th>9956</th>\n",
       "      <td>Dana</td>\n",
       "      <td>Browning</td>\n",
       "      <td>762 andrew views apt. 254</td>\n",
       "      <td>north paul</td>\n",
       "      <td>new mexico</td>\n",
       "      <td>28889</td>\n",
       "    </tr>\n",
       "    <tr>\n",
       "      <th>9957</th>\n",
       "      <td>Amanda</td>\n",
       "      <td>Anderson</td>\n",
       "      <td>44188 day crest apt. 901</td>\n",
       "      <td>lake marcia</td>\n",
       "      <td>maine</td>\n",
       "      <td>37378</td>\n",
       "    </tr>\n",
       "    <tr>\n",
       "      <th>9958</th>\n",
       "      <td>Eric</td>\n",
       "      <td>Davis</td>\n",
       "      <td>73015 michelle squares</td>\n",
       "      <td>watsonville</td>\n",
       "      <td>west virginia</td>\n",
       "      <td>03933</td>\n",
       "    </tr>\n",
       "    <tr>\n",
       "      <th>9959</th>\n",
       "      <td>Taylor</td>\n",
       "      <td>Hernandez</td>\n",
       "      <td>129 keith greens</td>\n",
       "      <td>haleyfurt</td>\n",
       "      <td>oklahoma</td>\n",
       "      <td>98916</td>\n",
       "    </tr>\n",
       "    <tr>\n",
       "      <th>9960</th>\n",
       "      <td>Sherry</td>\n",
       "      <td>Nicholson</td>\n",
       "      <td>355 griffin valley</td>\n",
       "      <td>davidtown</td>\n",
       "      <td>new mexico</td>\n",
       "      <td>17581</td>\n",
       "    </tr>\n",
       "  </tbody>\n",
       "</table>\n",
       "<p>9961 rows × 6 columns</p>\n",
       "</div>"
      ],
      "text/plain": [
       "     First Name    Last Name                          도로              시  \\\n",
       "0         Frank      Manning           6461 quinn groves   east matthew   \n",
       "1     Elizabeth      Johnson  1360 tracey ports apt. 419       kyleport   \n",
       "2        Donald     Stephens        19120 fleming manors    prestonstad   \n",
       "3       Michael  Vincent III            441 olivia creek     jimmymouth   \n",
       "4       Jasmine       Zamora  4246 chelsey ford apt. 310      karamouth   \n",
       "...         ...          ...                         ...            ...   \n",
       "9956       Dana     Browning   762 andrew views apt. 254     north paul   \n",
       "9957     Amanda     Anderson    44188 day crest apt. 901    lake marcia   \n",
       "9958       Eric        Davis      73015 michelle squares    watsonville   \n",
       "9959     Taylor    Hernandez            129 keith greens      haleyfurt   \n",
       "9960     Sherry    Nicholson          355 griffin valley      davidtown   \n",
       "\n",
       "                   주    우편번호  \n",
       "0      new hampshire   16656  \n",
       "1            vermont   31924  \n",
       "2            montana   23495  \n",
       "3            georgia   82991  \n",
       "4               utah   76252  \n",
       "...              ...     ...  \n",
       "9956      new mexico   28889  \n",
       "9957           maine   37378  \n",
       "9958   west virginia   03933  \n",
       "9959        oklahoma   98916  \n",
       "9960      new mexico   17581  \n",
       "\n",
       "[9961 rows x 6 columns]"
      ]
     },
     "execution_count": 207,
     "metadata": {},
     "output_type": "execute_result"
    }
   ],
   "source": [
    "customers[[\"도로\",\"시\",\"주\",\"우편번호\"]] = customers[\"Address\"].str.lower().str.split(\",\", expand = True) \n",
    "customers.drop(labels = \"Address\", axis = 1)"
   ]
  },
  {
   "cell_type": "code",
   "execution_count": null,
   "id": "1959dd3c",
   "metadata": {},
   "outputs": [],
   "source": []
  }
 ],
 "metadata": {
  "kernelspec": {
   "display_name": "Python 3 (ipykernel)",
   "language": "python",
   "name": "python3"
  },
  "language_info": {
   "codemirror_mode": {
    "name": "ipython",
    "version": 3
   },
   "file_extension": ".py",
   "mimetype": "text/x-python",
   "name": "python",
   "nbconvert_exporter": "python",
   "pygments_lexer": "ipython3",
   "version": "3.10.9"
  }
 },
 "nbformat": 4,
 "nbformat_minor": 5
}
