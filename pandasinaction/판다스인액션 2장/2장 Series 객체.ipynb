{
 "cells": [
  {
   "cell_type": "code",
   "execution_count": 6,
   "id": "50067b9a",
   "metadata": {},
   "outputs": [],
   "source": [
    "import pandas as pd\n",
    "import numpy as np"
   ]
  },
  {
   "cell_type": "code",
   "execution_count": 8,
   "id": "bd479548",
   "metadata": {},
   "outputs": [
    {
     "ename": "AttributeError",
     "evalue": "module 'pandas' has no attribute 'attribute'",
     "output_type": "error",
     "traceback": [
      "\u001b[0;31m---------------------------------------------------------------------------\u001b[0m",
      "\u001b[0;31mAttributeError\u001b[0m                            Traceback (most recent call last)",
      "Cell \u001b[0;32mIn[8], line 1\u001b[0m\n\u001b[0;32m----> 1\u001b[0m \u001b[43mpd\u001b[49m\u001b[38;5;241;43m.\u001b[39;49m\u001b[43mattribute\u001b[49m\n",
      "File \u001b[0;32m~/anaconda3/lib/python3.10/site-packages/pandas/__init__.py:264\u001b[0m, in \u001b[0;36m__getattr__\u001b[0;34m(name)\u001b[0m\n\u001b[1;32m    260\u001b[0m     \u001b[38;5;28;01mfrom\u001b[39;00m \u001b[38;5;21;01mpandas\u001b[39;00m\u001b[38;5;21;01m.\u001b[39;00m\u001b[38;5;21;01mcore\u001b[39;00m\u001b[38;5;21;01m.\u001b[39;00m\u001b[38;5;21;01marrays\u001b[39;00m\u001b[38;5;21;01m.\u001b[39;00m\u001b[38;5;21;01msparse\u001b[39;00m \u001b[38;5;28;01mimport\u001b[39;00m SparseArray \u001b[38;5;28;01mas\u001b[39;00m _SparseArray\n\u001b[1;32m    262\u001b[0m     \u001b[38;5;28;01mreturn\u001b[39;00m _SparseArray\n\u001b[0;32m--> 264\u001b[0m \u001b[38;5;28;01mraise\u001b[39;00m \u001b[38;5;167;01mAttributeError\u001b[39;00m(\u001b[38;5;124mf\u001b[39m\u001b[38;5;124m\"\u001b[39m\u001b[38;5;124mmodule \u001b[39m\u001b[38;5;124m'\u001b[39m\u001b[38;5;124mpandas\u001b[39m\u001b[38;5;124m'\u001b[39m\u001b[38;5;124m has no attribute \u001b[39m\u001b[38;5;124m'\u001b[39m\u001b[38;5;132;01m{\u001b[39;00mname\u001b[38;5;132;01m}\u001b[39;00m\u001b[38;5;124m'\u001b[39m\u001b[38;5;124m\"\u001b[39m)\n",
      "\u001b[0;31mAttributeError\u001b[0m: module 'pandas' has no attribute 'attribute'"
     ]
    }
   ],
   "source": [
    "pd.attribute"
   ]
  },
  {
   "cell_type": "code",
   "execution_count": 10,
   "id": "2b54155f",
   "metadata": {},
   "outputs": [
    {
     "name": "stderr",
     "output_type": "stream",
     "text": [
      "/var/folders/yh/smj7ptzs057g14vbhqqqhcq00000gn/T/ipykernel_64222/2031691219.py:1: FutureWarning: The default dtype for empty Series will be 'object' instead of 'float64' in a future version. Specify a dtype explicitly to silence this warning.\n",
      "  pd.Series()\n"
     ]
    },
    {
     "data": {
      "text/plain": [
       "Series([], dtype: float64)"
      ]
     },
     "execution_count": 10,
     "metadata": {},
     "output_type": "execute_result"
    }
   ],
   "source": [
    "pd.Series()"
   ]
  },
  {
   "cell_type": "code",
   "execution_count": 13,
   "id": "aacdcc1f",
   "metadata": {},
   "outputs": [
    {
     "data": {
      "text/plain": [
       "0     Chocolate\n",
       "1       Vanilla\n",
       "2    Strawberry\n",
       "3    Rum Raisin\n",
       "dtype: object"
      ]
     },
     "execution_count": 13,
     "metadata": {},
     "output_type": "execute_result"
    }
   ],
   "source": [
    "ice_cream_flavors = [\n",
    "    \"Chocolate\",\n",
    "    \"Vanilla\",\n",
    "    \"Strawberry\",\n",
    "    \"Rum Raisin\",\n",
    "]\n",
    "\n",
    "pd.Series(ice_cream_flavors)"
   ]
  },
  {
   "cell_type": "code",
   "execution_count": 14,
   "id": "eabe6f89",
   "metadata": {},
   "outputs": [
    {
     "data": {
      "text/plain": [
       "0     Chocolate\n",
       "1       Vanilla\n",
       "2    Strawberry\n",
       "3    Rum Raisin\n",
       "dtype: object"
      ]
     },
     "execution_count": 14,
     "metadata": {},
     "output_type": "execute_result"
    }
   ],
   "source": [
    "pd.Series(ice_cream_flavors)\n",
    "pd.Series(data = ice_cream_flavors)"
   ]
  },
  {
   "cell_type": "code",
   "execution_count": 15,
   "id": "c2ceddea",
   "metadata": {},
   "outputs": [
    {
     "data": {
      "text/plain": [
       "Monday        Chocolate\n",
       "Wednesday       Vanilla\n",
       "Friday       Strawberry\n",
       "Saturday     Rum Raisin\n",
       "dtype: object"
      ]
     },
     "execution_count": 15,
     "metadata": {},
     "output_type": "execute_result"
    }
   ],
   "source": [
    "# 데이터를 리스트에 전달하고, 인덱스는 튜플로 전달한다.\n",
    "\n",
    "ice_cream_flavors = [\n",
    "    \"Chocolate\",\n",
    "    \"Vanilla\",\n",
    "    \"Strawberry\",\n",
    "    \"Rum Raisin\",\n",
    "]\n",
    "\n",
    "days_of_week = (\"Monday\", \"Wednesday\", \"Friday\", \"Saturday\")\n",
    "\n",
    "pd.Series(ice_cream_flavors, days_of_week)\n",
    "pd.Series(data = ice_cream_flavors, index = days_of_week)"
   ]
  },
  {
   "cell_type": "code",
   "execution_count": 16,
   "id": "be20fe2f",
   "metadata": {},
   "outputs": [
    {
     "data": {
      "text/plain": [
       "Monday        Chocolate\n",
       "Wednesday       Vanilla\n",
       "Friday       Strawberry\n",
       "Saturday     Rum Raisin\n",
       "dtype: object"
      ]
     },
     "execution_count": 16,
     "metadata": {},
     "output_type": "execute_result"
    }
   ],
   "source": [
    "pd.Series(index= days_of_week, data = ice_cream_flavors)"
   ]
  },
  {
   "cell_type": "code",
   "execution_count": 17,
   "id": "fc806bf2",
   "metadata": {},
   "outputs": [
    {
     "data": {
      "text/plain": [
       "0     True\n",
       "1    False\n",
       "2    False\n",
       "dtype: bool"
      ]
     },
     "execution_count": 17,
     "metadata": {},
     "output_type": "execute_result"
    }
   ],
   "source": [
    "bunch_of_bools = [True, False, False]\n",
    "pd.Series(bunch_of_bools)"
   ]
  },
  {
   "cell_type": "code",
   "execution_count": 20,
   "id": "c5fe20ca",
   "metadata": {},
   "outputs": [
    {
     "data": {
      "text/plain": [
       "985.32     Open\n",
       "950.44    Close\n",
       "dtype: object"
      ]
     },
     "execution_count": 20,
     "metadata": {},
     "output_type": "execute_result"
    }
   ],
   "source": [
    "stock_prices = [985.32, 950.44]\n",
    "time_of_day = [\"Open\", \"Close\"]\n",
    "pd.Series(data = time_of_day, index = stock_prices)"
   ]
  },
  {
   "cell_type": "code",
   "execution_count": 19,
   "id": "c576e63f",
   "metadata": {},
   "outputs": [
    {
     "data": {
      "text/plain": [
       "0     4\n",
       "1     8\n",
       "2    15\n",
       "3    16\n",
       "4    23\n",
       "5    42\n",
       "dtype: int64"
      ]
     },
     "execution_count": 19,
     "metadata": {},
     "output_type": "execute_result"
    }
   ],
   "source": [
    "lucky_numbers = [4,8,15,16,23,42]\n",
    "pd.Series(lucky_numbers)"
   ]
  },
  {
   "cell_type": "code",
   "execution_count": 21,
   "id": "3cbe8519",
   "metadata": {},
   "outputs": [
    {
     "data": {
      "text/plain": [
       "0    94.0\n",
       "1    88.0\n",
       "2     NaN\n",
       "3    91.0\n",
       "dtype: float64"
      ]
     },
     "execution_count": 21,
     "metadata": {},
     "output_type": "execute_result"
    }
   ],
   "source": [
    "temperatures = [94,88,np.nan, 91]\n",
    "pd.Series(data = temperatures)"
   ]
  },
  {
   "cell_type": "code",
   "execution_count": 24,
   "id": "8f920e00",
   "metadata": {},
   "outputs": [
    {
     "data": {
      "text/plain": [
       "Cereal              125\n",
       "Chocolate Bar       406\n",
       "Ice Cream Sundae    342\n",
       "dtype: int64"
      ]
     },
     "execution_count": 24,
     "metadata": {},
     "output_type": "execute_result"
    }
   ],
   "source": [
    "calorie_info = {\n",
    "    \"Cereal\": 125,\n",
    "    \"Chocolate Bar\": 406,\n",
    "    \"Ice Cream Sundae\": 342,\n",
    "}\n",
    "\n",
    "diet = pd.Series(calorie_info)\n",
    "diet"
   ]
  },
  {
   "cell_type": "code",
   "execution_count": 25,
   "id": "0c836990",
   "metadata": {},
   "outputs": [
    {
     "data": {
      "text/plain": [
       "0      Red\n",
       "1    Green\n",
       "2     Blue\n",
       "dtype: object"
      ]
     },
     "execution_count": 25,
     "metadata": {},
     "output_type": "execute_result"
    }
   ],
   "source": [
    "pd.Series(data = (\"Red\", \"Green\", \"Blue\"))"
   ]
  },
  {
   "cell_type": "code",
   "execution_count": 26,
   "id": "b58eec68",
   "metadata": {},
   "outputs": [
    {
     "data": {
      "text/plain": [
       "0     (120, 41, 26)\n",
       "1    (196, 165, 45)\n",
       "dtype: object"
      ]
     },
     "execution_count": 26,
     "metadata": {},
     "output_type": "execute_result"
    }
   ],
   "source": [
    "# 튜플을 저장하는 시리즈를 생성하려면 튜플을 리스트로 감싸야 한다.\n",
    "rgb_colors = [(120,41,26),(196,165,45)]\n",
    "pd.Series(data = rgb_colors)"
   ]
  },
  {
   "cell_type": "code",
   "execution_count": 30,
   "id": "b254dff0",
   "metadata": {},
   "outputs": [
    {
     "ename": "TypeError",
     "evalue": "'set' type is unordered",
     "output_type": "error",
     "traceback": [
      "\u001b[0;31m---------------------------------------------------------------------------\u001b[0m",
      "\u001b[0;31mTypeError\u001b[0m                                 Traceback (most recent call last)",
      "Cell \u001b[0;32mIn[30], line 4\u001b[0m\n\u001b[1;32m      1\u001b[0m \u001b[38;5;66;03m# 시리즈 생성자에 집합을 전달하면 판다는 타입에러를 발생시킨다. 집하에는 리스트와 같은 순서 개념이나 딕셔너리와 같은 연관 개념이 없다. \u001b[39;00m\n\u001b[1;32m      2\u001b[0m \u001b[38;5;66;03m# 따라서 판다스는 집한의 값을 저장하는 순서를 가정할 수 없다.\u001b[39;00m\n\u001b[1;32m      3\u001b[0m my_set \u001b[38;5;241m=\u001b[39m {\u001b[38;5;124m\"\u001b[39m\u001b[38;5;124mRicky\u001b[39m\u001b[38;5;124m\"\u001b[39m, \u001b[38;5;124m\"\u001b[39m\u001b[38;5;124mBobby\u001b[39m\u001b[38;5;124m\"\u001b[39m}\n\u001b[0;32m----> 4\u001b[0m \u001b[43mpd\u001b[49m\u001b[38;5;241;43m.\u001b[39;49m\u001b[43mSeries\u001b[49m\u001b[43m(\u001b[49m\u001b[43mmy_set\u001b[49m\u001b[43m)\u001b[49m\n",
      "File \u001b[0;32m~/anaconda3/lib/python3.10/site-packages/pandas/core/series.py:470\u001b[0m, in \u001b[0;36mSeries.__init__\u001b[0;34m(self, data, index, dtype, name, copy, fastpath)\u001b[0m\n\u001b[1;32m    468\u001b[0m         data \u001b[38;5;241m=\u001b[39m data\u001b[38;5;241m.\u001b[39mcopy()\n\u001b[1;32m    469\u001b[0m \u001b[38;5;28;01melse\u001b[39;00m:\n\u001b[0;32m--> 470\u001b[0m     data \u001b[38;5;241m=\u001b[39m \u001b[43msanitize_array\u001b[49m\u001b[43m(\u001b[49m\u001b[43mdata\u001b[49m\u001b[43m,\u001b[49m\u001b[43m \u001b[49m\u001b[43mindex\u001b[49m\u001b[43m,\u001b[49m\u001b[43m \u001b[49m\u001b[43mdtype\u001b[49m\u001b[43m,\u001b[49m\u001b[43m \u001b[49m\u001b[43mcopy\u001b[49m\u001b[43m)\u001b[49m\n\u001b[1;32m    472\u001b[0m     manager \u001b[38;5;241m=\u001b[39m get_option(\u001b[38;5;124m\"\u001b[39m\u001b[38;5;124mmode.data_manager\u001b[39m\u001b[38;5;124m\"\u001b[39m)\n\u001b[1;32m    473\u001b[0m     \u001b[38;5;28;01mif\u001b[39;00m manager \u001b[38;5;241m==\u001b[39m \u001b[38;5;124m\"\u001b[39m\u001b[38;5;124mblock\u001b[39m\u001b[38;5;124m\"\u001b[39m:\n",
      "File \u001b[0;32m~/anaconda3/lib/python3.10/site-packages/pandas/core/construction.py:611\u001b[0m, in \u001b[0;36msanitize_array\u001b[0;34m(data, index, dtype, copy, raise_cast_failure, allow_2d)\u001b[0m\n\u001b[1;32m    608\u001b[0m \u001b[38;5;28;01melse\u001b[39;00m:\n\u001b[1;32m    609\u001b[0m     \u001b[38;5;28;01mif\u001b[39;00m \u001b[38;5;28misinstance\u001b[39m(data, (\u001b[38;5;28mset\u001b[39m, \u001b[38;5;28mfrozenset\u001b[39m)):\n\u001b[1;32m    610\u001b[0m         \u001b[38;5;66;03m# Raise only for unordered sets, e.g., not for dict_keys\u001b[39;00m\n\u001b[0;32m--> 611\u001b[0m         \u001b[38;5;28;01mraise\u001b[39;00m \u001b[38;5;167;01mTypeError\u001b[39;00m(\u001b[38;5;124mf\u001b[39m\u001b[38;5;124m\"\u001b[39m\u001b[38;5;124m'\u001b[39m\u001b[38;5;132;01m{\u001b[39;00m\u001b[38;5;28mtype\u001b[39m(data)\u001b[38;5;241m.\u001b[39m\u001b[38;5;18m__name__\u001b[39m\u001b[38;5;132;01m}\u001b[39;00m\u001b[38;5;124m'\u001b[39m\u001b[38;5;124m type is unordered\u001b[39m\u001b[38;5;124m\"\u001b[39m)\n\u001b[1;32m    613\u001b[0m     \u001b[38;5;66;03m# materialize e.g. generators, convert e.g. tuples, abc.ValueView\u001b[39;00m\n\u001b[1;32m    614\u001b[0m     \u001b[38;5;28;01mif\u001b[39;00m \u001b[38;5;28mhasattr\u001b[39m(data, \u001b[38;5;124m\"\u001b[39m\u001b[38;5;124m__array__\u001b[39m\u001b[38;5;124m\"\u001b[39m):\n\u001b[1;32m    615\u001b[0m         \u001b[38;5;66;03m# e.g. dask array GH#38645\u001b[39;00m\n",
      "\u001b[0;31mTypeError\u001b[0m: 'set' type is unordered"
     ]
    }
   ],
   "source": [
    "# 시리즈 생성자에 집합을 전달하면 판다는 타입에러를 발생시킨다. 집하에는 리스트와 같은 순서 개념이나 딕셔너리와 같은 연관 개념이 없다. \n",
    "# 따라서 판다스는 집한의 값을 저장하는 순서를 가정할 수 없다.\n",
    "my_set = {\"Ricky\", \"Bobby\"}\n",
    "pd.Series(my_set)"
   ]
  },
  {
   "cell_type": "code",
   "execution_count": 31,
   "id": "3c6a219a",
   "metadata": {},
   "outputs": [
    {
     "data": {
      "text/plain": [
       "0    Ricky\n",
       "1    Bobby\n",
       "dtype: object"
      ]
     },
     "execution_count": 31,
     "metadata": {},
     "output_type": "execute_result"
    }
   ],
   "source": [
    "pd.Series(list(my_set))"
   ]
  },
  {
   "cell_type": "code",
   "execution_count": 32,
   "id": "b9db78bd",
   "metadata": {},
   "outputs": [
    {
     "data": {
      "text/plain": [
       "array([13, 60, 81, 57, 23, 79, 40, 39, 69, 49])"
      ]
     },
     "execution_count": 32,
     "metadata": {},
     "output_type": "execute_result"
    }
   ],
   "source": [
    "random_data = np.random.randint(1,101,10)\n",
    "random_data"
   ]
  },
  {
   "cell_type": "code",
   "execution_count": 33,
   "id": "ef8b0916",
   "metadata": {},
   "outputs": [
    {
     "data": {
      "text/plain": [
       "0    13\n",
       "1    60\n",
       "2    81\n",
       "3    57\n",
       "4    23\n",
       "5    79\n",
       "6    40\n",
       "7    39\n",
       "8    69\n",
       "9    49\n",
       "dtype: int64"
      ]
     },
     "execution_count": 33,
     "metadata": {},
     "output_type": "execute_result"
    }
   ],
   "source": [
    "pd.Series(random_data)"
   ]
  },
  {
   "cell_type": "code",
   "execution_count": 35,
   "id": "bb0f3779",
   "metadata": {},
   "outputs": [
    {
     "data": {
      "text/plain": [
       "numpy.ndarray"
      ]
     },
     "execution_count": 35,
     "metadata": {},
     "output_type": "execute_result"
    }
   ],
   "source": [
    "# 판다스는 다른 라이브러리의 객체, 즉 넘파이의 ndarray를 사용하여 series값을 저장한다.\n",
    "type(diet.values)"
   ]
  },
  {
   "cell_type": "code",
   "execution_count": 36,
   "id": "c80db675",
   "metadata": {},
   "outputs": [
    {
     "data": {
      "text/plain": [
       "Index(['Cereal', 'Chocolate Bar', 'Ice Cream Sundae'], dtype='object')"
      ]
     },
     "execution_count": 36,
     "metadata": {},
     "output_type": "execute_result"
    }
   ],
   "source": [
    "diet.index"
   ]
  },
  {
   "cell_type": "code",
   "execution_count": 37,
   "id": "8eba6ddb",
   "metadata": {},
   "outputs": [
    {
     "data": {
      "text/plain": [
       "pandas.core.indexes.base.Index"
      ]
     },
     "execution_count": 37,
     "metadata": {},
     "output_type": "execute_result"
    }
   ],
   "source": [
    "type(diet.index)"
   ]
  },
  {
   "cell_type": "code",
   "execution_count": 38,
   "id": "07a296b2",
   "metadata": {},
   "outputs": [
    {
     "data": {
      "text/plain": [
       "dtype('int64')"
      ]
     },
     "execution_count": 38,
     "metadata": {},
     "output_type": "execute_result"
    }
   ],
   "source": [
    "diet.dtype"
   ]
  },
  {
   "cell_type": "code",
   "execution_count": 39,
   "id": "e07104c2",
   "metadata": {},
   "outputs": [
    {
     "data": {
      "text/plain": [
       "3"
      ]
     },
     "execution_count": 39,
     "metadata": {},
     "output_type": "execute_result"
    }
   ],
   "source": [
    "diet.size"
   ]
  },
  {
   "cell_type": "code",
   "execution_count": 41,
   "id": "a8c4acbc",
   "metadata": {},
   "outputs": [
    {
     "data": {
      "text/plain": [
       "(3,)"
      ]
     },
     "execution_count": 41,
     "metadata": {},
     "output_type": "execute_result"
    }
   ],
   "source": [
    "# shape가 반환한 값이 1차원 튜플이라는 뜻\n",
    "diet.shape"
   ]
  },
  {
   "cell_type": "code",
   "execution_count": 42,
   "id": "d397e9aa",
   "metadata": {},
   "outputs": [
    {
     "data": {
      "text/plain": [
       "True"
      ]
     },
     "execution_count": 42,
     "metadata": {},
     "output_type": "execute_result"
    }
   ],
   "source": [
    "diet.is_unique"
   ]
  },
  {
   "cell_type": "code",
   "execution_count": 45,
   "id": "3a798a87",
   "metadata": {},
   "outputs": [
    {
     "data": {
      "text/plain": [
       "False"
      ]
     },
     "execution_count": 45,
     "metadata": {},
     "output_type": "execute_result"
    }
   ],
   "source": [
    "pd.Series(data = [3,3]).is_unique\n"
   ]
  },
  {
   "cell_type": "code",
   "execution_count": 47,
   "id": "200b5ae6",
   "metadata": {},
   "outputs": [
    {
     "name": "stderr",
     "output_type": "stream",
     "text": [
      "/var/folders/yh/smj7ptzs057g14vbhqqqhcq00000gn/T/ipykernel_64222/581495754.py:2: FutureWarning: is_monotonic is deprecated and will be removed in a future version. Use is_monotonic_increasing instead.\n",
      "  pd.Series(data = [1,3,6]).is_monotonic\n"
     ]
    },
    {
     "data": {
      "text/plain": [
       "True"
      ]
     },
     "execution_count": 47,
     "metadata": {},
     "output_type": "execute_result"
    }
   ],
   "source": [
    "# 각 시리즈 값이 자신의 이전 값보다 크면 is_monotonic 속성은 true를 반환한다.\n",
    "pd.Series(data = [1,3,6]).is_monotonic"
   ]
  },
  {
   "cell_type": "code",
   "execution_count": 48,
   "id": "dcccc292",
   "metadata": {},
   "outputs": [
    {
     "name": "stderr",
     "output_type": "stream",
     "text": [
      "/var/folders/yh/smj7ptzs057g14vbhqqqhcq00000gn/T/ipykernel_64222/296630602.py:1: FutureWarning: is_monotonic is deprecated and will be removed in a future version. Use is_monotonic_increasing instead.\n",
      "  pd.Series(data = [1,6,3]).is_monotonic\n"
     ]
    },
    {
     "data": {
      "text/plain": [
       "False"
      ]
     },
     "execution_count": 48,
     "metadata": {},
     "output_type": "execute_result"
    }
   ],
   "source": [
    "pd.Series(data = [1,6,3]).is_monotonic"
   ]
  },
  {
   "cell_type": "code",
   "execution_count": 50,
   "id": "b8cfd6d8",
   "metadata": {},
   "outputs": [
    {
     "data": {
      "text/plain": [
       "0       0\n",
       "1       5\n",
       "2      10\n",
       "3      15\n",
       "4      20\n",
       "     ... \n",
       "95    475\n",
       "96    480\n",
       "97    485\n",
       "98    490\n",
       "99    495\n",
       "Length: 100, dtype: int64"
      ]
     },
     "execution_count": 50,
     "metadata": {},
     "output_type": "execute_result"
    }
   ],
   "source": [
    "values = range(0,500,5)\n",
    "nums = pd.Series(data = values)\n",
    "nums"
   ]
  },
  {
   "cell_type": "code",
   "execution_count": 51,
   "id": "aa585286",
   "metadata": {},
   "outputs": [
    {
     "data": {
      "text/plain": [
       "0     0\n",
       "1     5\n",
       "2    10\n",
       "dtype: int64"
      ]
     },
     "execution_count": 51,
     "metadata": {},
     "output_type": "execute_result"
    }
   ],
   "source": [
    "nums.head(3)"
   ]
  },
  {
   "cell_type": "code",
   "execution_count": 52,
   "id": "21c72e5b",
   "metadata": {},
   "outputs": [
    {
     "data": {
      "text/plain": [
       "0     0\n",
       "1     5\n",
       "2    10\n",
       "dtype: int64"
      ]
     },
     "execution_count": 52,
     "metadata": {},
     "output_type": "execute_result"
    }
   ],
   "source": [
    "nums.head( n=3)"
   ]
  },
  {
   "cell_type": "code",
   "execution_count": 53,
   "id": "c771f1f4",
   "metadata": {},
   "outputs": [
    {
     "data": {
      "text/plain": [
       "0     0\n",
       "1     5\n",
       "2    10\n",
       "3    15\n",
       "4    20\n",
       "dtype: int64"
      ]
     },
     "execution_count": 53,
     "metadata": {},
     "output_type": "execute_result"
    }
   ],
   "source": [
    "nums.head()"
   ]
  },
  {
   "cell_type": "code",
   "execution_count": 55,
   "id": "f273cbf1",
   "metadata": {},
   "outputs": [
    {
     "data": {
      "text/plain": [
       "94    470\n",
       "95    475\n",
       "96    480\n",
       "97    485\n",
       "98    490\n",
       "99    495\n",
       "dtype: int64"
      ]
     },
     "execution_count": 55,
     "metadata": {},
     "output_type": "execute_result"
    }
   ],
   "source": [
    "nums.tail(6)"
   ]
  },
  {
   "cell_type": "code",
   "execution_count": 56,
   "id": "6fea3b40",
   "metadata": {},
   "outputs": [
    {
     "data": {
      "text/plain": [
       "95    475\n",
       "96    480\n",
       "97    485\n",
       "98    490\n",
       "99    495\n",
       "dtype: int64"
      ]
     },
     "execution_count": 56,
     "metadata": {},
     "output_type": "execute_result"
    }
   ],
   "source": [
    "nums.tail()"
   ]
  },
  {
   "cell_type": "code",
   "execution_count": 57,
   "id": "75b2ed63",
   "metadata": {},
   "outputs": [
    {
     "data": {
      "text/plain": [
       "0    1.0\n",
       "1    2.0\n",
       "2    3.0\n",
       "3    NaN\n",
       "4    4.0\n",
       "5    5.0\n",
       "dtype: float64"
      ]
     },
     "execution_count": 57,
     "metadata": {},
     "output_type": "execute_result"
    }
   ],
   "source": [
    "numbers = pd.Series([1,2,3, np.nan, 4,5])\n",
    "numbers"
   ]
  },
  {
   "cell_type": "code",
   "execution_count": 59,
   "id": "27f8fb2d",
   "metadata": {},
   "outputs": [
    {
     "data": {
      "text/plain": [
       "5"
      ]
     },
     "execution_count": 59,
     "metadata": {},
     "output_type": "execute_result"
    }
   ],
   "source": [
    "numbers.count()"
   ]
  },
  {
   "cell_type": "code",
   "execution_count": 60,
   "id": "39007a95",
   "metadata": {},
   "outputs": [
    {
     "data": {
      "text/plain": [
       "15.0"
      ]
     },
     "execution_count": 60,
     "metadata": {},
     "output_type": "execute_result"
    }
   ],
   "source": [
    "numbers.sum()"
   ]
  },
  {
   "cell_type": "code",
   "execution_count": 61,
   "id": "e3c222ab",
   "metadata": {},
   "outputs": [
    {
     "data": {
      "text/plain": [
       "nan"
      ]
     },
     "execution_count": 61,
     "metadata": {},
     "output_type": "execute_result"
    }
   ],
   "source": [
    "# null을 포함해서 연산하면 skipna false\n",
    "numbers.sum(skipna = False)"
   ]
  },
  {
   "cell_type": "code",
   "execution_count": 66,
   "id": "805ac172",
   "metadata": {},
   "outputs": [
    {
     "data": {
      "text/plain": [
       "15.0"
      ]
     },
     "execution_count": 66,
     "metadata": {},
     "output_type": "execute_result"
    }
   ],
   "source": [
    "numbers.sum(min_count = 3)"
   ]
  },
  {
   "cell_type": "code",
   "execution_count": 67,
   "id": "a1f883e5",
   "metadata": {},
   "outputs": [
    {
     "data": {
      "text/plain": [
       "nan"
      ]
     },
     "execution_count": 67,
     "metadata": {},
     "output_type": "execute_result"
    }
   ],
   "source": [
    "numbers.sum(min_count = 6)"
   ]
  },
  {
   "cell_type": "code",
   "execution_count": 68,
   "id": "fa75b488",
   "metadata": {},
   "outputs": [
    {
     "data": {
      "text/plain": [
       "120.0"
      ]
     },
     "execution_count": 68,
     "metadata": {},
     "output_type": "execute_result"
    }
   ],
   "source": [
    "# 시리즈 모든 값을 곱하는 메서드\n",
    "numbers.product()"
   ]
  },
  {
   "cell_type": "code",
   "execution_count": 69,
   "id": "0be3e55d",
   "metadata": {},
   "outputs": [
    {
     "data": {
      "text/plain": [
       "nan"
      ]
     },
     "execution_count": 69,
     "metadata": {},
     "output_type": "execute_result"
    }
   ],
   "source": [
    "numbers.product(skipna = False)"
   ]
  },
  {
   "cell_type": "code",
   "execution_count": 70,
   "id": "8381b55d",
   "metadata": {},
   "outputs": [
    {
     "data": {
      "text/plain": [
       "120.0"
      ]
     },
     "execution_count": 70,
     "metadata": {},
     "output_type": "execute_result"
    }
   ],
   "source": [
    "numbers.product(min_count = 3)"
   ]
  },
  {
   "cell_type": "code",
   "execution_count": 72,
   "id": "090033e0",
   "metadata": {},
   "outputs": [
    {
     "data": {
      "text/plain": [
       "0    1.0\n",
       "1    2.0\n",
       "2    3.0\n",
       "3    NaN\n",
       "4    4.0\n",
       "5    5.0\n",
       "dtype: float64"
      ]
     },
     "execution_count": 72,
     "metadata": {},
     "output_type": "execute_result"
    }
   ],
   "source": [
    "numbers"
   ]
  },
  {
   "cell_type": "code",
   "execution_count": 73,
   "id": "0172020c",
   "metadata": {},
   "outputs": [
    {
     "data": {
      "text/plain": [
       "0     1.0\n",
       "1     3.0\n",
       "2     6.0\n",
       "3     NaN\n",
       "4    10.0\n",
       "5    15.0\n",
       "dtype: float64"
      ]
     },
     "execution_count": 73,
     "metadata": {},
     "output_type": "execute_result"
    }
   ],
   "source": [
    "numbers.cumsum()"
   ]
  },
  {
   "cell_type": "code",
   "execution_count": 74,
   "id": "1920714b",
   "metadata": {},
   "outputs": [
    {
     "data": {
      "text/plain": [
       "0    1.0\n",
       "1    3.0\n",
       "2    6.0\n",
       "3    NaN\n",
       "4    NaN\n",
       "5    NaN\n",
       "dtype: float64"
      ]
     },
     "execution_count": 74,
     "metadata": {},
     "output_type": "execute_result"
    }
   ],
   "source": [
    "numbers.cumsum(skipna = False)"
   ]
  },
  {
   "cell_type": "code",
   "execution_count": 76,
   "id": "d874b8ae",
   "metadata": {},
   "outputs": [
    {
     "data": {
      "text/plain": [
       "0         NaN\n",
       "1    1.000000\n",
       "2    0.500000\n",
       "3    0.000000\n",
       "4    0.333333\n",
       "5    0.250000\n",
       "dtype: float64"
      ]
     },
     "execution_count": 76,
     "metadata": {},
     "output_type": "execute_result"
    }
   ],
   "source": [
    "numbers.pct_change()"
   ]
  },
  {
   "cell_type": "code",
   "execution_count": 78,
   "id": "d07217bb",
   "metadata": {},
   "outputs": [
    {
     "data": {
      "text/plain": [
       "0         NaN\n",
       "1    1.000000\n",
       "2    0.500000\n",
       "3    0.000000\n",
       "4    0.333333\n",
       "5    0.250000\n",
       "dtype: float64"
      ]
     },
     "execution_count": 78,
     "metadata": {},
     "output_type": "execute_result"
    }
   ],
   "source": [
    "# 아래 세 줄은 결과가 동일하다.\n",
    "numbers.pct_change()\n",
    "numbers.pct_change(fill_method = \"pad\")\n",
    "numbers.pct_change(fill_method = \"ffill\")"
   ]
  },
  {
   "cell_type": "code",
   "execution_count": 79,
   "id": "a54cb2e0",
   "metadata": {},
   "outputs": [
    {
     "data": {
      "text/plain": [
       "0         NaN\n",
       "1    1.000000\n",
       "2    0.500000\n",
       "3    0.333333\n",
       "4    0.000000\n",
       "5    0.250000\n",
       "dtype: float64"
      ]
     },
     "execution_count": 79,
     "metadata": {},
     "output_type": "execute_result"
    }
   ],
   "source": [
    "# 역방향 채우기 전략에서는 좀 다르다. \n",
    "# Nan값을 마지막 유효값을 대체하는 것이 아닌 그 다음값으로 대체한다.\n",
    "numbers.pct_change(fill_method = \"bfill\")\n",
    "numbers.pct_change(fill_method = \"backfill\")"
   ]
  },
  {
   "cell_type": "code",
   "execution_count": 80,
   "id": "556af931",
   "metadata": {},
   "outputs": [
    {
     "data": {
      "text/plain": [
       "3.0"
      ]
     },
     "execution_count": 80,
     "metadata": {},
     "output_type": "execute_result"
    }
   ],
   "source": [
    "numbers.mean()"
   ]
  },
  {
   "cell_type": "code",
   "execution_count": 82,
   "id": "369a7cfa",
   "metadata": {},
   "outputs": [
    {
     "data": {
      "text/plain": [
       "3.0"
      ]
     },
     "execution_count": 82,
     "metadata": {},
     "output_type": "execute_result"
    }
   ],
   "source": [
    "numbers.median()"
   ]
  },
  {
   "cell_type": "code",
   "execution_count": 83,
   "id": "b62133d6",
   "metadata": {},
   "outputs": [
    {
     "data": {
      "text/plain": [
       "1.5811388300841898"
      ]
     },
     "execution_count": 83,
     "metadata": {},
     "output_type": "execute_result"
    }
   ],
   "source": [
    "numbers.std()"
   ]
  },
  {
   "cell_type": "code",
   "execution_count": 84,
   "id": "2e9b6661",
   "metadata": {},
   "outputs": [
    {
     "data": {
      "text/plain": [
       "5.0"
      ]
     },
     "execution_count": 84,
     "metadata": {},
     "output_type": "execute_result"
    }
   ],
   "source": [
    "numbers.max()"
   ]
  },
  {
   "cell_type": "code",
   "execution_count": 85,
   "id": "5ba8bd00",
   "metadata": {},
   "outputs": [
    {
     "data": {
      "text/plain": [
       "1.0"
      ]
     },
     "execution_count": 85,
     "metadata": {},
     "output_type": "execute_result"
    }
   ],
   "source": [
    "numbers.min()"
   ]
  },
  {
   "cell_type": "code",
   "execution_count": 86,
   "id": "12a1b64f",
   "metadata": {},
   "outputs": [
    {
     "data": {
      "text/plain": [
       "0       koala\n",
       "1    aardvark\n",
       "2       zebra\n",
       "dtype: object"
      ]
     },
     "execution_count": 86,
     "metadata": {},
     "output_type": "execute_result"
    }
   ],
   "source": [
    "animals = pd.Series([\"koala\", \"aardvark\",\"zebra\"])\n",
    "animals "
   ]
  },
  {
   "cell_type": "code",
   "execution_count": 87,
   "id": "502c8beb",
   "metadata": {},
   "outputs": [
    {
     "data": {
      "text/plain": [
       "'zebra'"
      ]
     },
     "execution_count": 87,
     "metadata": {},
     "output_type": "execute_result"
    }
   ],
   "source": [
    "# 알파벳의 끝 부분에 가장 가까운 문자열\n",
    "animals.max()"
   ]
  },
  {
   "cell_type": "code",
   "execution_count": 88,
   "id": "d7228465",
   "metadata": {},
   "outputs": [
    {
     "data": {
      "text/plain": [
       "'aardvark'"
      ]
     },
     "execution_count": 88,
     "metadata": {},
     "output_type": "execute_result"
    }
   ],
   "source": [
    "animals.min()"
   ]
  },
  {
   "cell_type": "code",
   "execution_count": 89,
   "id": "4e040a0c",
   "metadata": {},
   "outputs": [
    {
     "data": {
      "text/plain": [
       "count    5.000000\n",
       "mean     3.000000\n",
       "std      1.581139\n",
       "min      1.000000\n",
       "25%      2.000000\n",
       "50%      3.000000\n",
       "75%      4.000000\n",
       "max      5.000000\n",
       "dtype: float64"
      ]
     },
     "execution_count": 89,
     "metadata": {},
     "output_type": "execute_result"
    }
   ],
   "source": [
    "numbers.describe()"
   ]
  },
  {
   "cell_type": "code",
   "execution_count": 101,
   "id": "2f419c29",
   "metadata": {},
   "outputs": [
    {
     "data": {
      "text/plain": [
       "array(['Hemingway', 'Orwell', 'Dostoevsky', 'Fitzgerald'], dtype=object)"
      ]
     },
     "execution_count": 101,
     "metadata": {},
     "output_type": "execute_result"
    }
   ],
   "source": [
    "authors = pd.Series( \n",
    "    [\"Hemingway\", \"Orwell\", \"Dostoevsky\",\"Fitzgerald\", \"Orwell\"]\n",
    ")\n",
    "\n",
    "authors.unique()"
   ]
  },
  {
   "cell_type": "code",
   "execution_count": 103,
   "id": "e509c970",
   "metadata": {},
   "outputs": [
    {
     "data": {
      "text/plain": [
       "4"
      ]
     },
     "execution_count": 103,
     "metadata": {},
     "output_type": "execute_result"
    }
   ],
   "source": [
    "# unique 메서드가 반환하는 배열의 길이와 같다.\n",
    "authors.nunique()\n"
   ]
  },
  {
   "cell_type": "code",
   "execution_count": 107,
   "id": "ccaa777b",
   "metadata": {},
   "outputs": [
    {
     "data": {
      "text/plain": [
       "A     5.0\n",
       "B     NaN\n",
       "C    15.0\n",
       "dtype: float64"
      ]
     },
     "execution_count": 107,
     "metadata": {},
     "output_type": "execute_result"
    }
   ],
   "source": [
    "s1 = pd.Series(data = [5, np.nan, 15], index = [\"A\",\"B\",\"C\"])\n",
    "s1"
   ]
  },
  {
   "cell_type": "code",
   "execution_count": 108,
   "id": "421c6092",
   "metadata": {},
   "outputs": [
    {
     "data": {
      "text/plain": [
       "A     8.0\n",
       "B     NaN\n",
       "C    18.0\n",
       "dtype: float64"
      ]
     },
     "execution_count": 108,
     "metadata": {},
     "output_type": "execute_result"
    }
   ],
   "source": [
    "s1 + 3"
   ]
  },
  {
   "cell_type": "code",
   "execution_count": 109,
   "id": "c47cc907",
   "metadata": {},
   "outputs": [
    {
     "data": {
      "text/plain": [
       "A     8.0\n",
       "B     NaN\n",
       "C    18.0\n",
       "dtype: float64"
      ]
     },
     "execution_count": 109,
     "metadata": {},
     "output_type": "execute_result"
    }
   ],
   "source": [
    "s1.add(3)"
   ]
  },
  {
   "cell_type": "code",
   "execution_count": 111,
   "id": "db0fd9d4",
   "metadata": {},
   "outputs": [
    {
     "data": {
      "text/plain": [
       "A     0.0\n",
       "B     NaN\n",
       "C    10.0\n",
       "dtype: float64"
      ]
     },
     "execution_count": 111,
     "metadata": {},
     "output_type": "execute_result"
    }
   ],
   "source": [
    "# 아래 세 줄은 결과가 동일하다.\n",
    "s1 - 5\n",
    "s1.sub(5)\n",
    "s1.subtract(5)"
   ]
  },
  {
   "cell_type": "code",
   "execution_count": 112,
   "id": "207fd985",
   "metadata": {},
   "outputs": [
    {
     "data": {
      "text/plain": [
       "A    10.0\n",
       "B     NaN\n",
       "C    30.0\n",
       "dtype: float64"
      ]
     },
     "execution_count": 112,
     "metadata": {},
     "output_type": "execute_result"
    }
   ],
   "source": [
    "s1 * 2\n",
    "s1.mul(2)\n",
    "s1.multiply(2)"
   ]
  },
  {
   "cell_type": "code",
   "execution_count": 113,
   "id": "ef4189e4",
   "metadata": {},
   "outputs": [
    {
     "data": {
      "text/plain": [
       "A    2.5\n",
       "B    NaN\n",
       "C    7.5\n",
       "dtype: float64"
      ]
     },
     "execution_count": 113,
     "metadata": {},
     "output_type": "execute_result"
    }
   ],
   "source": [
    "s1 / 2\n",
    "s1.div(2)\n",
    "s1.divide(2)"
   ]
  },
  {
   "cell_type": "code",
   "execution_count": 115,
   "id": "f25051ff",
   "metadata": {},
   "outputs": [
    {
     "data": {
      "text/plain": [
       "A     5.0\n",
       "B     NaN\n",
       "C    15.0\n",
       "dtype: float64"
      ]
     },
     "execution_count": 115,
     "metadata": {},
     "output_type": "execute_result"
    }
   ],
   "source": [
    "s1 "
   ]
  },
  {
   "cell_type": "code",
   "execution_count": 117,
   "id": "9433c84d",
   "metadata": {},
   "outputs": [
    {
     "data": {
      "text/plain": [
       "A    1.0\n",
       "B    NaN\n",
       "C    3.0\n",
       "dtype: float64"
      ]
     },
     "execution_count": 117,
     "metadata": {},
     "output_type": "execute_result"
    }
   ],
   "source": [
    "# 버림 나눗셈 연산자를 사용하여 15를 4로 나누면 3이 된다.\n",
    "s1 // 4\n",
    "s1.floordiv(4)"
   ]
  },
  {
   "cell_type": "code",
   "execution_count": 118,
   "id": "26921f3f",
   "metadata": {},
   "outputs": [
    {
     "data": {
      "text/plain": [
       "A    2.0\n",
       "B    NaN\n",
       "C    0.0\n",
       "dtype: float64"
      ]
     },
     "execution_count": 118,
     "metadata": {},
     "output_type": "execute_result"
    }
   ],
   "source": [
    "# 나머지 반환\n",
    "s1 % 3 \n",
    "s1.mod(3)"
   ]
  },
  {
   "cell_type": "code",
   "execution_count": 120,
   "id": "df421365",
   "metadata": {},
   "outputs": [
    {
     "data": {
      "text/plain": [
       "A    5\n",
       "B    7\n",
       "C    9\n",
       "dtype: int64"
      ]
     },
     "execution_count": 120,
     "metadata": {},
     "output_type": "execute_result"
    }
   ],
   "source": [
    "# s1 + 3과 같은 구문은 'Series의 각 값에 동일한 연산(3을 더하기)을 적용하세요'를 의미한다. \n",
    "# 각 Series값은 같은 시간에 같은 라디오 방송을 듣는 모든 사람이 같은 노래를 듣는 것처럼 같은 메시지를 받는다.\n",
    "s1= pd.Series([1,2,3], index = [\"A\",\"B\",\"C\"])\n",
    "s2 = pd.Series([4,5,6], index = [\"A\",\"B\",\"C\"])\n",
    "\n",
    "s1 + s2"
   ]
  },
  {
   "cell_type": "code",
   "execution_count": 121,
   "id": "f90f423d",
   "metadata": {},
   "outputs": [],
   "source": [
    "s1 = pd.Series(data = [3,6, np.nan, 12]) \n",
    "s2 = pd.Series(data = [2,6, np.nan, 12]) \n"
   ]
  },
  {
   "cell_type": "code",
   "execution_count": 125,
   "id": "6416887f",
   "metadata": {},
   "outputs": [
    {
     "data": {
      "text/plain": [
       "0    False\n",
       "1     True\n",
       "2    False\n",
       "3     True\n",
       "dtype: bool"
      ]
     },
     "execution_count": 125,
     "metadata": {},
     "output_type": "execute_result"
    }
   ],
   "source": [
    "# 판다스는 nan값을 다른 nan과 다르다고 간주한다. 결측값이 다른 결측값과 같다고 가정할 수 없다.\n",
    "s1 == s2\n",
    "s1.eq(s2)"
   ]
  },
  {
   "cell_type": "code",
   "execution_count": 128,
   "id": "8444c64f",
   "metadata": {},
   "outputs": [
    {
     "data": {
      "text/plain": [
       "0     True\n",
       "1    False\n",
       "2     True\n",
       "3    False\n",
       "dtype: bool"
      ]
     },
     "execution_count": 128,
     "metadata": {},
     "output_type": "execute_result"
    }
   ],
   "source": [
    "# 두값이 다른지 확인\n",
    "s1 != s2\n",
    "s1.ne(s2)"
   ]
  },
  {
   "cell_type": "code",
   "execution_count": 130,
   "id": "905f1ca8",
   "metadata": {},
   "outputs": [
    {
     "data": {
      "text/plain": [
       "A     NaN\n",
       "B    14.0\n",
       "C    23.0\n",
       "D     NaN\n",
       "E     NaN\n",
       "dtype: float64"
      ]
     },
     "execution_count": 130,
     "metadata": {},
     "output_type": "execute_result"
    }
   ],
   "source": [
    "s1 =pd.Series(\n",
    "data = [5,10,15], index = [\"A\",\"B\",\"C\"]\n",
    ")\n",
    "s2 = pd.Series(\n",
    "    data = [4,8,12,14], index = [\"B\",\"C\",\"D\",\"E\"])\n",
    "\n",
    "s1 + s2"
   ]
  },
  {
   "cell_type": "code",
   "execution_count": 131,
   "id": "e24cd2a0",
   "metadata": {},
   "outputs": [],
   "source": [
    "cities = pd.Series(\n",
    "data = [\"San Francisco\", \"Los Angeles\", \"Las Vegas\", np.nan]\n",
    ")"
   ]
  },
  {
   "cell_type": "code",
   "execution_count": 132,
   "id": "2bbaa9aa",
   "metadata": {},
   "outputs": [
    {
     "data": {
      "text/plain": [
       "4"
      ]
     },
     "execution_count": 132,
     "metadata": {},
     "output_type": "execute_result"
    }
   ],
   "source": [
    "len(cities)"
   ]
  },
  {
   "cell_type": "code",
   "execution_count": 133,
   "id": "ecf25d8a",
   "metadata": {},
   "outputs": [
    {
     "data": {
      "text/plain": [
       "pandas.core.series.Series"
      ]
     },
     "execution_count": 133,
     "metadata": {},
     "output_type": "execute_result"
    }
   ],
   "source": [
    "type(cities)"
   ]
  },
  {
   "cell_type": "code",
   "execution_count": 134,
   "id": "eb0039bd",
   "metadata": {},
   "outputs": [
    {
     "data": {
      "text/plain": [
       "['T',\n",
       " '_AXIS_LEN',\n",
       " '_AXIS_ORDERS',\n",
       " '_AXIS_TO_AXIS_NUMBER',\n",
       " '_HANDLED_TYPES',\n",
       " '__abs__',\n",
       " '__add__',\n",
       " '__and__',\n",
       " '__annotations__',\n",
       " '__array__',\n",
       " '__array_priority__',\n",
       " '__array_ufunc__',\n",
       " '__array_wrap__',\n",
       " '__bool__',\n",
       " '__class__',\n",
       " '__contains__',\n",
       " '__copy__',\n",
       " '__deepcopy__',\n",
       " '__delattr__',\n",
       " '__delitem__',\n",
       " '__dict__',\n",
       " '__dir__',\n",
       " '__divmod__',\n",
       " '__doc__',\n",
       " '__eq__',\n",
       " '__finalize__',\n",
       " '__float__',\n",
       " '__floordiv__',\n",
       " '__format__',\n",
       " '__ge__',\n",
       " '__getattr__',\n",
       " '__getattribute__',\n",
       " '__getitem__',\n",
       " '__getstate__',\n",
       " '__gt__',\n",
       " '__hash__',\n",
       " '__iadd__',\n",
       " '__iand__',\n",
       " '__ifloordiv__',\n",
       " '__imod__',\n",
       " '__imul__',\n",
       " '__init__',\n",
       " '__init_subclass__',\n",
       " '__int__',\n",
       " '__invert__',\n",
       " '__ior__',\n",
       " '__ipow__',\n",
       " '__isub__',\n",
       " '__iter__',\n",
       " '__itruediv__',\n",
       " '__ixor__',\n",
       " '__le__',\n",
       " '__len__',\n",
       " '__long__',\n",
       " '__lt__',\n",
       " '__matmul__',\n",
       " '__mod__',\n",
       " '__module__',\n",
       " '__mul__',\n",
       " '__ne__',\n",
       " '__neg__',\n",
       " '__new__',\n",
       " '__nonzero__',\n",
       " '__or__',\n",
       " '__pos__',\n",
       " '__pow__',\n",
       " '__radd__',\n",
       " '__rand__',\n",
       " '__rdivmod__',\n",
       " '__reduce__',\n",
       " '__reduce_ex__',\n",
       " '__repr__',\n",
       " '__rfloordiv__',\n",
       " '__rmatmul__',\n",
       " '__rmod__',\n",
       " '__rmul__',\n",
       " '__ror__',\n",
       " '__round__',\n",
       " '__rpow__',\n",
       " '__rsub__',\n",
       " '__rtruediv__',\n",
       " '__rxor__',\n",
       " '__setattr__',\n",
       " '__setitem__',\n",
       " '__setstate__',\n",
       " '__sizeof__',\n",
       " '__str__',\n",
       " '__sub__',\n",
       " '__subclasshook__',\n",
       " '__truediv__',\n",
       " '__weakref__',\n",
       " '__xor__',\n",
       " '_accessors',\n",
       " '_accum_func',\n",
       " '_add_numeric_operations',\n",
       " '_agg_by_level',\n",
       " '_agg_examples_doc',\n",
       " '_agg_see_also_doc',\n",
       " '_align_frame',\n",
       " '_align_series',\n",
       " '_append',\n",
       " '_arith_method',\n",
       " '_as_manager',\n",
       " '_attrs',\n",
       " '_binop',\n",
       " '_can_hold_na',\n",
       " '_check_inplace_and_allows_duplicate_labels',\n",
       " '_check_inplace_setting',\n",
       " '_check_is_chained_assignment_possible',\n",
       " '_check_label_or_level_ambiguity',\n",
       " '_check_setitem_copy',\n",
       " '_clear_item_cache',\n",
       " '_clip_with_one_bound',\n",
       " '_clip_with_scalar',\n",
       " '_cmp_method',\n",
       " '_consolidate',\n",
       " '_consolidate_inplace',\n",
       " '_construct_axes_dict',\n",
       " '_construct_axes_from_arguments',\n",
       " '_construct_result',\n",
       " '_constructor',\n",
       " '_constructor_expanddim',\n",
       " '_convert',\n",
       " '_convert_dtypes',\n",
       " '_data',\n",
       " '_dir_additions',\n",
       " '_dir_deletions',\n",
       " '_drop_axis',\n",
       " '_drop_labels_or_levels',\n",
       " '_duplicated',\n",
       " '_find_valid_index',\n",
       " '_flags',\n",
       " '_get_axis',\n",
       " '_get_axis_name',\n",
       " '_get_axis_number',\n",
       " '_get_axis_resolvers',\n",
       " '_get_block_manager_axis',\n",
       " '_get_bool_data',\n",
       " '_get_cacher',\n",
       " '_get_cleaned_column_resolvers',\n",
       " '_get_index_resolvers',\n",
       " '_get_label_or_level_values',\n",
       " '_get_numeric_data',\n",
       " '_get_value',\n",
       " '_get_values',\n",
       " '_get_values_tuple',\n",
       " '_get_with',\n",
       " '_gotitem',\n",
       " '_hidden_attrs',\n",
       " '_indexed_same',\n",
       " '_info_axis',\n",
       " '_info_axis_name',\n",
       " '_info_axis_number',\n",
       " '_init_dict',\n",
       " '_init_mgr',\n",
       " '_inplace_method',\n",
       " '_internal_names',\n",
       " '_internal_names_set',\n",
       " '_is_cached',\n",
       " '_is_copy',\n",
       " '_is_label_or_level_reference',\n",
       " '_is_label_reference',\n",
       " '_is_level_reference',\n",
       " '_is_mixed_type',\n",
       " '_is_view',\n",
       " '_item_cache',\n",
       " '_ixs',\n",
       " '_logical_func',\n",
       " '_logical_method',\n",
       " '_map_values',\n",
       " '_maybe_update_cacher',\n",
       " '_memory_usage',\n",
       " '_metadata',\n",
       " '_mgr',\n",
       " '_min_count_stat_function',\n",
       " '_name',\n",
       " '_needs_reindex_multi',\n",
       " '_protect_consolidate',\n",
       " '_reduce',\n",
       " '_reindex_axes',\n",
       " '_reindex_indexer',\n",
       " '_reindex_multi',\n",
       " '_reindex_with_indexers',\n",
       " '_rename',\n",
       " '_replace_single',\n",
       " '_repr_data_resource_',\n",
       " '_repr_latex_',\n",
       " '_reset_cache',\n",
       " '_reset_cacher',\n",
       " '_set_as_cached',\n",
       " '_set_axis',\n",
       " '_set_axis_name',\n",
       " '_set_axis_nocheck',\n",
       " '_set_is_copy',\n",
       " '_set_labels',\n",
       " '_set_name',\n",
       " '_set_value',\n",
       " '_set_values',\n",
       " '_set_with',\n",
       " '_set_with_engine',\n",
       " '_slice',\n",
       " '_stat_axis',\n",
       " '_stat_axis_name',\n",
       " '_stat_axis_number',\n",
       " '_stat_function',\n",
       " '_stat_function_ddof',\n",
       " '_take',\n",
       " '_take_with_is_copy',\n",
       " '_typ',\n",
       " '_update_inplace',\n",
       " '_validate_dtype',\n",
       " '_values',\n",
       " '_where',\n",
       " 'abs',\n",
       " 'add',\n",
       " 'add_prefix',\n",
       " 'add_suffix',\n",
       " 'agg',\n",
       " 'aggregate',\n",
       " 'align',\n",
       " 'all',\n",
       " 'any',\n",
       " 'append',\n",
       " 'apply',\n",
       " 'argmax',\n",
       " 'argmin',\n",
       " 'argsort',\n",
       " 'array',\n",
       " 'asfreq',\n",
       " 'asof',\n",
       " 'astype',\n",
       " 'at',\n",
       " 'at_time',\n",
       " 'attrs',\n",
       " 'autocorr',\n",
       " 'axes',\n",
       " 'backfill',\n",
       " 'between',\n",
       " 'between_time',\n",
       " 'bfill',\n",
       " 'bool',\n",
       " 'clip',\n",
       " 'combine',\n",
       " 'combine_first',\n",
       " 'compare',\n",
       " 'convert_dtypes',\n",
       " 'copy',\n",
       " 'corr',\n",
       " 'count',\n",
       " 'cov',\n",
       " 'cummax',\n",
       " 'cummin',\n",
       " 'cumprod',\n",
       " 'cumsum',\n",
       " 'describe',\n",
       " 'diff',\n",
       " 'div',\n",
       " 'divide',\n",
       " 'divmod',\n",
       " 'dot',\n",
       " 'drop',\n",
       " 'drop_duplicates',\n",
       " 'droplevel',\n",
       " 'dropna',\n",
       " 'dtype',\n",
       " 'dtypes',\n",
       " 'duplicated',\n",
       " 'empty',\n",
       " 'eq',\n",
       " 'equals',\n",
       " 'ewm',\n",
       " 'expanding',\n",
       " 'explode',\n",
       " 'factorize',\n",
       " 'ffill',\n",
       " 'fillna',\n",
       " 'filter',\n",
       " 'first',\n",
       " 'first_valid_index',\n",
       " 'flags',\n",
       " 'floordiv',\n",
       " 'ge',\n",
       " 'get',\n",
       " 'groupby',\n",
       " 'gt',\n",
       " 'hasnans',\n",
       " 'head',\n",
       " 'hist',\n",
       " 'iat',\n",
       " 'idxmax',\n",
       " 'idxmin',\n",
       " 'iloc',\n",
       " 'index',\n",
       " 'infer_objects',\n",
       " 'info',\n",
       " 'interpolate',\n",
       " 'is_monotonic',\n",
       " 'is_monotonic_decreasing',\n",
       " 'is_monotonic_increasing',\n",
       " 'is_unique',\n",
       " 'isin',\n",
       " 'isna',\n",
       " 'isnull',\n",
       " 'item',\n",
       " 'items',\n",
       " 'iteritems',\n",
       " 'keys',\n",
       " 'kurt',\n",
       " 'kurtosis',\n",
       " 'last',\n",
       " 'last_valid_index',\n",
       " 'le',\n",
       " 'loc',\n",
       " 'lt',\n",
       " 'mad',\n",
       " 'map',\n",
       " 'mask',\n",
       " 'max',\n",
       " 'mean',\n",
       " 'median',\n",
       " 'memory_usage',\n",
       " 'min',\n",
       " 'mod',\n",
       " 'mode',\n",
       " 'mul',\n",
       " 'multiply',\n",
       " 'name',\n",
       " 'nbytes',\n",
       " 'ndim',\n",
       " 'ne',\n",
       " 'nlargest',\n",
       " 'notna',\n",
       " 'notnull',\n",
       " 'nsmallest',\n",
       " 'nunique',\n",
       " 'pad',\n",
       " 'pct_change',\n",
       " 'pipe',\n",
       " 'plot',\n",
       " 'pop',\n",
       " 'pow',\n",
       " 'prod',\n",
       " 'product',\n",
       " 'quantile',\n",
       " 'radd',\n",
       " 'rank',\n",
       " 'ravel',\n",
       " 'rdiv',\n",
       " 'rdivmod',\n",
       " 'reindex',\n",
       " 'reindex_like',\n",
       " 'rename',\n",
       " 'rename_axis',\n",
       " 'reorder_levels',\n",
       " 'repeat',\n",
       " 'replace',\n",
       " 'resample',\n",
       " 'reset_index',\n",
       " 'rfloordiv',\n",
       " 'rmod',\n",
       " 'rmul',\n",
       " 'rolling',\n",
       " 'round',\n",
       " 'rpow',\n",
       " 'rsub',\n",
       " 'rtruediv',\n",
       " 'sample',\n",
       " 'searchsorted',\n",
       " 'sem',\n",
       " 'set_axis',\n",
       " 'set_flags',\n",
       " 'shape',\n",
       " 'shift',\n",
       " 'size',\n",
       " 'skew',\n",
       " 'slice_shift',\n",
       " 'sort_index',\n",
       " 'sort_values',\n",
       " 'squeeze',\n",
       " 'std',\n",
       " 'str',\n",
       " 'sub',\n",
       " 'subtract',\n",
       " 'sum',\n",
       " 'swapaxes',\n",
       " 'swaplevel',\n",
       " 'tail',\n",
       " 'take',\n",
       " 'to_clipboard',\n",
       " 'to_csv',\n",
       " 'to_dict',\n",
       " 'to_excel',\n",
       " 'to_frame',\n",
       " 'to_hdf',\n",
       " 'to_json',\n",
       " 'to_latex',\n",
       " 'to_list',\n",
       " 'to_markdown',\n",
       " 'to_numpy',\n",
       " 'to_period',\n",
       " 'to_pickle',\n",
       " 'to_sql',\n",
       " 'to_string',\n",
       " 'to_timestamp',\n",
       " 'to_xarray',\n",
       " 'transform',\n",
       " 'transpose',\n",
       " 'truediv',\n",
       " 'truncate',\n",
       " 'tz_convert',\n",
       " 'tz_localize',\n",
       " 'unique',\n",
       " 'unstack',\n",
       " 'update',\n",
       " 'value_counts',\n",
       " 'values',\n",
       " 'var',\n",
       " 'view',\n",
       " 'where',\n",
       " 'xs']"
      ]
     },
     "execution_count": 134,
     "metadata": {},
     "output_type": "execute_result"
    }
   ],
   "source": [
    "dir(cities)"
   ]
  },
  {
   "cell_type": "code",
   "execution_count": 135,
   "id": "b9b0c2a8",
   "metadata": {},
   "outputs": [
    {
     "data": {
      "text/plain": [
       "['San Francisco', 'Los Angeles', 'Las Vegas', nan]"
      ]
     },
     "execution_count": 135,
     "metadata": {},
     "output_type": "execute_result"
    }
   ],
   "source": [
    "list(cities)"
   ]
  },
  {
   "cell_type": "code",
   "execution_count": 137,
   "id": "c7760895",
   "metadata": {},
   "outputs": [
    {
     "data": {
      "text/plain": [
       "{0: 'San Francisco', 1: 'Los Angeles', 2: 'Las Vegas', 3: nan}"
      ]
     },
     "execution_count": 137,
     "metadata": {},
     "output_type": "execute_result"
    }
   ],
   "source": [
    "dict(cities)"
   ]
  },
  {
   "cell_type": "code",
   "execution_count": 139,
   "id": "0363ed91",
   "metadata": {},
   "outputs": [
    {
     "data": {
      "text/plain": [
       "False"
      ]
     },
     "execution_count": 139,
     "metadata": {},
     "output_type": "execute_result"
    }
   ],
   "source": [
    "\"Las vegas\" in cities"
   ]
  },
  {
   "cell_type": "code",
   "execution_count": 140,
   "id": "86607db8",
   "metadata": {},
   "outputs": [
    {
     "data": {
      "text/plain": [
       "True"
      ]
     },
     "execution_count": 140,
     "metadata": {},
     "output_type": "execute_result"
    }
   ],
   "source": [
    "2 in cities"
   ]
  },
  {
   "cell_type": "code",
   "execution_count": 142,
   "id": "a1e807d8",
   "metadata": {},
   "outputs": [
    {
     "data": {
      "text/plain": [
       "True"
      ]
     },
     "execution_count": 142,
     "metadata": {},
     "output_type": "execute_result"
    }
   ],
   "source": [
    "\"Las Vegas\" in cities.values"
   ]
  },
  {
   "cell_type": "code",
   "execution_count": 143,
   "id": "b425e86b",
   "metadata": {},
   "outputs": [
    {
     "data": {
      "text/plain": [
       "True"
      ]
     },
     "execution_count": 143,
     "metadata": {},
     "output_type": "execute_result"
    }
   ],
   "source": [
    "100 not in cities"
   ]
  },
  {
   "cell_type": "code",
   "execution_count": 144,
   "id": "58c64c90",
   "metadata": {},
   "outputs": [
    {
     "data": {
      "text/plain": [
       "True"
      ]
     },
     "execution_count": 144,
     "metadata": {},
     "output_type": "execute_result"
    }
   ],
   "source": [
    "\"pairs\" not in cities.values"
   ]
  },
  {
   "cell_type": "markdown",
   "id": "4321e0dc",
   "metadata": {},
   "source": [
    "# 연습문제"
   ]
  },
  {
   "cell_type": "code",
   "execution_count": 160,
   "id": "297a38da",
   "metadata": {},
   "outputs": [],
   "source": [
    "superheroes = [\n",
    "    \"Batman\",\n",
    "    \"superman\",\n",
    "    \"Spider-Man\",\n",
    "    \"Iron Man\",\n",
    "    \"Captain America\",\n",
    "    \"Wonder Woman\"\n",
    "]\n",
    "\n",
    "strength_levels = (100,120,90,95,110,120)\n"
   ]
  },
  {
   "cell_type": "code",
   "execution_count": 163,
   "id": "7a9be9a7",
   "metadata": {},
   "outputs": [
    {
     "data": {
      "text/plain": [
       "0             Batman\n",
       "1           superman\n",
       "2         Spider-Man\n",
       "3           Iron Man\n",
       "4    Captain America\n",
       "5       Wonder Woman\n",
       "dtype: object"
      ]
     },
     "execution_count": 163,
     "metadata": {},
     "output_type": "execute_result"
    }
   ],
   "source": [
    "# 1번문제. 슈퍼히어로 리스트를 사용하여 새 series 객체의 값을 채우세요.\n",
    "pd.Series(superheroes)"
   ]
  },
  {
   "cell_type": "code",
   "execution_count": 164,
   "id": "fc7635b3",
   "metadata": {},
   "outputs": [
    {
     "data": {
      "text/plain": [
       "0    100\n",
       "1    120\n",
       "2     90\n",
       "3     95\n",
       "4    110\n",
       "5    120\n",
       "dtype: int64"
      ]
     },
     "execution_count": 164,
     "metadata": {},
     "output_type": "execute_result"
    }
   ],
   "source": [
    "# 2번문제. 능력치 튜플을 사용하여 새 시리즈 객체의 값을 채우세요.\n",
    "pd.Series(strength_levels)"
   ]
  },
  {
   "cell_type": "code",
   "execution_count": 178,
   "id": "29b0bf5e",
   "metadata": {},
   "outputs": [
    {
     "data": {
      "text/plain": [
       "Batman             100\n",
       "superman           120\n",
       "Spider-Man          90\n",
       "Iron Man            95\n",
       "Captain America    110\n",
       "Wonder Woman       120\n",
       "dtype: int64"
      ]
     },
     "execution_count": 178,
     "metadata": {},
     "output_type": "execute_result"
    }
   ],
   "source": [
    "# 3번문제. 슈퍼히어로를 인덱스 레이블로 사용하고 스트렝스레벨을 갑승로 사용하여 시리즈를 생성해라 히로 변수에 시리즈를 할당.\n",
    "heroes = pd.Series(data = strength_levels, index =superheroes )\n",
    "heroes"
   ]
  },
  {
   "cell_type": "code",
   "execution_count": 179,
   "id": "115d2429",
   "metadata": {},
   "outputs": [
    {
     "data": {
      "text/plain": [
       "Batman      100\n",
       "superman    120\n",
       "dtype: int64"
      ]
     },
     "execution_count": 179,
     "metadata": {},
     "output_type": "execute_result"
    }
   ],
   "source": [
    "# 4번문제. 처음 2개 행추출\n",
    "heroes.head(2)"
   ]
  },
  {
   "cell_type": "code",
   "execution_count": 180,
   "id": "b8b9c412",
   "metadata": {},
   "outputs": [
    {
     "data": {
      "text/plain": [
       "Spider-Man          90\n",
       "Iron Man            95\n",
       "Captain America    110\n",
       "Wonder Woman       120\n",
       "dtype: int64"
      ]
     },
     "execution_count": 180,
     "metadata": {},
     "output_type": "execute_result"
    }
   ],
   "source": [
    "# 5번문제. 마지막 4개행 추출\n",
    "heroes.tail(4)"
   ]
  },
  {
   "cell_type": "code",
   "execution_count": 182,
   "id": "c4cba3aa",
   "metadata": {},
   "outputs": [
    {
     "data": {
      "text/plain": [
       "5"
      ]
     },
     "execution_count": 182,
     "metadata": {},
     "output_type": "execute_result"
    }
   ],
   "source": [
    "# 6번 문제 고유값의 개수 추출\n",
    "heroes.nunique()"
   ]
  },
  {
   "cell_type": "code",
   "execution_count": 184,
   "id": "bd37c735",
   "metadata": {},
   "outputs": [
    {
     "data": {
      "text/plain": [
       "105.83333333333333"
      ]
     },
     "execution_count": 184,
     "metadata": {},
     "output_type": "execute_result"
    }
   ],
   "source": [
    "# 7번문제. 슈퍼 히어로의 평균 능력치\n",
    "heroes.mean()"
   ]
  },
  {
   "cell_type": "code",
   "execution_count": 185,
   "id": "697b0947",
   "metadata": {},
   "outputs": [
    {
     "data": {
      "text/plain": [
       "90"
      ]
     },
     "execution_count": 185,
     "metadata": {},
     "output_type": "execute_result"
    }
   ],
   "source": [
    "# 8번문제. 최대 및 최소 능력치를 구하세요.\n",
    "heroes.min()"
   ]
  },
  {
   "cell_type": "code",
   "execution_count": 187,
   "id": "ff06376b",
   "metadata": {},
   "outputs": [
    {
     "data": {
      "text/plain": [
       "Batman             200\n",
       "superman           240\n",
       "Spider-Man         180\n",
       "Iron Man           190\n",
       "Captain America    220\n",
       "Wonder Woman       240\n",
       "dtype: int64"
      ]
     },
     "execution_count": 187,
     "metadata": {},
     "output_type": "execute_result"
    }
   ],
   "source": [
    "# 9번문제. 능력치가 2배가 되면 각 슈퍼 히어로의 능력치는 얼마인지 구하세요\n",
    "heroes * 2 "
   ]
  },
  {
   "cell_type": "code",
   "execution_count": 188,
   "id": "14f5ef69",
   "metadata": {},
   "outputs": [
    {
     "data": {
      "text/plain": [
       "{'Batman': 100,\n",
       " 'superman': 120,\n",
       " 'Spider-Man': 90,\n",
       " 'Iron Man': 95,\n",
       " 'Captain America': 110,\n",
       " 'Wonder Woman': 120}"
      ]
     },
     "execution_count": 188,
     "metadata": {},
     "output_type": "execute_result"
    }
   ],
   "source": [
    "# 10번문제. 히어로 시리즈를 파이썬 딕셔너리로\n",
    "dict(heroes)"
   ]
  },
  {
   "cell_type": "code",
   "execution_count": null,
   "id": "6a5fa4ef",
   "metadata": {},
   "outputs": [],
   "source": []
  },
  {
   "cell_type": "code",
   "execution_count": null,
   "id": "4133c4f7",
   "metadata": {},
   "outputs": [],
   "source": []
  },
  {
   "cell_type": "code",
   "execution_count": null,
   "id": "ac5414a3",
   "metadata": {},
   "outputs": [],
   "source": []
  }
 ],
 "metadata": {
  "kernelspec": {
   "display_name": "Python 3 (ipykernel)",
   "language": "python",
   "name": "python3"
  },
  "language_info": {
   "codemirror_mode": {
    "name": "ipython",
    "version": 3
   },
   "file_extension": ".py",
   "mimetype": "text/x-python",
   "name": "python",
   "nbconvert_exporter": "python",
   "pygments_lexer": "ipython3",
   "version": "3.10.9"
  }
 },
 "nbformat": 4,
 "nbformat_minor": 5
}
