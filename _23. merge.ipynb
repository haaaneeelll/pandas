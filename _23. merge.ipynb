{
 "cells": [
  {
   "cell_type": "code",
   "execution_count": 5,
   "id": "f0618029",
   "metadata": {},
   "outputs": [],
   "source": [
    "\n",
    "import pandas as pd\n",
    "\n",
    "name1 = ['송중기', '권보아', '김나현', '박효신', '진달래']\n",
    "a1, a2, a3, a4, a5 = '송중기', '권보아', '김나현', '박효신', '진달래'\n",
    "b1, b2, b3 = '카페라떼', '아이스티', '모카라떼'\n",
    "c1, c2 = '콩다방', '별다방'\n",
    "df1 = pd.DataFrame([name1, [b2, b1, b1, b2, b3]], index=[\"이름\", \"제품\"]).T\n",
    "df2 = pd.DataFrame([[b1, 4500], [b2, 4600], [b3, 4800]], columns=[\"제품\", \"가격\"])\n",
    "df3 = pd.DataFrame([name1,[c1, c1, c2, c1, c2], [b2, b1, b1, b2, b2]], \n",
    "                   index=[\"이름\", \"업체\", \"제품\"]).T\n",
    "df4 = pd.DataFrame([[c1, b2, 4600], [c1, b1, 4700], [c2, b2, 4200], [c2, b1, 4300]], \n",
    "                   columns=[\"업체\", \"제품\", \"가격\"])\n",
    "df5 = pd.DataFrame([[b1, 4500], [b2, 4600], [b3, 4800]], columns=[\"상품\", \"가격\"])\n",
    "df6 = pd.DataFrame([[b1, 4500], [b2, 4600], [b3, 4800], [b3, 4800]], \n",
    "                   columns=[\"제품\", \"가격\"])\n",
    "df7 = pd.DataFrame([[a2, a3, a1, a5], [b2, b1, b1, b3]], index=[\"이름\", \"1일차\"]).T\n",
    "df8 = pd.DataFrame([[a2, a3, a4, a1], [b1, b3, b2, b2]], index=[\"이름\", \"2일차\"]).T\n",
    "df9 = pd.DataFrame([b1, b3, b2, b2], index=[a2, a3, a4, a1], columns=[\"2일차\"])"
   ]
  },
  {
   "cell_type": "markdown",
   "id": "1f8e39f4",
   "metadata": {},
   "source": [
    "# 1. 엑셀의 VLOOKUP처럼 데이터프레임을 병합"
   ]
  },
  {
   "cell_type": "code",
   "execution_count": 6,
   "id": "2c55fe20",
   "metadata": {},
   "outputs": [
    {
     "data": {
      "text/html": [
       "<div>\n",
       "<style scoped>\n",
       "    .dataframe tbody tr th:only-of-type {\n",
       "        vertical-align: middle;\n",
       "    }\n",
       "\n",
       "    .dataframe tbody tr th {\n",
       "        vertical-align: top;\n",
       "    }\n",
       "\n",
       "    .dataframe thead th {\n",
       "        text-align: right;\n",
       "    }\n",
       "</style>\n",
       "<table border=\"1\" class=\"dataframe\">\n",
       "  <thead>\n",
       "    <tr style=\"text-align: right;\">\n",
       "      <th></th>\n",
       "      <th>이름</th>\n",
       "      <th>제품</th>\n",
       "      <th>가격</th>\n",
       "    </tr>\n",
       "  </thead>\n",
       "  <tbody>\n",
       "    <tr>\n",
       "      <th>0</th>\n",
       "      <td>송중기</td>\n",
       "      <td>아이스티</td>\n",
       "      <td>4600</td>\n",
       "    </tr>\n",
       "    <tr>\n",
       "      <th>1</th>\n",
       "      <td>권보아</td>\n",
       "      <td>카페라떼</td>\n",
       "      <td>4500</td>\n",
       "    </tr>\n",
       "    <tr>\n",
       "      <th>2</th>\n",
       "      <td>김나현</td>\n",
       "      <td>카페라떼</td>\n",
       "      <td>4500</td>\n",
       "    </tr>\n",
       "    <tr>\n",
       "      <th>3</th>\n",
       "      <td>박효신</td>\n",
       "      <td>아이스티</td>\n",
       "      <td>4600</td>\n",
       "    </tr>\n",
       "    <tr>\n",
       "      <th>4</th>\n",
       "      <td>진달래</td>\n",
       "      <td>모카라떼</td>\n",
       "      <td>4800</td>\n",
       "    </tr>\n",
       "  </tbody>\n",
       "</table>\n",
       "</div>"
      ],
      "text/plain": [
       "    이름    제품    가격\n",
       "0  송중기  아이스티  4600\n",
       "1  권보아  카페라떼  4500\n",
       "2  김나현  카페라떼  4500\n",
       "3  박효신  아이스티  4600\n",
       "4  진달래  모카라떼  4800"
      ]
     },
     "execution_count": 6,
     "metadata": {},
     "output_type": "execute_result"
    }
   ],
   "source": [
    "df1.merge(df2, how = \"left\")"
   ]
  },
  {
   "cell_type": "markdown",
   "id": "26731118",
   "metadata": {},
   "source": [
    "# 2. 복수의열 기준(다중요건VLOOKUP)병합 "
   ]
  },
  {
   "cell_type": "code",
   "execution_count": 12,
   "id": "db8e4f50",
   "metadata": {},
   "outputs": [
    {
     "data": {
      "text/html": [
       "<div>\n",
       "<style scoped>\n",
       "    .dataframe tbody tr th:only-of-type {\n",
       "        vertical-align: middle;\n",
       "    }\n",
       "\n",
       "    .dataframe tbody tr th {\n",
       "        vertical-align: top;\n",
       "    }\n",
       "\n",
       "    .dataframe thead th {\n",
       "        text-align: right;\n",
       "    }\n",
       "</style>\n",
       "<table border=\"1\" class=\"dataframe\">\n",
       "  <thead>\n",
       "    <tr style=\"text-align: right;\">\n",
       "      <th></th>\n",
       "      <th>이름</th>\n",
       "      <th>업체</th>\n",
       "      <th>제품</th>\n",
       "      <th>가격</th>\n",
       "    </tr>\n",
       "  </thead>\n",
       "  <tbody>\n",
       "    <tr>\n",
       "      <th>0</th>\n",
       "      <td>송중기</td>\n",
       "      <td>콩다방</td>\n",
       "      <td>아이스티</td>\n",
       "      <td>4600</td>\n",
       "    </tr>\n",
       "    <tr>\n",
       "      <th>1</th>\n",
       "      <td>권보아</td>\n",
       "      <td>콩다방</td>\n",
       "      <td>카페라떼</td>\n",
       "      <td>4700</td>\n",
       "    </tr>\n",
       "    <tr>\n",
       "      <th>2</th>\n",
       "      <td>김나현</td>\n",
       "      <td>별다방</td>\n",
       "      <td>카페라떼</td>\n",
       "      <td>4300</td>\n",
       "    </tr>\n",
       "    <tr>\n",
       "      <th>3</th>\n",
       "      <td>박효신</td>\n",
       "      <td>콩다방</td>\n",
       "      <td>아이스티</td>\n",
       "      <td>4600</td>\n",
       "    </tr>\n",
       "    <tr>\n",
       "      <th>4</th>\n",
       "      <td>진달래</td>\n",
       "      <td>별다방</td>\n",
       "      <td>아이스티</td>\n",
       "      <td>4200</td>\n",
       "    </tr>\n",
       "  </tbody>\n",
       "</table>\n",
       "</div>"
      ],
      "text/plain": [
       "    이름   업체    제품    가격\n",
       "0  송중기  콩다방  아이스티  4600\n",
       "1  권보아  콩다방  카페라떼  4700\n",
       "2  김나현  별다방  카페라떼  4300\n",
       "3  박효신  콩다방  아이스티  4600\n",
       "4  진달래  별다방  아이스티  4200"
      ]
     },
     "execution_count": 12,
     "metadata": {},
     "output_type": "execute_result"
    }
   ],
   "source": [
    "df3.merge(df4 ,on = [\"업체\", \"제품\"] , how = \"left\")"
   ]
  },
  {
   "cell_type": "markdown",
   "id": "ea3a0b4d",
   "metadata": {},
   "source": [
    "# 3. 두 데이터프레임의 열이름이 다를 때 merge\n",
    "## rename으로 열이름을 바꾼다. "
   ]
  },
  {
   "cell_type": "code",
   "execution_count": 20,
   "id": "c3bcf34c",
   "metadata": {},
   "outputs": [
    {
     "data": {
      "text/html": [
       "<div>\n",
       "<style scoped>\n",
       "    .dataframe tbody tr th:only-of-type {\n",
       "        vertical-align: middle;\n",
       "    }\n",
       "\n",
       "    .dataframe tbody tr th {\n",
       "        vertical-align: top;\n",
       "    }\n",
       "\n",
       "    .dataframe thead th {\n",
       "        text-align: right;\n",
       "    }\n",
       "</style>\n",
       "<table border=\"1\" class=\"dataframe\">\n",
       "  <thead>\n",
       "    <tr style=\"text-align: right;\">\n",
       "      <th></th>\n",
       "      <th>이름</th>\n",
       "      <th>제품</th>\n",
       "      <th>가격</th>\n",
       "    </tr>\n",
       "  </thead>\n",
       "  <tbody>\n",
       "    <tr>\n",
       "      <th>0</th>\n",
       "      <td>송중기</td>\n",
       "      <td>아이스티</td>\n",
       "      <td>4600</td>\n",
       "    </tr>\n",
       "    <tr>\n",
       "      <th>1</th>\n",
       "      <td>권보아</td>\n",
       "      <td>카페라떼</td>\n",
       "      <td>4500</td>\n",
       "    </tr>\n",
       "    <tr>\n",
       "      <th>2</th>\n",
       "      <td>김나현</td>\n",
       "      <td>카페라떼</td>\n",
       "      <td>4500</td>\n",
       "    </tr>\n",
       "    <tr>\n",
       "      <th>3</th>\n",
       "      <td>박효신</td>\n",
       "      <td>아이스티</td>\n",
       "      <td>4600</td>\n",
       "    </tr>\n",
       "    <tr>\n",
       "      <th>4</th>\n",
       "      <td>진달래</td>\n",
       "      <td>모카라떼</td>\n",
       "      <td>4800</td>\n",
       "    </tr>\n",
       "  </tbody>\n",
       "</table>\n",
       "</div>"
      ],
      "text/plain": [
       "    이름    제품    가격\n",
       "0  송중기  아이스티  4600\n",
       "1  권보아  카페라떼  4500\n",
       "2  김나현  카페라떼  4500\n",
       "3  박효신  아이스티  4600\n",
       "4  진달래  모카라떼  4800"
      ]
     },
     "execution_count": 20,
     "metadata": {},
     "output_type": "execute_result"
    }
   ],
   "source": [
    "df5.rename(columns={\"상품\": \"제품\"})\n",
    "df1.merge(df5.rename(columns={\"상품\": \"제품\"}), how = \"left\")"
   ]
  },
  {
   "cell_type": "markdown",
   "id": "673f3339",
   "metadata": {},
   "source": [
    "# 4. 중복행이 있을 때의 merge"
   ]
  },
  {
   "cell_type": "code",
   "execution_count": 24,
   "id": "b61e38e0",
   "metadata": {},
   "outputs": [
    {
     "data": {
      "text/html": [
       "<div>\n",
       "<style scoped>\n",
       "    .dataframe tbody tr th:only-of-type {\n",
       "        vertical-align: middle;\n",
       "    }\n",
       "\n",
       "    .dataframe tbody tr th {\n",
       "        vertical-align: top;\n",
       "    }\n",
       "\n",
       "    .dataframe thead th {\n",
       "        text-align: right;\n",
       "    }\n",
       "</style>\n",
       "<table border=\"1\" class=\"dataframe\">\n",
       "  <thead>\n",
       "    <tr style=\"text-align: right;\">\n",
       "      <th></th>\n",
       "      <th>이름</th>\n",
       "      <th>제품</th>\n",
       "      <th>가격</th>\n",
       "    </tr>\n",
       "  </thead>\n",
       "  <tbody>\n",
       "    <tr>\n",
       "      <th>0</th>\n",
       "      <td>송중기</td>\n",
       "      <td>아이스티</td>\n",
       "      <td>4600</td>\n",
       "    </tr>\n",
       "    <tr>\n",
       "      <th>1</th>\n",
       "      <td>권보아</td>\n",
       "      <td>카페라떼</td>\n",
       "      <td>4500</td>\n",
       "    </tr>\n",
       "    <tr>\n",
       "      <th>2</th>\n",
       "      <td>김나현</td>\n",
       "      <td>카페라떼</td>\n",
       "      <td>4500</td>\n",
       "    </tr>\n",
       "    <tr>\n",
       "      <th>3</th>\n",
       "      <td>박효신</td>\n",
       "      <td>아이스티</td>\n",
       "      <td>4600</td>\n",
       "    </tr>\n",
       "    <tr>\n",
       "      <th>4</th>\n",
       "      <td>진달래</td>\n",
       "      <td>모카라떼</td>\n",
       "      <td>4800</td>\n",
       "    </tr>\n",
       "  </tbody>\n",
       "</table>\n",
       "</div>"
      ],
      "text/plain": [
       "    이름    제품    가격\n",
       "0  송중기  아이스티  4600\n",
       "1  권보아  카페라떼  4500\n",
       "2  김나현  카페라떼  4500\n",
       "3  박효신  아이스티  4600\n",
       "4  진달래  모카라떼  4800"
      ]
     },
     "execution_count": 24,
     "metadata": {},
     "output_type": "execute_result"
    }
   ],
   "source": [
    "df1.merge(df6, how=\"left\").drop_duplicates().reset_index(drop=True)\n"
   ]
  },
  {
   "cell_type": "markdown",
   "id": "0b3a7be4",
   "metadata": {},
   "source": [
    "# 5. merge의 조인방식"
   ]
  },
  {
   "cell_type": "code",
   "execution_count": 25,
   "id": "d823b23c",
   "metadata": {},
   "outputs": [
    {
     "data": {
      "text/html": [
       "<div>\n",
       "<style scoped>\n",
       "    .dataframe tbody tr th:only-of-type {\n",
       "        vertical-align: middle;\n",
       "    }\n",
       "\n",
       "    .dataframe tbody tr th {\n",
       "        vertical-align: top;\n",
       "    }\n",
       "\n",
       "    .dataframe thead th {\n",
       "        text-align: right;\n",
       "    }\n",
       "</style>\n",
       "<table border=\"1\" class=\"dataframe\">\n",
       "  <thead>\n",
       "    <tr style=\"text-align: right;\">\n",
       "      <th></th>\n",
       "      <th>이름</th>\n",
       "      <th>1일차</th>\n",
       "      <th>2일차</th>\n",
       "    </tr>\n",
       "  </thead>\n",
       "  <tbody>\n",
       "    <tr>\n",
       "      <th>0</th>\n",
       "      <td>권보아</td>\n",
       "      <td>아이스티</td>\n",
       "      <td>카페라떼</td>\n",
       "    </tr>\n",
       "    <tr>\n",
       "      <th>1</th>\n",
       "      <td>김나현</td>\n",
       "      <td>카페라떼</td>\n",
       "      <td>모카라떼</td>\n",
       "    </tr>\n",
       "    <tr>\n",
       "      <th>2</th>\n",
       "      <td>송중기</td>\n",
       "      <td>카페라떼</td>\n",
       "      <td>아이스티</td>\n",
       "    </tr>\n",
       "  </tbody>\n",
       "</table>\n",
       "</div>"
      ],
      "text/plain": [
       "    이름   1일차   2일차\n",
       "0  권보아  아이스티  카페라떼\n",
       "1  김나현  카페라떼  모카라떼\n",
       "2  송중기  카페라떼  아이스티"
      ]
     },
     "execution_count": 25,
     "metadata": {},
     "output_type": "execute_result"
    }
   ],
   "source": [
    "df7.merge(df8, how = \"inner\")"
   ]
  },
  {
   "cell_type": "code",
   "execution_count": 30,
   "id": "78604f4c",
   "metadata": {},
   "outputs": [
    {
     "data": {
      "text/html": [
       "<div>\n",
       "<style scoped>\n",
       "    .dataframe tbody tr th:only-of-type {\n",
       "        vertical-align: middle;\n",
       "    }\n",
       "\n",
       "    .dataframe tbody tr th {\n",
       "        vertical-align: top;\n",
       "    }\n",
       "\n",
       "    .dataframe thead th {\n",
       "        text-align: right;\n",
       "    }\n",
       "</style>\n",
       "<table border=\"1\" class=\"dataframe\">\n",
       "  <thead>\n",
       "    <tr style=\"text-align: right;\">\n",
       "      <th></th>\n",
       "      <th>이름</th>\n",
       "      <th>1일차</th>\n",
       "      <th>2일차</th>\n",
       "    </tr>\n",
       "  </thead>\n",
       "  <tbody>\n",
       "    <tr>\n",
       "      <th>0</th>\n",
       "      <td>권보아</td>\n",
       "      <td>아이스티</td>\n",
       "      <td>카페라떼</td>\n",
       "    </tr>\n",
       "    <tr>\n",
       "      <th>1</th>\n",
       "      <td>김나현</td>\n",
       "      <td>카페라떼</td>\n",
       "      <td>모카라떼</td>\n",
       "    </tr>\n",
       "    <tr>\n",
       "      <th>2</th>\n",
       "      <td>송중기</td>\n",
       "      <td>카페라떼</td>\n",
       "      <td>아이스티</td>\n",
       "    </tr>\n",
       "    <tr>\n",
       "      <th>3</th>\n",
       "      <td>진달래</td>\n",
       "      <td>모카라떼</td>\n",
       "      <td>NaN</td>\n",
       "    </tr>\n",
       "    <tr>\n",
       "      <th>4</th>\n",
       "      <td>박효신</td>\n",
       "      <td>NaN</td>\n",
       "      <td>아이스티</td>\n",
       "    </tr>\n",
       "  </tbody>\n",
       "</table>\n",
       "</div>"
      ],
      "text/plain": [
       "    이름   1일차   2일차\n",
       "0  권보아  아이스티  카페라떼\n",
       "1  김나현  카페라떼  모카라떼\n",
       "2  송중기  카페라떼  아이스티\n",
       "3  진달래  모카라떼   NaN\n",
       "4  박효신   NaN  아이스티"
      ]
     },
     "execution_count": 30,
     "metadata": {},
     "output_type": "execute_result"
    }
   ],
   "source": [
    "df7.merge(df8,how = \"outer\")\n",
    "          #합집합 "
   ]
  },
  {
   "cell_type": "code",
   "execution_count": 32,
   "id": "56c0b03b",
   "metadata": {},
   "outputs": [
    {
     "data": {
      "text/html": [
       "<div>\n",
       "<style scoped>\n",
       "    .dataframe tbody tr th:only-of-type {\n",
       "        vertical-align: middle;\n",
       "    }\n",
       "\n",
       "    .dataframe tbody tr th {\n",
       "        vertical-align: top;\n",
       "    }\n",
       "\n",
       "    .dataframe thead th {\n",
       "        text-align: right;\n",
       "    }\n",
       "</style>\n",
       "<table border=\"1\" class=\"dataframe\">\n",
       "  <thead>\n",
       "    <tr style=\"text-align: right;\">\n",
       "      <th></th>\n",
       "      <th>이름</th>\n",
       "      <th>1일차</th>\n",
       "      <th>2일차</th>\n",
       "    </tr>\n",
       "  </thead>\n",
       "  <tbody>\n",
       "    <tr>\n",
       "      <th>0</th>\n",
       "      <td>권보아</td>\n",
       "      <td>아이스티</td>\n",
       "      <td>카페라떼</td>\n",
       "    </tr>\n",
       "    <tr>\n",
       "      <th>1</th>\n",
       "      <td>김나현</td>\n",
       "      <td>카페라떼</td>\n",
       "      <td>모카라떼</td>\n",
       "    </tr>\n",
       "    <tr>\n",
       "      <th>2</th>\n",
       "      <td>박효신</td>\n",
       "      <td>NaN</td>\n",
       "      <td>아이스티</td>\n",
       "    </tr>\n",
       "    <tr>\n",
       "      <th>3</th>\n",
       "      <td>송중기</td>\n",
       "      <td>카페라떼</td>\n",
       "      <td>아이스티</td>\n",
       "    </tr>\n",
       "  </tbody>\n",
       "</table>\n",
       "</div>"
      ],
      "text/plain": [
       "    이름   1일차   2일차\n",
       "0  권보아  아이스티  카페라떼\n",
       "1  김나현  카페라떼  모카라떼\n",
       "2  박효신   NaN  아이스티\n",
       "3  송중기  카페라떼  아이스티"
      ]
     },
     "execution_count": 32,
     "metadata": {},
     "output_type": "execute_result"
    }
   ],
   "source": [
    "df7.merge(df8, how =\"right\")\n",
    "# df8의 이름열을 축으로.."
   ]
  },
  {
   "cell_type": "markdown",
   "id": "4ede504b",
   "metadata": {},
   "source": [
    "# 6. column이 아닐때 Merge"
   ]
  },
  {
   "cell_type": "code",
   "execution_count": 37,
   "id": "0d151d5b",
   "metadata": {},
   "outputs": [
    {
     "data": {
      "text/html": [
       "<div>\n",
       "<style scoped>\n",
       "    .dataframe tbody tr th:only-of-type {\n",
       "        vertical-align: middle;\n",
       "    }\n",
       "\n",
       "    .dataframe tbody tr th {\n",
       "        vertical-align: top;\n",
       "    }\n",
       "\n",
       "    .dataframe thead th {\n",
       "        text-align: right;\n",
       "    }\n",
       "</style>\n",
       "<table border=\"1\" class=\"dataframe\">\n",
       "  <thead>\n",
       "    <tr style=\"text-align: right;\">\n",
       "      <th></th>\n",
       "      <th>이름</th>\n",
       "      <th>1일차</th>\n",
       "      <th>2일차</th>\n",
       "    </tr>\n",
       "  </thead>\n",
       "  <tbody>\n",
       "    <tr>\n",
       "      <th>0</th>\n",
       "      <td>권보아</td>\n",
       "      <td>아이스티</td>\n",
       "      <td>카페라떼</td>\n",
       "    </tr>\n",
       "    <tr>\n",
       "      <th>1</th>\n",
       "      <td>김나현</td>\n",
       "      <td>카페라떼</td>\n",
       "      <td>모카라떼</td>\n",
       "    </tr>\n",
       "    <tr>\n",
       "      <th>2</th>\n",
       "      <td>송중기</td>\n",
       "      <td>카페라떼</td>\n",
       "      <td>아이스티</td>\n",
       "    </tr>\n",
       "    <tr>\n",
       "      <th>3</th>\n",
       "      <td>진달래</td>\n",
       "      <td>모카라떼</td>\n",
       "      <td>NaN</td>\n",
       "    </tr>\n",
       "  </tbody>\n",
       "</table>\n",
       "</div>"
      ],
      "text/plain": [
       "    이름   1일차   2일차\n",
       "0  권보아  아이스티  카페라떼\n",
       "1  김나현  카페라떼  모카라떼\n",
       "2  송중기  카페라떼  아이스티\n",
       "3  진달래  모카라떼   NaN"
      ]
     },
     "execution_count": 37,
     "metadata": {},
     "output_type": "execute_result"
    }
   ],
   "source": [
    "df7.merge(df9.reset_index().rename(columns={\"index\": \"이름\"}), how= \"left\")"
   ]
  },
  {
   "cell_type": "code",
   "execution_count": null,
   "id": "e405fafb",
   "metadata": {},
   "outputs": [],
   "source": [
    ")"
   ]
  }
 ],
 "metadata": {
  "kernelspec": {
   "display_name": "Python 3 (ipykernel)",
   "language": "python",
   "name": "python3"
  },
  "language_info": {
   "codemirror_mode": {
    "name": "ipython",
    "version": 3
   },
   "file_extension": ".py",
   "mimetype": "text/x-python",
   "name": "python",
   "nbconvert_exporter": "python",
   "pygments_lexer": "ipython3",
   "version": "3.10.9"
  }
 },
 "nbformat": 4,
 "nbformat_minor": 5
}
