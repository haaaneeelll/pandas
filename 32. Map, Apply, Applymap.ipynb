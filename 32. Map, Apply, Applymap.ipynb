{
 "cells": [
  {
   "cell_type": "markdown",
   "id": "e197a665",
   "metadata": {},
   "source": [
    "# Map과 Apply의 차이"
   ]
  },
  {
   "cell_type": "code",
   "execution_count": 32,
   "id": "f1d1b725",
   "metadata": {},
   "outputs": [],
   "source": [
    "import pandas as pd\n",
    "a1 = [\"4등\",\"3등\",\"1등\",\"2등\"]\n",
    "a2 = [\"마시기\", \"커피사오기\", \"만원\", \"2만원\"]\n",
    "idx1 = [\"송중기\", \"김나현\", \"권보아\", \"박효신\"]\n",
    "col1 = [\"국어\", \"영어\", \"수학\"]\n",
    "val1 = [[82,81,77], [91,95,83], [78,72,88], [82,87,72]]\n",
    "s1 = pd.Series([\"80점\", \"75점\", \"77점\", \"60점\"], index=idx1)\n",
    "s2 = pd.Series(a1, index=idx1)\n",
    "s3 = pd.Series(a2, index=[\"1등\", \"2등\", \"3등\", \"4등\"])\n",
    "df1 = pd.DataFrame(val1, index=idx1, columns=col1)\n",
    "df2 = df1.applymap(lambda x: str(x) + \"점\").copy()"
   ]
  },
  {
   "cell_type": "code",
   "execution_count": 19,
   "id": "9a193bc2",
   "metadata": {},
   "outputs": [
    {
     "data": {
      "text/plain": [
       "송중기    80점\n",
       "김나현    75점\n",
       "권보아    77점\n",
       "박효신    60점\n",
       "dtype: object"
      ]
     },
     "execution_count": 19,
     "metadata": {},
     "output_type": "execute_result"
    }
   ],
   "source": [
    "s1\n",
    "# 80\"점\"이라고 values를 써서 계산을 못하네"
   ]
  },
  {
   "cell_type": "code",
   "execution_count": 9,
   "id": "33dfeab9",
   "metadata": {},
   "outputs": [
    {
     "data": {
      "text/plain": [
       "송중기    80\n",
       "김나현    75\n",
       "권보아    77\n",
       "박효신    60\n",
       "dtype: int64"
      ]
     },
     "execution_count": 9,
     "metadata": {},
     "output_type": "execute_result"
    }
   ],
   "source": [
    "s1.map(lambda x: int(x[0:2]))"
   ]
  },
  {
   "cell_type": "code",
   "execution_count": 12,
   "id": "b29e714f",
   "metadata": {},
   "outputs": [
    {
     "data": {
      "text/plain": [
       "송중기      2만원\n",
       "김나현       만원\n",
       "권보아      마시기\n",
       "박효신    커피사오기\n",
       "dtype: object"
      ]
     },
     "execution_count": 12,
     "metadata": {},
     "output_type": "execute_result"
    }
   ],
   "source": [
    "s2.map(s3)"
   ]
  },
  {
   "cell_type": "code",
   "execution_count": 23,
   "id": "8ed31357",
   "metadata": {},
   "outputs": [
    {
     "data": {
      "text/plain": [
       "송중기      2만원\n",
       "김나현       만원\n",
       "권보아      마시기\n",
       "박효신    커피사오기\n",
       "dtype: object"
      ]
     },
     "execution_count": 23,
     "metadata": {},
     "output_type": "execute_result"
    }
   ],
   "source": [
    "s2.apply(lambda x: s3.loc[x])"
   ]
  },
  {
   "cell_type": "markdown",
   "id": "99bb9423",
   "metadata": {},
   "source": [
    "## map과 apply의 공통점과 차이\n",
    "### 1. map과 apply는 함수의 결과로 맵핑할 때 쓸 수 있다.\n",
    "### 2. map은 시리즈를 대상으로만 사용할 수 있다.\n",
    "### 3. map은 딕셔너리나 시리즈의 ket값으로 바로 맵핑이 가능하다\n",
    "### 4. apply도 key값으로 바로 맵핑이 안된다는 것뿐 동일한 결과는 함수의 맵핑으로 얻을 수 있다.\n"
   ]
  },
  {
   "cell_type": "markdown",
   "id": "751e62de",
   "metadata": {},
   "source": [
    "# Apply와 ApplyMap의 차이"
   ]
  },
  {
   "cell_type": "code",
   "execution_count": 34,
   "id": "8656e3ba",
   "metadata": {},
   "outputs": [
    {
     "data": {
      "text/html": [
       "<div>\n",
       "<style scoped>\n",
       "    .dataframe tbody tr th:only-of-type {\n",
       "        vertical-align: middle;\n",
       "    }\n",
       "\n",
       "    .dataframe tbody tr th {\n",
       "        vertical-align: top;\n",
       "    }\n",
       "\n",
       "    .dataframe thead th {\n",
       "        text-align: right;\n",
       "    }\n",
       "</style>\n",
       "<table border=\"1\" class=\"dataframe\">\n",
       "  <thead>\n",
       "    <tr style=\"text-align: right;\">\n",
       "      <th></th>\n",
       "      <th>국어</th>\n",
       "      <th>영어</th>\n",
       "    </tr>\n",
       "  </thead>\n",
       "  <tbody>\n",
       "    <tr>\n",
       "      <th>송중기</th>\n",
       "      <td>82점</td>\n",
       "      <td>81점</td>\n",
       "    </tr>\n",
       "    <tr>\n",
       "      <th>김나현</th>\n",
       "      <td>91점</td>\n",
       "      <td>95점</td>\n",
       "    </tr>\n",
       "    <tr>\n",
       "      <th>권보아</th>\n",
       "      <td>78점</td>\n",
       "      <td>72점</td>\n",
       "    </tr>\n",
       "    <tr>\n",
       "      <th>박효신</th>\n",
       "      <td>82점</td>\n",
       "      <td>87점</td>\n",
       "    </tr>\n",
       "  </tbody>\n",
       "</table>\n",
       "</div>"
      ],
      "text/plain": [
       "      국어   영어\n",
       "송중기  82점  81점\n",
       "김나현  91점  95점\n",
       "권보아  78점  72점\n",
       "박효신  82점  87점"
      ]
     },
     "execution_count": 34,
     "metadata": {},
     "output_type": "execute_result"
    }
   ],
   "source": [
    "df2.apply(lambda x:x[:2], axis= 1)\n",
    "# 한줄에 슬라이싱을 한다."
   ]
  },
  {
   "cell_type": "code",
   "execution_count": 35,
   "id": "ba39bd90",
   "metadata": {},
   "outputs": [
    {
     "data": {
      "text/html": [
       "<div>\n",
       "<style scoped>\n",
       "    .dataframe tbody tr th:only-of-type {\n",
       "        vertical-align: middle;\n",
       "    }\n",
       "\n",
       "    .dataframe tbody tr th {\n",
       "        vertical-align: top;\n",
       "    }\n",
       "\n",
       "    .dataframe thead th {\n",
       "        text-align: right;\n",
       "    }\n",
       "</style>\n",
       "<table border=\"1\" class=\"dataframe\">\n",
       "  <thead>\n",
       "    <tr style=\"text-align: right;\">\n",
       "      <th></th>\n",
       "      <th>국어</th>\n",
       "      <th>영어</th>\n",
       "      <th>수학</th>\n",
       "    </tr>\n",
       "  </thead>\n",
       "  <tbody>\n",
       "    <tr>\n",
       "      <th>송중기</th>\n",
       "      <td>82</td>\n",
       "      <td>81</td>\n",
       "      <td>77</td>\n",
       "    </tr>\n",
       "    <tr>\n",
       "      <th>김나현</th>\n",
       "      <td>91</td>\n",
       "      <td>95</td>\n",
       "      <td>83</td>\n",
       "    </tr>\n",
       "    <tr>\n",
       "      <th>권보아</th>\n",
       "      <td>78</td>\n",
       "      <td>72</td>\n",
       "      <td>88</td>\n",
       "    </tr>\n",
       "    <tr>\n",
       "      <th>박효신</th>\n",
       "      <td>82</td>\n",
       "      <td>87</td>\n",
       "      <td>72</td>\n",
       "    </tr>\n",
       "  </tbody>\n",
       "</table>\n",
       "</div>"
      ],
      "text/plain": [
       "     국어  영어  수학\n",
       "송중기  82  81  77\n",
       "김나현  91  95  83\n",
       "권보아  78  72  88\n",
       "박효신  82  87  72"
      ]
     },
     "execution_count": 35,
     "metadata": {},
     "output_type": "execute_result"
    }
   ],
   "source": [
    "df2.applymap(lambda x:x[:2])"
   ]
  },
  {
   "cell_type": "code",
   "execution_count": 39,
   "id": "a285d708",
   "metadata": {},
   "outputs": [
    {
     "data": {
      "text/html": [
       "<div>\n",
       "<style scoped>\n",
       "    .dataframe tbody tr th:only-of-type {\n",
       "        vertical-align: middle;\n",
       "    }\n",
       "\n",
       "    .dataframe tbody tr th {\n",
       "        vertical-align: top;\n",
       "    }\n",
       "\n",
       "    .dataframe thead th {\n",
       "        text-align: right;\n",
       "    }\n",
       "</style>\n",
       "<table border=\"1\" class=\"dataframe\">\n",
       "  <thead>\n",
       "    <tr style=\"text-align: right;\">\n",
       "      <th></th>\n",
       "      <th>국어</th>\n",
       "      <th>영어</th>\n",
       "      <th>수학</th>\n",
       "    </tr>\n",
       "  </thead>\n",
       "  <tbody>\n",
       "    <tr>\n",
       "      <th>송중기</th>\n",
       "      <td>82</td>\n",
       "      <td>81</td>\n",
       "      <td>77</td>\n",
       "    </tr>\n",
       "    <tr>\n",
       "      <th>김나현</th>\n",
       "      <td>91</td>\n",
       "      <td>95</td>\n",
       "      <td>83</td>\n",
       "    </tr>\n",
       "    <tr>\n",
       "      <th>권보아</th>\n",
       "      <td>78</td>\n",
       "      <td>72</td>\n",
       "      <td>88</td>\n",
       "    </tr>\n",
       "    <tr>\n",
       "      <th>박효신</th>\n",
       "      <td>82</td>\n",
       "      <td>87</td>\n",
       "      <td>72</td>\n",
       "    </tr>\n",
       "  </tbody>\n",
       "</table>\n",
       "</div>"
      ],
      "text/plain": [
       "     국어  영어  수학\n",
       "송중기  82  81  77\n",
       "김나현  91  95  83\n",
       "권보아  78  72  88\n",
       "박효신  82  87  72"
      ]
     },
     "execution_count": 39,
     "metadata": {},
     "output_type": "execute_result"
    }
   ],
   "source": [
    "for i in df2.columns:\n",
    "    df2[i] = df2[i].apply(lambda x:x[:2])\n",
    "df2"
   ]
  },
  {
   "cell_type": "markdown",
   "id": "c610783b",
   "metadata": {},
   "source": [
    "applymap과 apply의 공통점과 차이\n",
    "1. applymap과 apply는 함수의 결과로 맵핑할 때 쓸 수 있다.\n",
    "2. applymap은 데이터프레임을 대상으로만 사용할 수 있다.\n",
    "3. applymap은 한칸한칸을 함수를 적용해 맵핑하고 apply는 한줄한줄을 함수를 적용해 맵핑한다.\n",
    "4. apply도 시리즈대상으로 한칸한칸 적용되므로 모든 열의 시리즈를 for문으로 적용하면 applymap처럼 적용가능. (axix= 0)"
   ]
  }
 ],
 "metadata": {
  "kernelspec": {
   "display_name": "Python 3 (ipykernel)",
   "language": "python",
   "name": "python3"
  },
  "language_info": {
   "codemirror_mode": {
    "name": "ipython",
    "version": 3
   },
   "file_extension": ".py",
   "mimetype": "text/x-python",
   "name": "python",
   "nbconvert_exporter": "python",
   "pygments_lexer": "ipython3",
   "version": "3.10.9"
  }
 },
 "nbformat": 4,
 "nbformat_minor": 5
}
